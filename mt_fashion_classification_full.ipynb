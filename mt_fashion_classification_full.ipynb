{
 "cells": [
  {
   "cell_type": "code",
   "execution_count": 1,
   "metadata": {},
   "outputs": [],
   "source": [
    "import os\n",
    "\n",
    "DATA_PATH = '/home/ud/datasets/fashion-dataset/fashion-dataset/'\n",
    "CKPT_PATH_TOP20 = 'ckpts/mt/best_val_top20.ckpt'\n",
    "CKPT_PATH_FT = 'ckpts/mt/best_val_ft.ckpt'"
   ]
  },
  {
   "cell_type": "code",
   "execution_count": 2,
   "metadata": {},
   "outputs": [],
   "source": [
    "from src.train import *"
   ]
  },
  {
   "cell_type": "markdown",
   "metadata": {},
   "source": [
    "## Train on top-20 classes"
   ]
  },
  {
   "cell_type": "code",
   "execution_count": 3,
   "metadata": {
    "scrolled": false
   },
   "outputs": [
    {
     "name": "stderr",
     "output_type": "stream",
     "text": [
      "INFO:fashion:Preprocessing data\n",
      "INFO:fashion:Cleaning csv\n",
      "INFO:fashion:Reading clean csv into df\n",
      "INFO:fashion:Splitting into test-train\n",
      "INFO:fashion:Sub-splitting based on top-20 classes\n",
      "INFO:fashion:Create maps for categoires\n",
      "INFO:fashion:Creating datasets\n",
      "INFO:fashion:Created train dataset with 14400 samples\n",
      "INFO:fashion:Created val dataset with 3600 samples\n",
      "INFO:fashion:Created test dataset with 15149 samples\n",
      "INFO:fashion:Creating dataloaders\n",
      "INFO:fashion:Creating model\n",
      "Downloading: \"https://download.pytorch.org/models/resnet50-19c8e357.pth\" to /home/ud/.cache/torch/checkpoints/resnet50-19c8e357.pth\n"
     ]
    },
    {
     "data": {
      "application/vnd.jupyter.widget-view+json": {
       "model_id": "e8d3fa3bc50a4da28970aaa311685d93",
       "version_major": 2,
       "version_minor": 0
      },
      "text/plain": [
       "HBox(children=(FloatProgress(value=0.0, max=102502400.0), HTML(value='')))"
      ]
     },
     "metadata": {},
     "output_type": "display_data"
    },
    {
     "name": "stdout",
     "output_type": "stream",
     "text": [
      "\n"
     ]
    },
    {
     "name": "stderr",
     "output_type": "stream",
     "text": [
      "INFO:fashion:Creating trainer\n"
     ]
    }
   ],
   "source": [
    "processor, trainer_top20, dataloaders_top20 = setup_top20(ckpt_path=CKPT_PATH_TOP20, data_path=DATA_PATH)"
   ]
  },
  {
   "cell_type": "code",
   "execution_count": 4,
   "metadata": {},
   "outputs": [
    {
     "name": "stdout",
     "output_type": "stream",
     "text": [
      "cuda\n",
      "True\n"
     ]
    }
   ],
   "source": [
    "print(trainer_top20.device)\n",
    "print(next(trainer_top20.model.parameters()).is_cuda)"
   ]
  },
  {
   "cell_type": "code",
   "execution_count": 5,
   "metadata": {
    "scrolled": true
   },
   "outputs": [
    {
     "name": "stderr",
     "output_type": "stream",
     "text": [
      "INFO:fashion:Running epoch 0/19\n",
      "INFO:fashion:----------\n",
      "INFO:fashion:Iterating through data for phase: train\n"
     ]
    },
    {
     "data": {
      "application/vnd.jupyter.widget-view+json": {
       "model_id": "2140789fc04d41a785f26c77a294b572",
       "version_major": 2,
       "version_minor": 0
      },
      "text/plain": [
       "HBox(children=(FloatProgress(value=0.0, max=225.0), HTML(value='')))"
      ]
     },
     "metadata": {},
     "output_type": "display_data"
    },
    {
     "name": "stderr",
     "output_type": "stream",
     "text": [
      "INFO:fashion:train Loss: 1.5275 Acc: 0.8253\n",
      "INFO:fashion:train Task2 Acc: 0.9597 Task3 Acc: 0.8797\n",
      "INFO:fashion:Iterating through data for phase: val\n"
     ]
    },
    {
     "name": "stdout",
     "output_type": "stream",
     "text": [
      "\n"
     ]
    },
    {
     "data": {
      "application/vnd.jupyter.widget-view+json": {
       "model_id": "8a8458d43d8a41e4aff4669f4b1a162a",
       "version_major": 2,
       "version_minor": 0
      },
      "text/plain": [
       "HBox(children=(FloatProgress(value=0.0, max=57.0), HTML(value='')))"
      ]
     },
     "metadata": {},
     "output_type": "display_data"
    },
    {
     "name": "stderr",
     "output_type": "stream",
     "text": [
      "INFO:fashion:val Loss: 0.5077 Acc: 0.9108\n",
      "INFO:fashion:val Task2 Acc: 0.9986 Task3 Acc: 0.9853\n",
      "INFO:fashion:--Saving checkpoint--\n"
     ]
    },
    {
     "name": "stdout",
     "output_type": "stream",
     "text": [
      "\n"
     ]
    },
    {
     "name": "stderr",
     "output_type": "stream",
     "text": [
      "INFO:fashion:Running epoch 1/19\n",
      "INFO:fashion:----------\n",
      "INFO:fashion:Iterating through data for phase: train\n"
     ]
    },
    {
     "data": {
      "application/vnd.jupyter.widget-view+json": {
       "model_id": "fccc9f8da46547e4a0875467972fb103",
       "version_major": 2,
       "version_minor": 0
      },
      "text/plain": [
       "HBox(children=(FloatProgress(value=0.0, max=225.0), HTML(value='')))"
      ]
     },
     "metadata": {},
     "output_type": "display_data"
    },
    {
     "name": "stderr",
     "output_type": "stream",
     "text": [
      "INFO:fashion:train Loss: 0.4206 Acc: 0.9261\n",
      "INFO:fashion:train Task2 Acc: 0.9975 Task3 Acc: 0.9857\n",
      "INFO:fashion:Iterating through data for phase: val\n"
     ]
    },
    {
     "name": "stdout",
     "output_type": "stream",
     "text": [
      "\n"
     ]
    },
    {
     "data": {
      "application/vnd.jupyter.widget-view+json": {
       "model_id": "b60a7a80dcad49d689e6a63b54417efe",
       "version_major": 2,
       "version_minor": 0
      },
      "text/plain": [
       "HBox(children=(FloatProgress(value=0.0, max=57.0), HTML(value='')))"
      ]
     },
     "metadata": {},
     "output_type": "display_data"
    },
    {
     "name": "stderr",
     "output_type": "stream",
     "text": [
      "INFO:fashion:val Loss: 0.3763 Acc: 0.9300\n",
      "INFO:fashion:val Task2 Acc: 0.9992 Task3 Acc: 0.9850\n",
      "INFO:fashion:--Saving checkpoint--\n"
     ]
    },
    {
     "name": "stdout",
     "output_type": "stream",
     "text": [
      "\n"
     ]
    },
    {
     "name": "stderr",
     "output_type": "stream",
     "text": [
      "INFO:fashion:Running epoch 2/19\n",
      "INFO:fashion:----------\n",
      "INFO:fashion:Iterating through data for phase: train\n"
     ]
    },
    {
     "data": {
      "application/vnd.jupyter.widget-view+json": {
       "model_id": "60d8d6e9a7654822a5ccc29ed9bf3d3a",
       "version_major": 2,
       "version_minor": 0
      },
      "text/plain": [
       "HBox(children=(FloatProgress(value=0.0, max=225.0), HTML(value='')))"
      ]
     },
     "metadata": {},
     "output_type": "display_data"
    },
    {
     "name": "stderr",
     "output_type": "stream",
     "text": [
      "INFO:fashion:train Loss: 0.3197 Acc: 0.9399\n",
      "INFO:fashion:train Task2 Acc: 0.9980 Task3 Acc: 0.9903\n",
      "INFO:fashion:Iterating through data for phase: val\n"
     ]
    },
    {
     "name": "stdout",
     "output_type": "stream",
     "text": [
      "\n"
     ]
    },
    {
     "data": {
      "application/vnd.jupyter.widget-view+json": {
       "model_id": "8731edd6666a467e98145021ce4bba11",
       "version_major": 2,
       "version_minor": 0
      },
      "text/plain": [
       "HBox(children=(FloatProgress(value=0.0, max=57.0), HTML(value='')))"
      ]
     },
     "metadata": {},
     "output_type": "display_data"
    },
    {
     "name": "stderr",
     "output_type": "stream",
     "text": [
      "INFO:fashion:val Loss: 0.4088 Acc: 0.9286\n",
      "INFO:fashion:val Task2 Acc: 0.9989 Task3 Acc: 0.9850\n",
      "INFO:fashion:Running epoch 3/19\n",
      "INFO:fashion:----------\n",
      "INFO:fashion:Iterating through data for phase: train\n"
     ]
    },
    {
     "name": "stdout",
     "output_type": "stream",
     "text": [
      "\n"
     ]
    },
    {
     "data": {
      "application/vnd.jupyter.widget-view+json": {
       "model_id": "14c7561e48aa44b6977cca4aa67dc6c4",
       "version_major": 2,
       "version_minor": 0
      },
      "text/plain": [
       "HBox(children=(FloatProgress(value=0.0, max=225.0), HTML(value='')))"
      ]
     },
     "metadata": {},
     "output_type": "display_data"
    },
    {
     "name": "stderr",
     "output_type": "stream",
     "text": [
      "INFO:fashion:train Loss: 0.2561 Acc: 0.9522\n",
      "INFO:fashion:train Task2 Acc: 0.9985 Task3 Acc: 0.9923\n",
      "INFO:fashion:Iterating through data for phase: val\n"
     ]
    },
    {
     "name": "stdout",
     "output_type": "stream",
     "text": [
      "\n"
     ]
    },
    {
     "data": {
      "application/vnd.jupyter.widget-view+json": {
       "model_id": "3d9dace84ee5436c9fe09aed4a10eb6f",
       "version_major": 2,
       "version_minor": 0
      },
      "text/plain": [
       "HBox(children=(FloatProgress(value=0.0, max=57.0), HTML(value='')))"
      ]
     },
     "metadata": {},
     "output_type": "display_data"
    },
    {
     "name": "stderr",
     "output_type": "stream",
     "text": [
      "INFO:fashion:val Loss: 0.3276 Acc: 0.9383\n",
      "INFO:fashion:val Task2 Acc: 0.9992 Task3 Acc: 0.9903\n",
      "INFO:fashion:--Saving checkpoint--\n"
     ]
    },
    {
     "name": "stdout",
     "output_type": "stream",
     "text": [
      "\n"
     ]
    },
    {
     "name": "stderr",
     "output_type": "stream",
     "text": [
      "INFO:fashion:Running epoch 4/19\n",
      "INFO:fashion:----------\n",
      "INFO:fashion:Iterating through data for phase: train\n"
     ]
    },
    {
     "data": {
      "application/vnd.jupyter.widget-view+json": {
       "model_id": "d0705c61615b478f955f50905b4efc1e",
       "version_major": 2,
       "version_minor": 0
      },
      "text/plain": [
       "HBox(children=(FloatProgress(value=0.0, max=225.0), HTML(value='')))"
      ]
     },
     "metadata": {},
     "output_type": "display_data"
    },
    {
     "name": "stderr",
     "output_type": "stream",
     "text": [
      "INFO:fashion:train Loss: 0.1886 Acc: 0.9615\n",
      "INFO:fashion:train Task2 Acc: 0.9986 Task3 Acc: 0.9948\n",
      "INFO:fashion:Iterating through data for phase: val\n"
     ]
    },
    {
     "name": "stdout",
     "output_type": "stream",
     "text": [
      "\n"
     ]
    },
    {
     "data": {
      "application/vnd.jupyter.widget-view+json": {
       "model_id": "9f4480b6743d4b3abd356106acd3fd92",
       "version_major": 2,
       "version_minor": 0
      },
      "text/plain": [
       "HBox(children=(FloatProgress(value=0.0, max=57.0), HTML(value='')))"
      ]
     },
     "metadata": {},
     "output_type": "display_data"
    },
    {
     "name": "stderr",
     "output_type": "stream",
     "text": [
      "INFO:fashion:val Loss: 0.3136 Acc: 0.9478\n",
      "INFO:fashion:val Task2 Acc: 0.9994 Task3 Acc: 0.9900\n",
      "INFO:fashion:--Saving checkpoint--\n"
     ]
    },
    {
     "name": "stdout",
     "output_type": "stream",
     "text": [
      "\n"
     ]
    },
    {
     "name": "stderr",
     "output_type": "stream",
     "text": [
      "INFO:fashion:Running epoch 5/19\n",
      "INFO:fashion:----------\n",
      "INFO:fashion:Iterating through data for phase: train\n"
     ]
    },
    {
     "data": {
      "application/vnd.jupyter.widget-view+json": {
       "model_id": "591ec3d6f80244ff9d102b08e02ecdf0",
       "version_major": 2,
       "version_minor": 0
      },
      "text/plain": [
       "HBox(children=(FloatProgress(value=0.0, max=225.0), HTML(value='')))"
      ]
     },
     "metadata": {},
     "output_type": "display_data"
    },
    {
     "name": "stderr",
     "output_type": "stream",
     "text": [
      "INFO:fashion:train Loss: 0.1651 Acc: 0.9668\n",
      "INFO:fashion:train Task2 Acc: 0.9991 Task3 Acc: 0.9958\n",
      "INFO:fashion:Iterating through data for phase: val\n"
     ]
    },
    {
     "name": "stdout",
     "output_type": "stream",
     "text": [
      "\n"
     ]
    },
    {
     "data": {
      "application/vnd.jupyter.widget-view+json": {
       "model_id": "6b16a1021b654fc0bc6cb750a5bb5068",
       "version_major": 2,
       "version_minor": 0
      },
      "text/plain": [
       "HBox(children=(FloatProgress(value=0.0, max=57.0), HTML(value='')))"
      ]
     },
     "metadata": {},
     "output_type": "display_data"
    },
    {
     "name": "stderr",
     "output_type": "stream",
     "text": [
      "INFO:fashion:val Loss: 0.3041 Acc: 0.9500\n",
      "INFO:fashion:val Task2 Acc: 0.9994 Task3 Acc: 0.9900\n",
      "INFO:fashion:--Saving checkpoint--\n"
     ]
    },
    {
     "name": "stdout",
     "output_type": "stream",
     "text": [
      "\n"
     ]
    },
    {
     "name": "stderr",
     "output_type": "stream",
     "text": [
      "INFO:fashion:Running epoch 6/19\n",
      "INFO:fashion:----------\n",
      "INFO:fashion:Iterating through data for phase: train\n"
     ]
    },
    {
     "data": {
      "application/vnd.jupyter.widget-view+json": {
       "model_id": "69882560282841e4a3f27e272c5ddafb",
       "version_major": 2,
       "version_minor": 0
      },
      "text/plain": [
       "HBox(children=(FloatProgress(value=0.0, max=225.0), HTML(value='')))"
      ]
     },
     "metadata": {},
     "output_type": "display_data"
    },
    {
     "name": "stderr",
     "output_type": "stream",
     "text": [
      "INFO:fashion:train Loss: 0.1541 Acc: 0.9705\n",
      "INFO:fashion:train Task2 Acc: 0.9992 Task3 Acc: 0.9960\n",
      "INFO:fashion:Iterating through data for phase: val\n"
     ]
    },
    {
     "name": "stdout",
     "output_type": "stream",
     "text": [
      "\n"
     ]
    },
    {
     "data": {
      "application/vnd.jupyter.widget-view+json": {
       "model_id": "76b6f45601e84dc48554e01215f16e0f",
       "version_major": 2,
       "version_minor": 0
      },
      "text/plain": [
       "HBox(children=(FloatProgress(value=0.0, max=57.0), HTML(value='')))"
      ]
     },
     "metadata": {},
     "output_type": "display_data"
    },
    {
     "name": "stderr",
     "output_type": "stream",
     "text": [
      "INFO:fashion:val Loss: 0.3027 Acc: 0.9497\n",
      "INFO:fashion:val Task2 Acc: 0.9994 Task3 Acc: 0.9894\n",
      "INFO:fashion:Running epoch 7/19\n",
      "INFO:fashion:----------\n",
      "INFO:fashion:Iterating through data for phase: train\n"
     ]
    },
    {
     "name": "stdout",
     "output_type": "stream",
     "text": [
      "\n"
     ]
    },
    {
     "data": {
      "application/vnd.jupyter.widget-view+json": {
       "model_id": "8c877bfdcc0a497a823991afb450d1ee",
       "version_major": 2,
       "version_minor": 0
      },
      "text/plain": [
       "HBox(children=(FloatProgress(value=0.0, max=225.0), HTML(value='')))"
      ]
     },
     "metadata": {},
     "output_type": "display_data"
    },
    {
     "name": "stderr",
     "output_type": "stream",
     "text": [
      "INFO:fashion:train Loss: 0.1428 Acc: 0.9728\n",
      "INFO:fashion:train Task2 Acc: 0.9988 Task3 Acc: 0.9962\n",
      "INFO:fashion:Iterating through data for phase: val\n"
     ]
    },
    {
     "name": "stdout",
     "output_type": "stream",
     "text": [
      "\n"
     ]
    },
    {
     "data": {
      "application/vnd.jupyter.widget-view+json": {
       "model_id": "39f47f91ff114456a3117df34a15191c",
       "version_major": 2,
       "version_minor": 0
      },
      "text/plain": [
       "HBox(children=(FloatProgress(value=0.0, max=57.0), HTML(value='')))"
      ]
     },
     "metadata": {},
     "output_type": "display_data"
    },
    {
     "name": "stderr",
     "output_type": "stream",
     "text": [
      "INFO:fashion:val Loss: 0.3016 Acc: 0.9503\n",
      "INFO:fashion:val Task2 Acc: 0.9994 Task3 Acc: 0.9911\n",
      "INFO:fashion:--Saving checkpoint--\n"
     ]
    },
    {
     "name": "stdout",
     "output_type": "stream",
     "text": [
      "\n"
     ]
    },
    {
     "name": "stderr",
     "output_type": "stream",
     "text": [
      "INFO:fashion:Running epoch 8/19\n",
      "INFO:fashion:----------\n",
      "INFO:fashion:Iterating through data for phase: train\n"
     ]
    },
    {
     "data": {
      "application/vnd.jupyter.widget-view+json": {
       "model_id": "4a029f9df74541b2ab8414ec6be206dc",
       "version_major": 2,
       "version_minor": 0
      },
      "text/plain": [
       "HBox(children=(FloatProgress(value=0.0, max=225.0), HTML(value='')))"
      ]
     },
     "metadata": {},
     "output_type": "display_data"
    },
    {
     "name": "stderr",
     "output_type": "stream",
     "text": [
      "INFO:fashion:train Loss: 0.1313 Acc: 0.9744\n",
      "INFO:fashion:train Task2 Acc: 0.9992 Task3 Acc: 0.9973\n",
      "INFO:fashion:Iterating through data for phase: val\n"
     ]
    },
    {
     "name": "stdout",
     "output_type": "stream",
     "text": [
      "\n"
     ]
    },
    {
     "data": {
      "application/vnd.jupyter.widget-view+json": {
       "model_id": "4324ee7475cf4da0ad404a5e394b8079",
       "version_major": 2,
       "version_minor": 0
      },
      "text/plain": [
       "HBox(children=(FloatProgress(value=0.0, max=57.0), HTML(value='')))"
      ]
     },
     "metadata": {},
     "output_type": "display_data"
    },
    {
     "name": "stderr",
     "output_type": "stream",
     "text": [
      "INFO:fashion:val Loss: 0.2979 Acc: 0.9508\n",
      "INFO:fashion:val Task2 Acc: 0.9992 Task3 Acc: 0.9911\n",
      "INFO:fashion:--Saving checkpoint--\n"
     ]
    },
    {
     "name": "stdout",
     "output_type": "stream",
     "text": [
      "\n"
     ]
    },
    {
     "name": "stderr",
     "output_type": "stream",
     "text": [
      "INFO:fashion:Running epoch 9/19\n",
      "INFO:fashion:----------\n",
      "INFO:fashion:Iterating through data for phase: train\n"
     ]
    },
    {
     "data": {
      "application/vnd.jupyter.widget-view+json": {
       "model_id": "38406c7aacaf411eb6cc43dcce58f48d",
       "version_major": 2,
       "version_minor": 0
      },
      "text/plain": [
       "HBox(children=(FloatProgress(value=0.0, max=225.0), HTML(value='')))"
      ]
     },
     "metadata": {},
     "output_type": "display_data"
    },
    {
     "name": "stderr",
     "output_type": "stream",
     "text": [
      "INFO:fashion:train Loss: 0.1329 Acc: 0.9743\n",
      "INFO:fashion:train Task2 Acc: 0.9989 Task3 Acc: 0.9965\n",
      "INFO:fashion:Iterating through data for phase: val\n"
     ]
    },
    {
     "name": "stdout",
     "output_type": "stream",
     "text": [
      "\n"
     ]
    },
    {
     "data": {
      "application/vnd.jupyter.widget-view+json": {
       "model_id": "6356010f11aa4c0cbddb8b189d85e7ec",
       "version_major": 2,
       "version_minor": 0
      },
      "text/plain": [
       "HBox(children=(FloatProgress(value=0.0, max=57.0), HTML(value='')))"
      ]
     },
     "metadata": {},
     "output_type": "display_data"
    },
    {
     "name": "stderr",
     "output_type": "stream",
     "text": [
      "INFO:fashion:val Loss: 0.2972 Acc: 0.9517\n",
      "INFO:fashion:val Task2 Acc: 0.9992 Task3 Acc: 0.9911\n",
      "INFO:fashion:--Saving checkpoint--\n"
     ]
    },
    {
     "name": "stdout",
     "output_type": "stream",
     "text": [
      "\n"
     ]
    },
    {
     "name": "stderr",
     "output_type": "stream",
     "text": [
      "INFO:fashion:Running epoch 10/19\n",
      "INFO:fashion:----------\n",
      "INFO:fashion:Iterating through data for phase: train\n"
     ]
    },
    {
     "data": {
      "application/vnd.jupyter.widget-view+json": {
       "model_id": "516a2b88f21d455781e4fc528368d2ba",
       "version_major": 2,
       "version_minor": 0
      },
      "text/plain": [
       "HBox(children=(FloatProgress(value=0.0, max=225.0), HTML(value='')))"
      ]
     },
     "metadata": {},
     "output_type": "display_data"
    },
    {
     "name": "stderr",
     "output_type": "stream",
     "text": [
      "INFO:fashion:train Loss: 0.1252 Acc: 0.9749\n",
      "INFO:fashion:train Task2 Acc: 0.9990 Task3 Acc: 0.9971\n",
      "INFO:fashion:Iterating through data for phase: val\n"
     ]
    },
    {
     "name": "stdout",
     "output_type": "stream",
     "text": [
      "\n"
     ]
    },
    {
     "data": {
      "application/vnd.jupyter.widget-view+json": {
       "model_id": "a04161b36c324d4e94738d263485c9c8",
       "version_major": 2,
       "version_minor": 0
      },
      "text/plain": [
       "HBox(children=(FloatProgress(value=0.0, max=57.0), HTML(value='')))"
      ]
     },
     "metadata": {},
     "output_type": "display_data"
    },
    {
     "name": "stderr",
     "output_type": "stream",
     "text": [
      "INFO:fashion:val Loss: 0.2968 Acc: 0.9517\n",
      "INFO:fashion:val Task2 Acc: 0.9992 Task3 Acc: 0.9911\n",
      "INFO:fashion:Running epoch 11/19\n",
      "INFO:fashion:----------\n",
      "INFO:fashion:Iterating through data for phase: train\n"
     ]
    },
    {
     "name": "stdout",
     "output_type": "stream",
     "text": [
      "\n"
     ]
    },
    {
     "data": {
      "application/vnd.jupyter.widget-view+json": {
       "model_id": "a4ba09d51a184439b911672eda5623b7",
       "version_major": 2,
       "version_minor": 0
      },
      "text/plain": [
       "HBox(children=(FloatProgress(value=0.0, max=225.0), HTML(value='')))"
      ]
     },
     "metadata": {},
     "output_type": "display_data"
    },
    {
     "name": "stderr",
     "output_type": "stream",
     "text": [
      "INFO:fashion:train Loss: 0.1230 Acc: 0.9744\n",
      "INFO:fashion:train Task2 Acc: 0.9989 Task3 Acc: 0.9976\n",
      "INFO:fashion:Iterating through data for phase: val\n"
     ]
    },
    {
     "name": "stdout",
     "output_type": "stream",
     "text": [
      "\n"
     ]
    },
    {
     "data": {
      "application/vnd.jupyter.widget-view+json": {
       "model_id": "e6e9efa0c1ca4a98b299eef6cf44b923",
       "version_major": 2,
       "version_minor": 0
      },
      "text/plain": [
       "HBox(children=(FloatProgress(value=0.0, max=57.0), HTML(value='')))"
      ]
     },
     "metadata": {},
     "output_type": "display_data"
    },
    {
     "name": "stderr",
     "output_type": "stream",
     "text": [
      "INFO:fashion:val Loss: 0.2958 Acc: 0.9506\n",
      "INFO:fashion:val Task2 Acc: 0.9994 Task3 Acc: 0.9914\n",
      "INFO:fashion:Running epoch 12/19\n",
      "INFO:fashion:----------\n",
      "INFO:fashion:Iterating through data for phase: train\n"
     ]
    },
    {
     "name": "stdout",
     "output_type": "stream",
     "text": [
      "\n"
     ]
    },
    {
     "data": {
      "application/vnd.jupyter.widget-view+json": {
       "model_id": "5e5c6328210840e9a4d29955bbac93e3",
       "version_major": 2,
       "version_minor": 0
      },
      "text/plain": [
       "HBox(children=(FloatProgress(value=0.0, max=225.0), HTML(value='')))"
      ]
     },
     "metadata": {},
     "output_type": "display_data"
    },
    {
     "name": "stderr",
     "output_type": "stream",
     "text": [
      "INFO:fashion:train Loss: 0.1212 Acc: 0.9756\n",
      "INFO:fashion:train Task2 Acc: 0.9992 Task3 Acc: 0.9974\n",
      "INFO:fashion:Iterating through data for phase: val\n"
     ]
    },
    {
     "name": "stdout",
     "output_type": "stream",
     "text": [
      "\n"
     ]
    },
    {
     "data": {
      "application/vnd.jupyter.widget-view+json": {
       "model_id": "297146901e374b14bc8492dd8eeaa4ba",
       "version_major": 2,
       "version_minor": 0
      },
      "text/plain": [
       "HBox(children=(FloatProgress(value=0.0, max=57.0), HTML(value='')))"
      ]
     },
     "metadata": {},
     "output_type": "display_data"
    },
    {
     "name": "stderr",
     "output_type": "stream",
     "text": [
      "INFO:fashion:val Loss: 0.2938 Acc: 0.9525\n",
      "INFO:fashion:val Task2 Acc: 0.9992 Task3 Acc: 0.9919\n",
      "INFO:fashion:--Saving checkpoint--\n"
     ]
    },
    {
     "name": "stdout",
     "output_type": "stream",
     "text": [
      "\n"
     ]
    },
    {
     "name": "stderr",
     "output_type": "stream",
     "text": [
      "INFO:fashion:Running epoch 13/19\n",
      "INFO:fashion:----------\n",
      "INFO:fashion:Iterating through data for phase: train\n"
     ]
    },
    {
     "data": {
      "application/vnd.jupyter.widget-view+json": {
       "model_id": "4c60674f924a47908fcef78b0e903142",
       "version_major": 2,
       "version_minor": 0
      },
      "text/plain": [
       "HBox(children=(FloatProgress(value=0.0, max=225.0), HTML(value='')))"
      ]
     },
     "metadata": {},
     "output_type": "display_data"
    },
    {
     "name": "stderr",
     "output_type": "stream",
     "text": [
      "INFO:fashion:train Loss: 0.1162 Acc: 0.9766\n",
      "INFO:fashion:train Task2 Acc: 0.9990 Task3 Acc: 0.9973\n",
      "INFO:fashion:Iterating through data for phase: val\n"
     ]
    },
    {
     "name": "stdout",
     "output_type": "stream",
     "text": [
      "\n"
     ]
    },
    {
     "data": {
      "application/vnd.jupyter.widget-view+json": {
       "model_id": "d0db6c38d9714da3b4c5bf1ee22f9164",
       "version_major": 2,
       "version_minor": 0
      },
      "text/plain": [
       "HBox(children=(FloatProgress(value=0.0, max=57.0), HTML(value='')))"
      ]
     },
     "metadata": {},
     "output_type": "display_data"
    },
    {
     "name": "stderr",
     "output_type": "stream",
     "text": [
      "INFO:fashion:val Loss: 0.2874 Acc: 0.9533\n",
      "INFO:fashion:val Task2 Acc: 0.9992 Task3 Acc: 0.9917\n",
      "INFO:fashion:--Saving checkpoint--\n"
     ]
    },
    {
     "name": "stdout",
     "output_type": "stream",
     "text": [
      "\n"
     ]
    },
    {
     "name": "stderr",
     "output_type": "stream",
     "text": [
      "INFO:fashion:Running epoch 14/19\n",
      "INFO:fashion:----------\n",
      "INFO:fashion:Iterating through data for phase: train\n"
     ]
    },
    {
     "data": {
      "application/vnd.jupyter.widget-view+json": {
       "model_id": "0cf18f9563bb4b918e0964fbc28b47c5",
       "version_major": 2,
       "version_minor": 0
      },
      "text/plain": [
       "HBox(children=(FloatProgress(value=0.0, max=225.0), HTML(value='')))"
      ]
     },
     "metadata": {},
     "output_type": "display_data"
    },
    {
     "name": "stderr",
     "output_type": "stream",
     "text": [
      "INFO:fashion:train Loss: 0.1238 Acc: 0.9751\n",
      "INFO:fashion:train Task2 Acc: 0.9986 Task3 Acc: 0.9971\n",
      "INFO:fashion:Iterating through data for phase: val\n"
     ]
    },
    {
     "name": "stdout",
     "output_type": "stream",
     "text": [
      "\n"
     ]
    },
    {
     "data": {
      "application/vnd.jupyter.widget-view+json": {
       "model_id": "88206ca6d3f942329f5e1e49bdb30b72",
       "version_major": 2,
       "version_minor": 0
      },
      "text/plain": [
       "HBox(children=(FloatProgress(value=0.0, max=57.0), HTML(value='')))"
      ]
     },
     "metadata": {},
     "output_type": "display_data"
    },
    {
     "name": "stderr",
     "output_type": "stream",
     "text": [
      "INFO:fashion:val Loss: 0.2937 Acc: 0.9528\n",
      "INFO:fashion:val Task2 Acc: 0.9994 Task3 Acc: 0.9911\n",
      "INFO:fashion:Running epoch 15/19\n",
      "INFO:fashion:----------\n",
      "INFO:fashion:Iterating through data for phase: train\n"
     ]
    },
    {
     "name": "stdout",
     "output_type": "stream",
     "text": [
      "\n"
     ]
    },
    {
     "data": {
      "application/vnd.jupyter.widget-view+json": {
       "model_id": "da0754717337492c932f466ee9c161bb",
       "version_major": 2,
       "version_minor": 0
      },
      "text/plain": [
       "HBox(children=(FloatProgress(value=0.0, max=225.0), HTML(value='')))"
      ]
     },
     "metadata": {},
     "output_type": "display_data"
    },
    {
     "name": "stderr",
     "output_type": "stream",
     "text": [
      "INFO:fashion:train Loss: 0.1189 Acc: 0.9764\n",
      "INFO:fashion:train Task2 Acc: 0.9991 Task3 Acc: 0.9974\n",
      "INFO:fashion:Iterating through data for phase: val\n"
     ]
    },
    {
     "name": "stdout",
     "output_type": "stream",
     "text": [
      "\n"
     ]
    },
    {
     "data": {
      "application/vnd.jupyter.widget-view+json": {
       "model_id": "e008afc8086541f8b5824ceb6d86802a",
       "version_major": 2,
       "version_minor": 0
      },
      "text/plain": [
       "HBox(children=(FloatProgress(value=0.0, max=57.0), HTML(value='')))"
      ]
     },
     "metadata": {},
     "output_type": "display_data"
    },
    {
     "name": "stderr",
     "output_type": "stream",
     "text": [
      "INFO:fashion:val Loss: 0.2920 Acc: 0.9483\n",
      "INFO:fashion:val Task2 Acc: 0.9994 Task3 Acc: 0.9919\n",
      "INFO:fashion:Running epoch 16/19\n",
      "INFO:fashion:----------\n",
      "INFO:fashion:Iterating through data for phase: train\n"
     ]
    },
    {
     "name": "stdout",
     "output_type": "stream",
     "text": [
      "\n"
     ]
    },
    {
     "data": {
      "application/vnd.jupyter.widget-view+json": {
       "model_id": "c6a82f2e5d3c43a3ab946ab9401630cc",
       "version_major": 2,
       "version_minor": 0
      },
      "text/plain": [
       "HBox(children=(FloatProgress(value=0.0, max=225.0), HTML(value='')))"
      ]
     },
     "metadata": {},
     "output_type": "display_data"
    },
    {
     "name": "stderr",
     "output_type": "stream",
     "text": [
      "INFO:fashion:train Loss: 0.1176 Acc: 0.9778\n",
      "INFO:fashion:train Task2 Acc: 0.9989 Task3 Acc: 0.9974\n",
      "INFO:fashion:Iterating through data for phase: val\n"
     ]
    },
    {
     "name": "stdout",
     "output_type": "stream",
     "text": [
      "\n"
     ]
    },
    {
     "data": {
      "application/vnd.jupyter.widget-view+json": {
       "model_id": "357989f300954f09a4e6a6d5ae6e526d",
       "version_major": 2,
       "version_minor": 0
      },
      "text/plain": [
       "HBox(children=(FloatProgress(value=0.0, max=57.0), HTML(value='')))"
      ]
     },
     "metadata": {},
     "output_type": "display_data"
    },
    {
     "name": "stderr",
     "output_type": "stream",
     "text": [
      "INFO:fashion:val Loss: 0.2973 Acc: 0.9519\n",
      "INFO:fashion:val Task2 Acc: 0.9994 Task3 Acc: 0.9914\n",
      "INFO:fashion:Running epoch 17/19\n",
      "INFO:fashion:----------\n",
      "INFO:fashion:Iterating through data for phase: train\n"
     ]
    },
    {
     "name": "stdout",
     "output_type": "stream",
     "text": [
      "\n"
     ]
    },
    {
     "data": {
      "application/vnd.jupyter.widget-view+json": {
       "model_id": "a79c49f76aac4a48a5e31367bf47617c",
       "version_major": 2,
       "version_minor": 0
      },
      "text/plain": [
       "HBox(children=(FloatProgress(value=0.0, max=225.0), HTML(value='')))"
      ]
     },
     "metadata": {},
     "output_type": "display_data"
    },
    {
     "name": "stderr",
     "output_type": "stream",
     "text": [
      "INFO:fashion:train Loss: 0.1246 Acc: 0.9751\n",
      "INFO:fashion:train Task2 Acc: 0.9990 Task3 Acc: 0.9972\n",
      "INFO:fashion:Iterating through data for phase: val\n"
     ]
    },
    {
     "name": "stdout",
     "output_type": "stream",
     "text": [
      "\n"
     ]
    },
    {
     "data": {
      "application/vnd.jupyter.widget-view+json": {
       "model_id": "578bc7d256484dcba7127618c91cf949",
       "version_major": 2,
       "version_minor": 0
      },
      "text/plain": [
       "HBox(children=(FloatProgress(value=0.0, max=57.0), HTML(value='')))"
      ]
     },
     "metadata": {},
     "output_type": "display_data"
    },
    {
     "name": "stderr",
     "output_type": "stream",
     "text": [
      "INFO:fashion:val Loss: 0.2964 Acc: 0.9503\n",
      "INFO:fashion:val Task2 Acc: 0.9992 Task3 Acc: 0.9919\n",
      "INFO:fashion:Running epoch 18/19\n",
      "INFO:fashion:----------\n",
      "INFO:fashion:Iterating through data for phase: train\n"
     ]
    },
    {
     "name": "stdout",
     "output_type": "stream",
     "text": [
      "\n"
     ]
    },
    {
     "data": {
      "application/vnd.jupyter.widget-view+json": {
       "model_id": "f1af7b892e8742a99062e0e425a2c56b",
       "version_major": 2,
       "version_minor": 0
      },
      "text/plain": [
       "HBox(children=(FloatProgress(value=0.0, max=225.0), HTML(value='')))"
      ]
     },
     "metadata": {},
     "output_type": "display_data"
    },
    {
     "name": "stderr",
     "output_type": "stream",
     "text": [
      "INFO:fashion:train Loss: 0.1262 Acc: 0.9742\n",
      "INFO:fashion:train Task2 Acc: 0.9988 Task3 Acc: 0.9970\n",
      "INFO:fashion:Iterating through data for phase: val\n"
     ]
    },
    {
     "name": "stdout",
     "output_type": "stream",
     "text": [
      "\n"
     ]
    },
    {
     "data": {
      "application/vnd.jupyter.widget-view+json": {
       "model_id": "32a4c69876564543ade2a534d47f5e7f",
       "version_major": 2,
       "version_minor": 0
      },
      "text/plain": [
       "HBox(children=(FloatProgress(value=0.0, max=57.0), HTML(value='')))"
      ]
     },
     "metadata": {},
     "output_type": "display_data"
    },
    {
     "name": "stderr",
     "output_type": "stream",
     "text": [
      "INFO:fashion:val Loss: 0.2997 Acc: 0.9544\n",
      "INFO:fashion:val Task2 Acc: 0.9994 Task3 Acc: 0.9914\n",
      "INFO:fashion:--Saving checkpoint--\n"
     ]
    },
    {
     "name": "stdout",
     "output_type": "stream",
     "text": [
      "\n"
     ]
    },
    {
     "name": "stderr",
     "output_type": "stream",
     "text": [
      "INFO:fashion:Running epoch 19/19\n",
      "INFO:fashion:----------\n",
      "INFO:fashion:Iterating through data for phase: train\n"
     ]
    },
    {
     "data": {
      "application/vnd.jupyter.widget-view+json": {
       "model_id": "60b889c4d02f4de39228bb28593244c6",
       "version_major": 2,
       "version_minor": 0
      },
      "text/plain": [
       "HBox(children=(FloatProgress(value=0.0, max=225.0), HTML(value='')))"
      ]
     },
     "metadata": {},
     "output_type": "display_data"
    },
    {
     "name": "stderr",
     "output_type": "stream",
     "text": [
      "INFO:fashion:train Loss: 0.1241 Acc: 0.9743\n",
      "INFO:fashion:train Task2 Acc: 0.9990 Task3 Acc: 0.9978\n",
      "INFO:fashion:Iterating through data for phase: val\n"
     ]
    },
    {
     "name": "stdout",
     "output_type": "stream",
     "text": [
      "\n"
     ]
    },
    {
     "data": {
      "application/vnd.jupyter.widget-view+json": {
       "model_id": "5652449baf3c49d3af78e4a1290edd55",
       "version_major": 2,
       "version_minor": 0
      },
      "text/plain": [
       "HBox(children=(FloatProgress(value=0.0, max=57.0), HTML(value='')))"
      ]
     },
     "metadata": {},
     "output_type": "display_data"
    },
    {
     "name": "stderr",
     "output_type": "stream",
     "text": [
      "INFO:fashion:val Loss: 0.3011 Acc: 0.9522\n",
      "INFO:fashion:val Task2 Acc: 0.9994 Task3 Acc: 0.9914\n",
      "INFO:fashion:Training complete in 110m 30s\n",
      "INFO:fashion:Best val Acc: 0.954444\n",
      "INFO:fashion:Setting model to the best one found during training\n"
     ]
    },
    {
     "name": "stdout",
     "output_type": "stream",
     "text": [
      "\n"
     ]
    }
   ],
   "source": [
    "trainer_top20.train(20)"
   ]
  },
  {
   "cell_type": "code",
   "execution_count": 6,
   "metadata": {},
   "outputs": [
    {
     "data": {
      "image/png": "[encoded data removed]",
      "text/plain": [
       "<Figure size 576x432 with 1 Axes>"
      ]
     },
     "metadata": {
      "needs_background": "light"
     },
     "output_type": "display_data"
    }
   ],
   "source": [
    "trainer_top20.plot_perf()"
   ]
  },
  {
   "cell_type": "code",
   "execution_count": 7,
   "metadata": {},
   "outputs": [
    {
     "data": {
      "application/vnd.jupyter.widget-view+json": {
       "model_id": "f56e14200598442f8d72e733f091552a",
       "version_major": 2,
       "version_minor": 0
      },
      "text/plain": [
       "HBox(children=(FloatProgress(value=0.0, max=237.0), HTML(value='')))"
      ]
     },
     "metadata": {},
     "output_type": "display_data"
    },
    {
     "name": "stdout",
     "output_type": "stream",
     "text": [
      "\n"
     ]
    }
   ],
   "source": [
    "acc_df = trainer_top20.get_test_accuracy()"
   ]
  },
  {
   "cell_type": "code",
   "execution_count": 8,
   "metadata": {},
   "outputs": [
    {
     "data": {
      "text/html": [
       "<div>\n",
       "<style scoped>\n",
       "    .dataframe tbody tr th:only-of-type {\n",
       "        vertical-align: middle;\n",
       "    }\n",
       "\n",
       "    .dataframe tbody tr th {\n",
       "        vertical-align: top;\n",
       "    }\n",
       "\n",
       "    .dataframe thead th {\n",
       "        text-align: right;\n",
       "    }\n",
       "</style>\n",
       "<table border=\"1\" class=\"dataframe\">\n",
       "  <thead>\n",
       "    <tr style=\"text-align: right;\">\n",
       "      <th></th>\n",
       "      <th>Top-1</th>\n",
       "      <th>Top-5</th>\n",
       "    </tr>\n",
       "  </thead>\n",
       "  <tbody>\n",
       "    <tr>\n",
       "      <th>Average (Micro)</th>\n",
       "      <td>88.35</td>\n",
       "      <td>95.74</td>\n",
       "    </tr>\n",
       "    <tr>\n",
       "      <th>Backpacks</th>\n",
       "      <td>98.32</td>\n",
       "      <td>100.00</td>\n",
       "    </tr>\n",
       "    <tr>\n",
       "      <th>Belts</th>\n",
       "      <td>99.07</td>\n",
       "      <td>99.07</td>\n",
       "    </tr>\n",
       "    <tr>\n",
       "      <th>Briefs</th>\n",
       "      <td>96.26</td>\n",
       "      <td>100.00</td>\n",
       "    </tr>\n",
       "    <tr>\n",
       "      <th>Casual Shoes</th>\n",
       "      <td>84.09</td>\n",
       "      <td>99.69</td>\n",
       "    </tr>\n",
       "    <tr>\n",
       "      <th>Flip Flops</th>\n",
       "      <td>86.03</td>\n",
       "      <td>98.77</td>\n",
       "    </tr>\n",
       "    <tr>\n",
       "      <th>Formal Shoes</th>\n",
       "      <td>92.09</td>\n",
       "      <td>98.56</td>\n",
       "    </tr>\n",
       "    <tr>\n",
       "      <th>Handbags</th>\n",
       "      <td>96.81</td>\n",
       "      <td>100.00</td>\n",
       "    </tr>\n",
       "    <tr>\n",
       "      <th>Heels</th>\n",
       "      <td>91.06</td>\n",
       "      <td>99.82</td>\n",
       "    </tr>\n",
       "    <tr>\n",
       "      <th>Jeans</th>\n",
       "      <td>99.26</td>\n",
       "      <td>100.00</td>\n",
       "    </tr>\n",
       "    <tr>\n",
       "      <th>Kurtas</th>\n",
       "      <td>95.17</td>\n",
       "      <td>99.86</td>\n",
       "    </tr>\n",
       "    <tr>\n",
       "      <th>Perfume and Body Mist</th>\n",
       "      <td>0.00</td>\n",
       "      <td>0.00</td>\n",
       "    </tr>\n",
       "    <tr>\n",
       "      <th>Sandals</th>\n",
       "      <td>85.00</td>\n",
       "      <td>99.52</td>\n",
       "    </tr>\n",
       "    <tr>\n",
       "      <th>Shirts</th>\n",
       "      <td>99.23</td>\n",
       "      <td>100.00</td>\n",
       "    </tr>\n",
       "    <tr>\n",
       "      <th>Socks</th>\n",
       "      <td>97.24</td>\n",
       "      <td>98.90</td>\n",
       "    </tr>\n",
       "    <tr>\n",
       "      <th>Sports Shoes</th>\n",
       "      <td>85.37</td>\n",
       "      <td>99.39</td>\n",
       "    </tr>\n",
       "    <tr>\n",
       "      <th>Sunglasses</th>\n",
       "      <td>100.00</td>\n",
       "      <td>100.00</td>\n",
       "    </tr>\n",
       "    <tr>\n",
       "      <th>Tops</th>\n",
       "      <td>67.00</td>\n",
       "      <td>100.00</td>\n",
       "    </tr>\n",
       "    <tr>\n",
       "      <th>Tshirts</th>\n",
       "      <td>94.35</td>\n",
       "      <td>99.93</td>\n",
       "    </tr>\n",
       "    <tr>\n",
       "      <th>Wallets</th>\n",
       "      <td>97.02</td>\n",
       "      <td>100.00</td>\n",
       "    </tr>\n",
       "    <tr>\n",
       "      <th>Watches</th>\n",
       "      <td>100.00</td>\n",
       "      <td>100.00</td>\n",
       "    </tr>\n",
       "  </tbody>\n",
       "</table>\n",
       "</div>"
      ],
      "text/plain": [
       "                        Top-1   Top-5\n",
       "Average (Micro)         88.35   95.74\n",
       "Backpacks               98.32  100.00\n",
       "Belts                   99.07   99.07\n",
       "Briefs                  96.26  100.00\n",
       "Casual Shoes            84.09   99.69\n",
       "Flip Flops              86.03   98.77\n",
       "Formal Shoes            92.09   98.56\n",
       "Handbags                96.81  100.00\n",
       "Heels                   91.06   99.82\n",
       "Jeans                   99.26  100.00\n",
       "Kurtas                  95.17   99.86\n",
       "Perfume and Body Mist    0.00    0.00\n",
       "Sandals                 85.00   99.52\n",
       "Shirts                  99.23  100.00\n",
       "Socks                   97.24   98.90\n",
       "Sports Shoes            85.37   99.39\n",
       "Sunglasses             100.00  100.00\n",
       "Tops                    67.00  100.00\n",
       "Tshirts                 94.35   99.93\n",
       "Wallets                 97.02  100.00\n",
       "Watches                100.00  100.00"
      ]
     },
     "execution_count": 8,
     "metadata": {},
     "output_type": "execute_result"
    }
   ],
   "source": [
    "acc_df"
   ]
  },
  {
   "cell_type": "code",
   "execution_count": 11,
   "metadata": {
    "scrolled": true
   },
   "outputs": [
    {
     "name": "stdout",
     "output_type": "stream",
     "text": [
      "<table border=\"1\" class=\"dataframe\">\n",
      "  <thead>\n",
      "    <tr style=\"text-align: right;\">\n",
      "      <th></th>\n",
      "      <th>Top-1</th>\n",
      "      <th>Top-5</th>\n",
      "    </tr>\n",
      "  </thead>\n",
      "  <tbody>\n",
      "    <tr>\n",
      "      <th>Average (Micro)</th>\n",
      "      <td>88.35</td>\n",
      "      <td>95.74</td>\n",
      "    </tr>\n",
      "    <tr>\n",
      "      <th>Backpacks</th>\n",
      "      <td>98.32</td>\n",
      "      <td>100.00</td>\n",
      "    </tr>\n",
      "    <tr>\n",
      "      <th>Belts</th>\n",
      "      <td>99.07</td>\n",
      "      <td>99.07</td>\n",
      "    </tr>\n",
      "    <tr>\n",
      "      <th>Briefs</th>\n",
      "      <td>96.26</td>\n",
      "      <td>100.00</td>\n",
      "    </tr>\n",
      "    <tr>\n",
      "      <th>Casual Shoes</th>\n",
      "      <td>84.09</td>\n",
      "      <td>99.69</td>\n",
      "    </tr>\n",
      "    <tr>\n",
      "      <th>Flip Flops</th>\n",
      "      <td>86.03</td>\n",
      "      <td>98.77</td>\n",
      "    </tr>\n",
      "    <tr>\n",
      "      <th>Formal Shoes</th>\n",
      "      <td>92.09</td>\n",
      "      <td>98.56</td>\n",
      "    </tr>\n",
      "    <tr>\n",
      "      <th>Handbags</th>\n",
      "      <td>96.81</td>\n",
      "      <td>100.00</td>\n",
      "    </tr>\n",
      "    <tr>\n",
      "      <th>Heels</th>\n",
      "      <td>91.06</td>\n",
      "      <td>99.82</td>\n",
      "    </tr>\n",
      "    <tr>\n",
      "      <th>Jeans</th>\n",
      "      <td>99.26</td>\n",
      "      <td>100.00</td>\n",
      "    </tr>\n",
      "    <tr>\n",
      "      <th>Kurtas</th>\n",
      "      <td>95.17</td>\n",
      "      <td>99.86</td>\n",
      "    </tr>\n",
      "    <tr>\n",
      "      <th>Perfume and Body Mist</th>\n",
      "      <td>0.00</td>\n",
      "      <td>0.00</td>\n",
      "    </tr>\n",
      "    <tr>\n",
      "      <th>Sandals</th>\n",
      "      <td>85.00</td>\n",
      "      <td>99.52</td>\n",
      "    </tr>\n",
      "    <tr>\n",
      "      <th>Shirts</th>\n",
      "      <td>99.23</td>\n",
      "      <td>100.00</td>\n",
      "    </tr>\n",
      "    <tr>\n",
      "      <th>Socks</th>\n",
      "      <td>97.24</td>\n",
      "      <td>98.90</td>\n",
      "    </tr>\n",
      "    <tr>\n",
      "      <th>Sports Shoes</th>\n",
      "      <td>85.37</td>\n",
      "      <td>99.39</td>\n",
      "    </tr>\n",
      "    <tr>\n",
      "      <th>Sunglasses</th>\n",
      "      <td>100.00</td>\n",
      "      <td>100.00</td>\n",
      "    </tr>\n",
      "    <tr>\n",
      "      <th>Tops</th>\n",
      "      <td>67.00</td>\n",
      "      <td>100.00</td>\n",
      "    </tr>\n",
      "    <tr>\n",
      "      <th>Tshirts</th>\n",
      "      <td>94.35</td>\n",
      "      <td>99.93</td>\n",
      "    </tr>\n",
      "    <tr>\n",
      "      <th>Wallets</th>\n",
      "      <td>97.02</td>\n",
      "      <td>100.00</td>\n",
      "    </tr>\n",
      "    <tr>\n",
      "      <th>Watches</th>\n",
      "      <td>100.00</td>\n",
      "      <td>100.00</td>\n",
      "    </tr>\n",
      "  </tbody>\n",
      "</table>\n"
     ]
    }
   ],
   "source": [
    "print(acc_df.to_html())"
   ]
  },
  {
   "cell_type": "markdown",
   "metadata": {},
   "source": [
    "## Train on fine-tune data subsplit"
   ]
  },
  {
   "cell_type": "code",
   "execution_count": 25,
   "metadata": {},
   "outputs": [
    {
     "name": "stderr",
     "output_type": "stream",
     "text": [
      "INFO:fashion:Creating datasets\n",
      "INFO:fashion:Created train dataset with 4629 samples\n",
      "INFO:fashion:Created val dataset with 1158 samples\n",
      "INFO:fashion:Created test dataset with 5505 samples\n",
      "INFO:fashion:Creating dataloaders\n",
      "INFO:fashion:Creating model\n",
      "INFO:fashion:Creating trainer\n"
     ]
    }
   ],
   "source": [
    "processor, trainer_ft, dataloaders_ft = setup_ft(processor=processor, ckpt_path=CKPT_PATH_FT, model=trainer_top20.get_best_model())"
   ]
  },
  {
   "cell_type": "code",
   "execution_count": 26,
   "metadata": {
    "scrolled": true
   },
   "outputs": [
    {
     "name": "stderr",
     "output_type": "stream",
     "text": [
      "INFO:fashion:Running epoch 0/29\n",
      "INFO:fashion:----------\n",
      "INFO:fashion:Iterating through data for phase: train\n"
     ]
    },
    {
     "data": {
      "application/vnd.jupyter.widget-view+json": {
       "model_id": "82e37ad5c5904d66a7b57295c3afaa23",
       "version_major": 2,
       "version_minor": 0
      },
      "text/plain": [
       "HBox(children=(FloatProgress(value=0.0, max=73.0), HTML(value='')))"
      ]
     },
     "metadata": {},
     "output_type": "display_data"
    },
    {
     "name": "stderr",
     "output_type": "stream",
     "text": [
      "INFO:fashion:train Loss: 8.5337 Acc: 0.2450\n",
      "INFO:fashion:train Task2 Acc: 0.8365 Task3 Acc: 0.5388\n",
      "INFO:fashion:Iterating through data for phase: val\n"
     ]
    },
    {
     "name": "stdout",
     "output_type": "stream",
     "text": [
      "\n"
     ]
    },
    {
     "data": {
      "application/vnd.jupyter.widget-view+json": {
       "model_id": "73e64129931a410ebe51660386a8adbb",
       "version_major": 2,
       "version_minor": 0
      },
      "text/plain": [
       "HBox(children=(FloatProgress(value=0.0, max=19.0), HTML(value='')))"
      ]
     },
     "metadata": {},
     "output_type": "display_data"
    },
    {
     "name": "stderr",
     "output_type": "stream",
     "text": [
      "INFO:fashion:val Loss: 5.2508 Acc: 0.5682\n",
      "INFO:fashion:val Task2 Acc: 0.9491 Task3 Acc: 0.8022\n",
      "INFO:fashion:--Saving checkpoint--\n"
     ]
    },
    {
     "name": "stdout",
     "output_type": "stream",
     "text": [
      "\n"
     ]
    },
    {
     "name": "stderr",
     "output_type": "stream",
     "text": [
      "INFO:fashion:Running epoch 1/29\n",
      "INFO:fashion:----------\n",
      "INFO:fashion:Iterating through data for phase: train\n"
     ]
    },
    {
     "data": {
      "application/vnd.jupyter.widget-view+json": {
       "model_id": "100d0bfbb6184859921b9678ad927011",
       "version_major": 2,
       "version_minor": 0
      },
      "text/plain": [
       "HBox(children=(FloatProgress(value=0.0, max=73.0), HTML(value='')))"
      ]
     },
     "metadata": {},
     "output_type": "display_data"
    },
    {
     "name": "stderr",
     "output_type": "stream",
     "text": [
      "INFO:fashion:train Loss: 4.0994 Acc: 0.6103\n",
      "INFO:fashion:train Task2 Acc: 0.9516 Task3 Acc: 0.8125\n",
      "INFO:fashion:Iterating through data for phase: val\n"
     ]
    },
    {
     "name": "stdout",
     "output_type": "stream",
     "text": [
      "\n"
     ]
    },
    {
     "data": {
      "application/vnd.jupyter.widget-view+json": {
       "model_id": "3ee74e09a8474e57b91c5c2c0ec26561",
       "version_major": 2,
       "version_minor": 0
      },
      "text/plain": [
       "HBox(children=(FloatProgress(value=0.0, max=19.0), HTML(value='')))"
      ]
     },
     "metadata": {},
     "output_type": "display_data"
    },
    {
     "name": "stderr",
     "output_type": "stream",
     "text": [
      "INFO:fashion:val Loss: 3.8600 Acc: 0.5725\n",
      "INFO:fashion:val Task2 Acc: 0.9594 Task3 Acc: 0.8446\n",
      "INFO:fashion:--Saving checkpoint--\n"
     ]
    },
    {
     "name": "stdout",
     "output_type": "stream",
     "text": [
      "\n"
     ]
    },
    {
     "name": "stderr",
     "output_type": "stream",
     "text": [
      "INFO:fashion:Running epoch 2/29\n",
      "INFO:fashion:----------\n",
      "INFO:fashion:Iterating through data for phase: train\n"
     ]
    },
    {
     "data": {
      "application/vnd.jupyter.widget-view+json": {
       "model_id": "a8718fb0628249d290473c51a98478aa",
       "version_major": 2,
       "version_minor": 0
      },
      "text/plain": [
       "HBox(children=(FloatProgress(value=0.0, max=73.0), HTML(value='')))"
      ]
     },
     "metadata": {},
     "output_type": "display_data"
    },
    {
     "name": "stderr",
     "output_type": "stream",
     "text": [
      "INFO:fashion:train Loss: 2.8271 Acc: 0.6809\n",
      "INFO:fashion:train Task2 Acc: 0.9641 Task3 Acc: 0.8438\n",
      "INFO:fashion:Iterating through data for phase: val\n"
     ]
    },
    {
     "name": "stdout",
     "output_type": "stream",
     "text": [
      "\n"
     ]
    },
    {
     "data": {
      "application/vnd.jupyter.widget-view+json": {
       "model_id": "576e6e6d8ae14b41acb89ddabc0332d6",
       "version_major": 2,
       "version_minor": 0
      },
      "text/plain": [
       "HBox(children=(FloatProgress(value=0.0, max=19.0), HTML(value='')))"
      ]
     },
     "metadata": {},
     "output_type": "display_data"
    },
    {
     "name": "stderr",
     "output_type": "stream",
     "text": [
      "INFO:fashion:val Loss: 3.4019 Acc: 0.6019\n",
      "INFO:fashion:val Task2 Acc: 0.9646 Task3 Acc: 0.8618\n",
      "INFO:fashion:--Saving checkpoint--\n"
     ]
    },
    {
     "name": "stdout",
     "output_type": "stream",
     "text": [
      "\n"
     ]
    },
    {
     "name": "stderr",
     "output_type": "stream",
     "text": [
      "INFO:fashion:Running epoch 3/29\n",
      "INFO:fashion:----------\n",
      "INFO:fashion:Iterating through data for phase: train\n"
     ]
    },
    {
     "data": {
      "application/vnd.jupyter.widget-view+json": {
       "model_id": "879fc302c870451a92114e52b1567de8",
       "version_major": 2,
       "version_minor": 0
      },
      "text/plain": [
       "HBox(children=(FloatProgress(value=0.0, max=73.0), HTML(value='')))"
      ]
     },
     "metadata": {},
     "output_type": "display_data"
    },
    {
     "name": "stderr",
     "output_type": "stream",
     "text": [
      "INFO:fashion:train Loss: 1.9979 Acc: 0.7302\n",
      "INFO:fashion:train Task2 Acc: 0.9715 Task3 Acc: 0.8756\n",
      "INFO:fashion:Iterating through data for phase: val\n"
     ]
    },
    {
     "name": "stdout",
     "output_type": "stream",
     "text": [
      "\n"
     ]
    },
    {
     "data": {
      "application/vnd.jupyter.widget-view+json": {
       "model_id": "db50590fa9804923b59acaf2a66ef30b",
       "version_major": 2,
       "version_minor": 0
      },
      "text/plain": [
       "HBox(children=(FloatProgress(value=0.0, max=19.0), HTML(value='')))"
      ]
     },
     "metadata": {},
     "output_type": "display_data"
    },
    {
     "name": "stderr",
     "output_type": "stream",
     "text": [
      "INFO:fashion:val Loss: 2.5537 Acc: 0.7202\n",
      "INFO:fashion:val Task2 Acc: 0.9732 Task3 Acc: 0.8860\n",
      "INFO:fashion:--Saving checkpoint--\n"
     ]
    },
    {
     "name": "stdout",
     "output_type": "stream",
     "text": [
      "\n"
     ]
    },
    {
     "name": "stderr",
     "output_type": "stream",
     "text": [
      "INFO:fashion:Running epoch 4/29\n",
      "INFO:fashion:----------\n",
      "INFO:fashion:Iterating through data for phase: train\n"
     ]
    },
    {
     "data": {
      "application/vnd.jupyter.widget-view+json": {
       "model_id": "4f1ea633d668451c975253b0fc5ce0fb",
       "version_major": 2,
       "version_minor": 0
      },
      "text/plain": [
       "HBox(children=(FloatProgress(value=0.0, max=73.0), HTML(value='')))"
      ]
     },
     "metadata": {},
     "output_type": "display_data"
    },
    {
     "name": "stderr",
     "output_type": "stream",
     "text": [
      "INFO:fashion:train Loss: 1.3845 Acc: 0.8118\n",
      "INFO:fashion:train Task2 Acc: 0.9721 Task3 Acc: 0.8898\n",
      "INFO:fashion:Iterating through data for phase: val\n"
     ]
    },
    {
     "name": "stdout",
     "output_type": "stream",
     "text": [
      "\n"
     ]
    },
    {
     "data": {
      "application/vnd.jupyter.widget-view+json": {
       "model_id": "ad036bc7c3d344eabdce4fa93c5486cd",
       "version_major": 2,
       "version_minor": 0
      },
      "text/plain": [
       "HBox(children=(FloatProgress(value=0.0, max=19.0), HTML(value='')))"
      ]
     },
     "metadata": {},
     "output_type": "display_data"
    },
    {
     "name": "stderr",
     "output_type": "stream",
     "text": [
      "INFO:fashion:val Loss: 1.9535 Acc: 0.8014\n",
      "INFO:fashion:val Task2 Acc: 0.9801 Task3 Acc: 0.8903\n",
      "INFO:fashion:--Saving checkpoint--\n"
     ]
    },
    {
     "name": "stdout",
     "output_type": "stream",
     "text": [
      "\n"
     ]
    },
    {
     "name": "stderr",
     "output_type": "stream",
     "text": [
      "INFO:fashion:Running epoch 5/29\n",
      "INFO:fashion:----------\n",
      "INFO:fashion:Iterating through data for phase: train\n"
     ]
    },
    {
     "data": {
      "application/vnd.jupyter.widget-view+json": {
       "model_id": "853559699fcd4f9aa8b9264fbbc8b233",
       "version_major": 2,
       "version_minor": 0
      },
      "text/plain": [
       "HBox(children=(FloatProgress(value=0.0, max=73.0), HTML(value='')))"
      ]
     },
     "metadata": {},
     "output_type": "display_data"
    },
    {
     "name": "stderr",
     "output_type": "stream",
     "text": [
      "INFO:fashion:train Loss: 1.1249 Acc: 0.8384\n",
      "INFO:fashion:train Task2 Acc: 0.9745 Task3 Acc: 0.8967\n",
      "INFO:fashion:Iterating through data for phase: val\n"
     ]
    },
    {
     "name": "stdout",
     "output_type": "stream",
     "text": [
      "\n"
     ]
    },
    {
     "data": {
      "application/vnd.jupyter.widget-view+json": {
       "model_id": "996190d70e204b4eafa911d53f1c1006",
       "version_major": 2,
       "version_minor": 0
      },
      "text/plain": [
       "HBox(children=(FloatProgress(value=0.0, max=19.0), HTML(value='')))"
      ]
     },
     "metadata": {},
     "output_type": "display_data"
    },
    {
     "name": "stderr",
     "output_type": "stream",
     "text": [
      "INFO:fashion:val Loss: 1.9022 Acc: 0.8169\n",
      "INFO:fashion:val Task2 Acc: 0.9810 Task3 Acc: 0.8964\n",
      "INFO:fashion:--Saving checkpoint--\n"
     ]
    },
    {
     "name": "stdout",
     "output_type": "stream",
     "text": [
      "\n"
     ]
    },
    {
     "name": "stderr",
     "output_type": "stream",
     "text": [
      "INFO:fashion:Running epoch 6/29\n",
      "INFO:fashion:----------\n",
      "INFO:fashion:Iterating through data for phase: train\n"
     ]
    },
    {
     "data": {
      "application/vnd.jupyter.widget-view+json": {
       "model_id": "468f7949dfe2462bb878ba72510aa2b4",
       "version_major": 2,
       "version_minor": 0
      },
      "text/plain": [
       "HBox(children=(FloatProgress(value=0.0, max=73.0), HTML(value='')))"
      ]
     },
     "metadata": {},
     "output_type": "display_data"
    },
    {
     "name": "stderr",
     "output_type": "stream",
     "text": [
      "INFO:fashion:train Loss: 1.0160 Acc: 0.8574\n",
      "INFO:fashion:train Task2 Acc: 0.9782 Task3 Acc: 0.9047\n",
      "INFO:fashion:Iterating through data for phase: val\n"
     ]
    },
    {
     "name": "stdout",
     "output_type": "stream",
     "text": [
      "\n"
     ]
    },
    {
     "data": {
      "application/vnd.jupyter.widget-view+json": {
       "model_id": "247b3504b1a74f5fafdd0f10d54a40ee",
       "version_major": 2,
       "version_minor": 0
      },
      "text/plain": [
       "HBox(children=(FloatProgress(value=0.0, max=19.0), HTML(value='')))"
      ]
     },
     "metadata": {},
     "output_type": "display_data"
    },
    {
     "name": "stderr",
     "output_type": "stream",
     "text": [
      "INFO:fashion:val Loss: 1.8572 Acc: 0.8178\n",
      "INFO:fashion:val Task2 Acc: 0.9810 Task3 Acc: 0.9033\n",
      "INFO:fashion:--Saving checkpoint--\n"
     ]
    },
    {
     "name": "stdout",
     "output_type": "stream",
     "text": [
      "\n"
     ]
    },
    {
     "name": "stderr",
     "output_type": "stream",
     "text": [
      "INFO:fashion:Running epoch 7/29\n",
      "INFO:fashion:----------\n",
      "INFO:fashion:Iterating through data for phase: train\n"
     ]
    },
    {
     "data": {
      "application/vnd.jupyter.widget-view+json": {
       "model_id": "d1a466422c5d492cacfa492f141599b5",
       "version_major": 2,
       "version_minor": 0
      },
      "text/plain": [
       "HBox(children=(FloatProgress(value=0.0, max=73.0), HTML(value='')))"
      ]
     },
     "metadata": {},
     "output_type": "display_data"
    },
    {
     "name": "stderr",
     "output_type": "stream",
     "text": [
      "INFO:fashion:train Loss: 0.9085 Acc: 0.8667\n",
      "INFO:fashion:train Task2 Acc: 0.9825 Task3 Acc: 0.9101\n",
      "INFO:fashion:Iterating through data for phase: val\n"
     ]
    },
    {
     "name": "stdout",
     "output_type": "stream",
     "text": [
      "\n"
     ]
    },
    {
     "data": {
      "application/vnd.jupyter.widget-view+json": {
       "model_id": "bc3e1d8892de4990921bf1a6be27f5f4",
       "version_major": 2,
       "version_minor": 0
      },
      "text/plain": [
       "HBox(children=(FloatProgress(value=0.0, max=19.0), HTML(value='')))"
      ]
     },
     "metadata": {},
     "output_type": "display_data"
    },
    {
     "name": "stderr",
     "output_type": "stream",
     "text": [
      "INFO:fashion:val Loss: 1.9681 Acc: 0.8264\n",
      "INFO:fashion:val Task2 Acc: 0.9819 Task3 Acc: 0.8981\n",
      "INFO:fashion:--Saving checkpoint--\n"
     ]
    },
    {
     "name": "stdout",
     "output_type": "stream",
     "text": [
      "\n"
     ]
    },
    {
     "name": "stderr",
     "output_type": "stream",
     "text": [
      "INFO:fashion:Running epoch 8/29\n",
      "INFO:fashion:----------\n",
      "INFO:fashion:Iterating through data for phase: train\n"
     ]
    },
    {
     "data": {
      "application/vnd.jupyter.widget-view+json": {
       "model_id": "a97709db293443ba87a45a316a63db0a",
       "version_major": 2,
       "version_minor": 0
      },
      "text/plain": [
       "HBox(children=(FloatProgress(value=0.0, max=73.0), HTML(value='')))"
      ]
     },
     "metadata": {},
     "output_type": "display_data"
    },
    {
     "name": "stderr",
     "output_type": "stream",
     "text": [
      "INFO:fashion:train Loss: 0.8650 Acc: 0.8697\n",
      "INFO:fashion:train Task2 Acc: 0.9810 Task3 Acc: 0.9136\n",
      "INFO:fashion:Iterating through data for phase: val\n"
     ]
    },
    {
     "name": "stdout",
     "output_type": "stream",
     "text": [
      "\n"
     ]
    },
    {
     "data": {
      "application/vnd.jupyter.widget-view+json": {
       "model_id": "71e21607109044dc9e600684e4d1c9cc",
       "version_major": 2,
       "version_minor": 0
      },
      "text/plain": [
       "HBox(children=(FloatProgress(value=0.0, max=19.0), HTML(value='')))"
      ]
     },
     "metadata": {},
     "output_type": "display_data"
    },
    {
     "name": "stderr",
     "output_type": "stream",
     "text": [
      "INFO:fashion:val Loss: 1.8195 Acc: 0.8333\n",
      "INFO:fashion:val Task2 Acc: 0.9810 Task3 Acc: 0.9024\n",
      "INFO:fashion:--Saving checkpoint--\n"
     ]
    },
    {
     "name": "stdout",
     "output_type": "stream",
     "text": [
      "\n"
     ]
    },
    {
     "name": "stderr",
     "output_type": "stream",
     "text": [
      "INFO:fashion:Running epoch 9/29\n",
      "INFO:fashion:----------\n",
      "INFO:fashion:Iterating through data for phase: train\n"
     ]
    },
    {
     "data": {
      "application/vnd.jupyter.widget-view+json": {
       "model_id": "1e8cd9744923450ead7f48732fe12b2a",
       "version_major": 2,
       "version_minor": 0
      },
      "text/plain": [
       "HBox(children=(FloatProgress(value=0.0, max=73.0), HTML(value='')))"
      ]
     },
     "metadata": {},
     "output_type": "display_data"
    },
    {
     "name": "stderr",
     "output_type": "stream",
     "text": [
      "INFO:fashion:train Loss: 0.8429 Acc: 0.8764\n",
      "INFO:fashion:train Task2 Acc: 0.9827 Task3 Acc: 0.9114\n",
      "INFO:fashion:Iterating through data for phase: val\n"
     ]
    },
    {
     "name": "stdout",
     "output_type": "stream",
     "text": [
      "\n"
     ]
    },
    {
     "data": {
      "application/vnd.jupyter.widget-view+json": {
       "model_id": "9deaa08b8a6541b7b887e0a43b84d9cd",
       "version_major": 2,
       "version_minor": 0
      },
      "text/plain": [
       "HBox(children=(FloatProgress(value=0.0, max=19.0), HTML(value='')))"
      ]
     },
     "metadata": {},
     "output_type": "display_data"
    },
    {
     "name": "stderr",
     "output_type": "stream",
     "text": [
      "INFO:fashion:val Loss: 1.7985 Acc: 0.8446\n",
      "INFO:fashion:val Task2 Acc: 0.9819 Task3 Acc: 0.9041\n",
      "INFO:fashion:--Saving checkpoint--\n"
     ]
    },
    {
     "name": "stdout",
     "output_type": "stream",
     "text": [
      "\n"
     ]
    },
    {
     "name": "stderr",
     "output_type": "stream",
     "text": [
      "INFO:fashion:Running epoch 10/29\n",
      "INFO:fashion:----------\n",
      "INFO:fashion:Iterating through data for phase: train\n"
     ]
    },
    {
     "data": {
      "application/vnd.jupyter.widget-view+json": {
       "model_id": "efec3bf16f74496d8e61b5b91843f5d8",
       "version_major": 2,
       "version_minor": 0
      },
      "text/plain": [
       "HBox(children=(FloatProgress(value=0.0, max=73.0), HTML(value='')))"
      ]
     },
     "metadata": {},
     "output_type": "display_data"
    },
    {
     "name": "stderr",
     "output_type": "stream",
     "text": [
      "INFO:fashion:train Loss: 0.8253 Acc: 0.8814\n",
      "INFO:fashion:train Task2 Acc: 0.9814 Task3 Acc: 0.9119\n",
      "INFO:fashion:Iterating through data for phase: val\n"
     ]
    },
    {
     "name": "stdout",
     "output_type": "stream",
     "text": [
      "\n"
     ]
    },
    {
     "data": {
      "application/vnd.jupyter.widget-view+json": {
       "model_id": "533e9794baf947abbcb7ea138e546fb7",
       "version_major": 2,
       "version_minor": 0
      },
      "text/plain": [
       "HBox(children=(FloatProgress(value=0.0, max=19.0), HTML(value='')))"
      ]
     },
     "metadata": {},
     "output_type": "display_data"
    },
    {
     "name": "stderr",
     "output_type": "stream",
     "text": [
      "INFO:fashion:val Loss: 1.8858 Acc: 0.8368\n",
      "INFO:fashion:val Task2 Acc: 0.9819 Task3 Acc: 0.8998\n",
      "INFO:fashion:Running epoch 11/29\n",
      "INFO:fashion:----------\n",
      "INFO:fashion:Iterating through data for phase: train\n"
     ]
    },
    {
     "name": "stdout",
     "output_type": "stream",
     "text": [
      "\n"
     ]
    },
    {
     "data": {
      "application/vnd.jupyter.widget-view+json": {
       "model_id": "91d7577bcca947139f5c6bffb4012b6b",
       "version_major": 2,
       "version_minor": 0
      },
      "text/plain": [
       "HBox(children=(FloatProgress(value=0.0, max=73.0), HTML(value='')))"
      ]
     },
     "metadata": {},
     "output_type": "display_data"
    },
    {
     "name": "stderr",
     "output_type": "stream",
     "text": [
      "INFO:fashion:train Loss: 0.8311 Acc: 0.8730\n",
      "INFO:fashion:train Task2 Acc: 0.9829 Task3 Acc: 0.9166\n",
      "INFO:fashion:Iterating through data for phase: val\n"
     ]
    },
    {
     "name": "stdout",
     "output_type": "stream",
     "text": [
      "\n"
     ]
    },
    {
     "data": {
      "application/vnd.jupyter.widget-view+json": {
       "model_id": "30f87d4b554c4a87a23a4d45647d0e22",
       "version_major": 2,
       "version_minor": 0
      },
      "text/plain": [
       "HBox(children=(FloatProgress(value=0.0, max=19.0), HTML(value='')))"
      ]
     },
     "metadata": {},
     "output_type": "display_data"
    },
    {
     "name": "stderr",
     "output_type": "stream",
     "text": [
      "INFO:fashion:val Loss: 1.7958 Acc: 0.8402\n",
      "INFO:fashion:val Task2 Acc: 0.9819 Task3 Acc: 0.9067\n",
      "INFO:fashion:Running epoch 12/29\n",
      "INFO:fashion:----------\n",
      "INFO:fashion:Iterating through data for phase: train\n"
     ]
    },
    {
     "name": "stdout",
     "output_type": "stream",
     "text": [
      "\n"
     ]
    },
    {
     "data": {
      "application/vnd.jupyter.widget-view+json": {
       "model_id": "acc40b35673940579d7eca02c4093687",
       "version_major": 2,
       "version_minor": 0
      },
      "text/plain": [
       "HBox(children=(FloatProgress(value=0.0, max=73.0), HTML(value='')))"
      ]
     },
     "metadata": {},
     "output_type": "display_data"
    },
    {
     "name": "stderr",
     "output_type": "stream",
     "text": [
      "INFO:fashion:train Loss: 0.8042 Acc: 0.8799\n",
      "INFO:fashion:train Task2 Acc: 0.9827 Task3 Acc: 0.9123\n",
      "INFO:fashion:Iterating through data for phase: val\n"
     ]
    },
    {
     "name": "stdout",
     "output_type": "stream",
     "text": [
      "\n"
     ]
    },
    {
     "data": {
      "application/vnd.jupyter.widget-view+json": {
       "model_id": "1c1d23cae5044cb3a1a4bec61c7ec0e9",
       "version_major": 2,
       "version_minor": 0
      },
      "text/plain": [
       "HBox(children=(FloatProgress(value=0.0, max=19.0), HTML(value='')))"
      ]
     },
     "metadata": {},
     "output_type": "display_data"
    },
    {
     "name": "stderr",
     "output_type": "stream",
     "text": [
      "INFO:fashion:val Loss: 1.9259 Acc: 0.8264\n",
      "INFO:fashion:val Task2 Acc: 0.9819 Task3 Acc: 0.9041\n",
      "INFO:fashion:Running epoch 13/29\n",
      "INFO:fashion:----------\n",
      "INFO:fashion:Iterating through data for phase: train\n"
     ]
    },
    {
     "name": "stdout",
     "output_type": "stream",
     "text": [
      "\n"
     ]
    },
    {
     "data": {
      "application/vnd.jupyter.widget-view+json": {
       "model_id": "dd7acef37f5b4ef895d08a400e2a71ca",
       "version_major": 2,
       "version_minor": 0
      },
      "text/plain": [
       "HBox(children=(FloatProgress(value=0.0, max=73.0), HTML(value='')))"
      ]
     },
     "metadata": {},
     "output_type": "display_data"
    },
    {
     "name": "stderr",
     "output_type": "stream",
     "text": [
      "INFO:fashion:train Loss: 0.8039 Acc: 0.8795\n",
      "INFO:fashion:train Task2 Acc: 0.9814 Task3 Acc: 0.9136\n",
      "INFO:fashion:Iterating through data for phase: val\n"
     ]
    },
    {
     "name": "stdout",
     "output_type": "stream",
     "text": [
      "\n"
     ]
    },
    {
     "data": {
      "application/vnd.jupyter.widget-view+json": {
       "model_id": "667cf4e3deed4d08a544df80e8961248",
       "version_major": 2,
       "version_minor": 0
      },
      "text/plain": [
       "HBox(children=(FloatProgress(value=0.0, max=19.0), HTML(value='')))"
      ]
     },
     "metadata": {},
     "output_type": "display_data"
    },
    {
     "name": "stderr",
     "output_type": "stream",
     "text": [
      "INFO:fashion:val Loss: 1.9351 Acc: 0.8316\n",
      "INFO:fashion:val Task2 Acc: 0.9819 Task3 Acc: 0.9102\n",
      "INFO:fashion:Running epoch 14/29\n",
      "INFO:fashion:----------\n",
      "INFO:fashion:Iterating through data for phase: train\n"
     ]
    },
    {
     "name": "stdout",
     "output_type": "stream",
     "text": [
      "\n"
     ]
    },
    {
     "data": {
      "application/vnd.jupyter.widget-view+json": {
       "model_id": "77391fc6a4b847cdaaec0afebc4460e6",
       "version_major": 2,
       "version_minor": 0
      },
      "text/plain": [
       "HBox(children=(FloatProgress(value=0.0, max=73.0), HTML(value='')))"
      ]
     },
     "metadata": {},
     "output_type": "display_data"
    },
    {
     "name": "stderr",
     "output_type": "stream",
     "text": [
      "INFO:fashion:train Loss: 0.7970 Acc: 0.8836\n",
      "INFO:fashion:train Task2 Acc: 0.9816 Task3 Acc: 0.9162\n",
      "INFO:fashion:Iterating through data for phase: val\n"
     ]
    },
    {
     "name": "stdout",
     "output_type": "stream",
     "text": [
      "\n"
     ]
    },
    {
     "data": {
      "application/vnd.jupyter.widget-view+json": {
       "model_id": "179da9fa666447b6a5ffdf7165be4b41",
       "version_major": 2,
       "version_minor": 0
      },
      "text/plain": [
       "HBox(children=(FloatProgress(value=0.0, max=19.0), HTML(value='')))"
      ]
     },
     "metadata": {},
     "output_type": "display_data"
    },
    {
     "name": "stderr",
     "output_type": "stream",
     "text": [
      "INFO:fashion:val Loss: 1.8477 Acc: 0.8411\n",
      "INFO:fashion:val Task2 Acc: 0.9819 Task3 Acc: 0.9041\n",
      "INFO:fashion:Running epoch 15/29\n",
      "INFO:fashion:----------\n",
      "INFO:fashion:Iterating through data for phase: train\n"
     ]
    },
    {
     "name": "stdout",
     "output_type": "stream",
     "text": [
      "\n"
     ]
    },
    {
     "data": {
      "application/vnd.jupyter.widget-view+json": {
       "model_id": "fa32c6d5345f434c92673e459f239aa9",
       "version_major": 2,
       "version_minor": 0
      },
      "text/plain": [
       "HBox(children=(FloatProgress(value=0.0, max=73.0), HTML(value='')))"
      ]
     },
     "metadata": {},
     "output_type": "display_data"
    },
    {
     "name": "stderr",
     "output_type": "stream",
     "text": [
      "INFO:fashion:train Loss: 0.8019 Acc: 0.8790\n",
      "INFO:fashion:train Task2 Acc: 0.9836 Task3 Acc: 0.9164\n",
      "INFO:fashion:Iterating through data for phase: val\n"
     ]
    },
    {
     "name": "stdout",
     "output_type": "stream",
     "text": [
      "\n"
     ]
    },
    {
     "data": {
      "application/vnd.jupyter.widget-view+json": {
       "model_id": "04c65892efb9407aa2e20342635354ae",
       "version_major": 2,
       "version_minor": 0
      },
      "text/plain": [
       "HBox(children=(FloatProgress(value=0.0, max=19.0), HTML(value='')))"
      ]
     },
     "metadata": {},
     "output_type": "display_data"
    },
    {
     "name": "stderr",
     "output_type": "stream",
     "text": [
      "INFO:fashion:val Loss: 1.8049 Acc: 0.8307\n",
      "INFO:fashion:val Task2 Acc: 0.9819 Task3 Acc: 0.9041\n",
      "INFO:fashion:Running epoch 16/29\n",
      "INFO:fashion:----------\n",
      "INFO:fashion:Iterating through data for phase: train\n"
     ]
    },
    {
     "name": "stdout",
     "output_type": "stream",
     "text": [
      "\n"
     ]
    },
    {
     "data": {
      "application/vnd.jupyter.widget-view+json": {
       "model_id": "1fd0bcd65ee740f486a1e9d5e8ce524f",
       "version_major": 2,
       "version_minor": 0
      },
      "text/plain": [
       "HBox(children=(FloatProgress(value=0.0, max=73.0), HTML(value='')))"
      ]
     },
     "metadata": {},
     "output_type": "display_data"
    },
    {
     "name": "stderr",
     "output_type": "stream",
     "text": [
      "INFO:fashion:train Loss: 0.7890 Acc: 0.8797\n",
      "INFO:fashion:train Task2 Acc: 0.9831 Task3 Acc: 0.9179\n",
      "INFO:fashion:Iterating through data for phase: val\n"
     ]
    },
    {
     "name": "stdout",
     "output_type": "stream",
     "text": [
      "\n"
     ]
    },
    {
     "data": {
      "application/vnd.jupyter.widget-view+json": {
       "model_id": "ef168720f5864f42afd5bb9475c35eac",
       "version_major": 2,
       "version_minor": 0
      },
      "text/plain": [
       "HBox(children=(FloatProgress(value=0.0, max=19.0), HTML(value='')))"
      ]
     },
     "metadata": {},
     "output_type": "display_data"
    },
    {
     "name": "stderr",
     "output_type": "stream",
     "text": [
      "INFO:fashion:val Loss: 1.8651 Acc: 0.8359\n",
      "INFO:fashion:val Task2 Acc: 0.9810 Task3 Acc: 0.9059\n",
      "INFO:fashion:Running epoch 17/29\n",
      "INFO:fashion:----------\n",
      "INFO:fashion:Iterating through data for phase: train\n"
     ]
    },
    {
     "name": "stdout",
     "output_type": "stream",
     "text": [
      "\n"
     ]
    },
    {
     "data": {
      "application/vnd.jupyter.widget-view+json": {
       "model_id": "3b1ad5eefeb648ab8c5f5712a78a52e1",
       "version_major": 2,
       "version_minor": 0
      },
      "text/plain": [
       "HBox(children=(FloatProgress(value=0.0, max=73.0), HTML(value='')))"
      ]
     },
     "metadata": {},
     "output_type": "display_data"
    },
    {
     "name": "stderr",
     "output_type": "stream",
     "text": [
      "INFO:fashion:train Loss: 0.7913 Acc: 0.8816\n",
      "INFO:fashion:train Task2 Acc: 0.9806 Task3 Acc: 0.9155\n",
      "INFO:fashion:Iterating through data for phase: val\n"
     ]
    },
    {
     "name": "stdout",
     "output_type": "stream",
     "text": [
      "\n"
     ]
    },
    {
     "data": {
      "application/vnd.jupyter.widget-view+json": {
       "model_id": "f9efb96e7da9429f89b46b774cff544f",
       "version_major": 2,
       "version_minor": 0
      },
      "text/plain": [
       "HBox(children=(FloatProgress(value=0.0, max=19.0), HTML(value='')))"
      ]
     },
     "metadata": {},
     "output_type": "display_data"
    },
    {
     "name": "stderr",
     "output_type": "stream",
     "text": [
      "INFO:fashion:val Loss: 1.7866 Acc: 0.8359\n",
      "INFO:fashion:val Task2 Acc: 0.9819 Task3 Acc: 0.9050\n",
      "INFO:fashion:Running epoch 18/29\n",
      "INFO:fashion:----------\n",
      "INFO:fashion:Iterating through data for phase: train\n"
     ]
    },
    {
     "name": "stdout",
     "output_type": "stream",
     "text": [
      "\n"
     ]
    },
    {
     "data": {
      "application/vnd.jupyter.widget-view+json": {
       "model_id": "1a87d25875e24f3c9738854eceaf7207",
       "version_major": 2,
       "version_minor": 0
      },
      "text/plain": [
       "HBox(children=(FloatProgress(value=0.0, max=73.0), HTML(value='')))"
      ]
     },
     "metadata": {},
     "output_type": "display_data"
    },
    {
     "name": "stderr",
     "output_type": "stream",
     "text": [
      "INFO:fashion:train Loss: 0.7818 Acc: 0.8808\n",
      "INFO:fashion:train Task2 Acc: 0.9812 Task3 Acc: 0.9188\n",
      "INFO:fashion:Iterating through data for phase: val\n"
     ]
    },
    {
     "name": "stdout",
     "output_type": "stream",
     "text": [
      "\n"
     ]
    },
    {
     "data": {
      "application/vnd.jupyter.widget-view+json": {
       "model_id": "00ea9d7ef2034583979cffdee20febb5",
       "version_major": 2,
       "version_minor": 0
      },
      "text/plain": [
       "HBox(children=(FloatProgress(value=0.0, max=19.0), HTML(value='')))"
      ]
     },
     "metadata": {},
     "output_type": "display_data"
    },
    {
     "name": "stderr",
     "output_type": "stream",
     "text": [
      "INFO:fashion:val Loss: 1.9531 Acc: 0.8377\n",
      "INFO:fashion:val Task2 Acc: 0.9793 Task3 Acc: 0.9033\n",
      "INFO:fashion:Running epoch 19/29\n",
      "INFO:fashion:----------\n",
      "INFO:fashion:Iterating through data for phase: train\n"
     ]
    },
    {
     "name": "stdout",
     "output_type": "stream",
     "text": [
      "\n"
     ]
    },
    {
     "data": {
      "application/vnd.jupyter.widget-view+json": {
       "model_id": "bfeec664ee4b400bb95a7808f209fe7b",
       "version_major": 2,
       "version_minor": 0
      },
      "text/plain": [
       "HBox(children=(FloatProgress(value=0.0, max=73.0), HTML(value='')))"
      ]
     },
     "metadata": {},
     "output_type": "display_data"
    },
    {
     "name": "stderr",
     "output_type": "stream",
     "text": [
      "INFO:fashion:train Loss: 0.7705 Acc: 0.8851\n",
      "INFO:fashion:train Task2 Acc: 0.9829 Task3 Acc: 0.9175\n",
      "INFO:fashion:Iterating through data for phase: val\n"
     ]
    },
    {
     "name": "stdout",
     "output_type": "stream",
     "text": [
      "\n"
     ]
    },
    {
     "data": {
      "application/vnd.jupyter.widget-view+json": {
       "model_id": "b7f00a12833c4c239e67edd449134bb0",
       "version_major": 2,
       "version_minor": 0
      },
      "text/plain": [
       "HBox(children=(FloatProgress(value=0.0, max=19.0), HTML(value='')))"
      ]
     },
     "metadata": {},
     "output_type": "display_data"
    },
    {
     "name": "stderr",
     "output_type": "stream",
     "text": [
      "INFO:fashion:val Loss: 1.8404 Acc: 0.8342\n",
      "INFO:fashion:val Task2 Acc: 0.9810 Task3 Acc: 0.9076\n",
      "INFO:fashion:Running epoch 20/29\n",
      "INFO:fashion:----------\n",
      "INFO:fashion:Iterating through data for phase: train\n"
     ]
    },
    {
     "name": "stdout",
     "output_type": "stream",
     "text": [
      "\n"
     ]
    },
    {
     "data": {
      "application/vnd.jupyter.widget-view+json": {
       "model_id": "b821b2ec0e4346f4978d815135a71378",
       "version_major": 2,
       "version_minor": 0
      },
      "text/plain": [
       "HBox(children=(FloatProgress(value=0.0, max=73.0), HTML(value='')))"
      ]
     },
     "metadata": {},
     "output_type": "display_data"
    },
    {
     "name": "stderr",
     "output_type": "stream",
     "text": [
      "INFO:fashion:train Loss: 0.7797 Acc: 0.8820\n",
      "INFO:fashion:train Task2 Acc: 0.9842 Task3 Acc: 0.9164\n",
      "INFO:fashion:Iterating through data for phase: val\n"
     ]
    },
    {
     "name": "stdout",
     "output_type": "stream",
     "text": [
      "\n"
     ]
    },
    {
     "data": {
      "application/vnd.jupyter.widget-view+json": {
       "model_id": "2afe225c67c5471d9a02536da05c003d",
       "version_major": 2,
       "version_minor": 0
      },
      "text/plain": [
       "HBox(children=(FloatProgress(value=0.0, max=19.0), HTML(value='')))"
      ]
     },
     "metadata": {},
     "output_type": "display_data"
    },
    {
     "name": "stderr",
     "output_type": "stream",
     "text": [
      "INFO:fashion:val Loss: 1.8438 Acc: 0.8351\n",
      "INFO:fashion:val Task2 Acc: 0.9810 Task3 Acc: 0.9024\n",
      "INFO:fashion:Running epoch 21/29\n",
      "INFO:fashion:----------\n",
      "INFO:fashion:Iterating through data for phase: train\n"
     ]
    },
    {
     "name": "stdout",
     "output_type": "stream",
     "text": [
      "\n"
     ]
    },
    {
     "data": {
      "application/vnd.jupyter.widget-view+json": {
       "model_id": "f602737f959f4cb88ead7dd33a159ffc",
       "version_major": 2,
       "version_minor": 0
      },
      "text/plain": [
       "HBox(children=(FloatProgress(value=0.0, max=73.0), HTML(value='')))"
      ]
     },
     "metadata": {},
     "output_type": "display_data"
    },
    {
     "name": "stderr",
     "output_type": "stream",
     "text": [
      "INFO:fashion:train Loss: 0.7853 Acc: 0.8851\n",
      "INFO:fashion:train Task2 Acc: 0.9823 Task3 Acc: 0.9162\n",
      "INFO:fashion:Iterating through data for phase: val\n"
     ]
    },
    {
     "name": "stdout",
     "output_type": "stream",
     "text": [
      "\n"
     ]
    },
    {
     "data": {
      "application/vnd.jupyter.widget-view+json": {
       "model_id": "6d628c1f383c48e88ba7ec165d6c5a54",
       "version_major": 2,
       "version_minor": 0
      },
      "text/plain": [
       "HBox(children=(FloatProgress(value=0.0, max=19.0), HTML(value='')))"
      ]
     },
     "metadata": {},
     "output_type": "display_data"
    },
    {
     "name": "stderr",
     "output_type": "stream",
     "text": [
      "INFO:fashion:val Loss: 1.8458 Acc: 0.8394\n",
      "INFO:fashion:val Task2 Acc: 0.9819 Task3 Acc: 0.9033\n",
      "INFO:fashion:Running epoch 22/29\n",
      "INFO:fashion:----------\n",
      "INFO:fashion:Iterating through data for phase: train\n"
     ]
    },
    {
     "name": "stdout",
     "output_type": "stream",
     "text": [
      "\n"
     ]
    },
    {
     "data": {
      "application/vnd.jupyter.widget-view+json": {
       "model_id": "d6a0912f5deb4bf7a948e3316cb3ea06",
       "version_major": 2,
       "version_minor": 0
      },
      "text/plain": [
       "HBox(children=(FloatProgress(value=0.0, max=73.0), HTML(value='')))"
      ]
     },
     "metadata": {},
     "output_type": "display_data"
    },
    {
     "name": "stderr",
     "output_type": "stream",
     "text": [
      "INFO:fashion:train Loss: 0.8108 Acc: 0.8829\n",
      "INFO:fashion:train Task2 Acc: 0.9834 Task3 Acc: 0.9170\n",
      "INFO:fashion:Iterating through data for phase: val\n"
     ]
    },
    {
     "name": "stdout",
     "output_type": "stream",
     "text": [
      "\n"
     ]
    },
    {
     "data": {
      "application/vnd.jupyter.widget-view+json": {
       "model_id": "d27f5f9db14449fe973714c36f123766",
       "version_major": 2,
       "version_minor": 0
      },
      "text/plain": [
       "HBox(children=(FloatProgress(value=0.0, max=19.0), HTML(value='')))"
      ]
     },
     "metadata": {},
     "output_type": "display_data"
    },
    {
     "name": "stderr",
     "output_type": "stream",
     "text": [
      "INFO:fashion:val Loss: 1.8901 Acc: 0.8307\n",
      "INFO:fashion:val Task2 Acc: 0.9819 Task3 Acc: 0.9050\n",
      "INFO:fashion:Running epoch 23/29\n",
      "INFO:fashion:----------\n",
      "INFO:fashion:Iterating through data for phase: train\n"
     ]
    },
    {
     "name": "stdout",
     "output_type": "stream",
     "text": [
      "\n"
     ]
    },
    {
     "data": {
      "application/vnd.jupyter.widget-view+json": {
       "model_id": "1cb326a753e64a14af40416f538dbe87",
       "version_major": 2,
       "version_minor": 0
      },
      "text/plain": [
       "HBox(children=(FloatProgress(value=0.0, max=73.0), HTML(value='')))"
      ]
     },
     "metadata": {},
     "output_type": "display_data"
    },
    {
     "name": "stderr",
     "output_type": "stream",
     "text": [
      "INFO:fashion:train Loss: 0.7774 Acc: 0.8816\n",
      "INFO:fashion:train Task2 Acc: 0.9821 Task3 Acc: 0.9211\n",
      "INFO:fashion:Iterating through data for phase: val\n"
     ]
    },
    {
     "name": "stdout",
     "output_type": "stream",
     "text": [
      "\n"
     ]
    },
    {
     "data": {
      "application/vnd.jupyter.widget-view+json": {
       "model_id": "5a0340ba9ae7456c8ba450d67a109827",
       "version_major": 2,
       "version_minor": 0
      },
      "text/plain": [
       "HBox(children=(FloatProgress(value=0.0, max=19.0), HTML(value='')))"
      ]
     },
     "metadata": {},
     "output_type": "display_data"
    },
    {
     "name": "stderr",
     "output_type": "stream",
     "text": [
      "INFO:fashion:val Loss: 1.9295 Acc: 0.8377\n",
      "INFO:fashion:val Task2 Acc: 0.9819 Task3 Acc: 0.9033\n",
      "INFO:fashion:Running epoch 24/29\n",
      "INFO:fashion:----------\n",
      "INFO:fashion:Iterating through data for phase: train\n"
     ]
    },
    {
     "name": "stdout",
     "output_type": "stream",
     "text": [
      "\n"
     ]
    },
    {
     "data": {
      "application/vnd.jupyter.widget-view+json": {
       "model_id": "48d771e16c2a49a2860414ff8d234ea8",
       "version_major": 2,
       "version_minor": 0
      },
      "text/plain": [
       "HBox(children=(FloatProgress(value=0.0, max=73.0), HTML(value='')))"
      ]
     },
     "metadata": {},
     "output_type": "display_data"
    },
    {
     "name": "stderr",
     "output_type": "stream",
     "text": [
      "INFO:fashion:train Loss: 0.7657 Acc: 0.8833\n",
      "INFO:fashion:train Task2 Acc: 0.9821 Task3 Acc: 0.9209\n",
      "INFO:fashion:Iterating through data for phase: val\n"
     ]
    },
    {
     "name": "stdout",
     "output_type": "stream",
     "text": [
      "\n"
     ]
    },
    {
     "data": {
      "application/vnd.jupyter.widget-view+json": {
       "model_id": "82ffe6c1a9aa4c57aec5d6d4a3627f5f",
       "version_major": 2,
       "version_minor": 0
      },
      "text/plain": [
       "HBox(children=(FloatProgress(value=0.0, max=19.0), HTML(value='')))"
      ]
     },
     "metadata": {},
     "output_type": "display_data"
    },
    {
     "name": "stderr",
     "output_type": "stream",
     "text": [
      "INFO:fashion:val Loss: 1.8136 Acc: 0.8342\n",
      "INFO:fashion:val Task2 Acc: 0.9819 Task3 Acc: 0.9093\n",
      "INFO:fashion:Running epoch 25/29\n",
      "INFO:fashion:----------\n",
      "INFO:fashion:Iterating through data for phase: train\n"
     ]
    },
    {
     "name": "stdout",
     "output_type": "stream",
     "text": [
      "\n"
     ]
    },
    {
     "data": {
      "application/vnd.jupyter.widget-view+json": {
       "model_id": "a4abf65a08e440d9ac1079824e4a2829",
       "version_major": 2,
       "version_minor": 0
      },
      "text/plain": [
       "HBox(children=(FloatProgress(value=0.0, max=73.0), HTML(value='')))"
      ]
     },
     "metadata": {},
     "output_type": "display_data"
    },
    {
     "name": "stderr",
     "output_type": "stream",
     "text": [
      "INFO:fashion:train Loss: 0.7893 Acc: 0.8840\n",
      "INFO:fashion:train Task2 Acc: 0.9808 Task3 Acc: 0.9181\n",
      "INFO:fashion:Iterating through data for phase: val\n"
     ]
    },
    {
     "name": "stdout",
     "output_type": "stream",
     "text": [
      "\n"
     ]
    },
    {
     "data": {
      "application/vnd.jupyter.widget-view+json": {
       "model_id": "f2b4b9618ef24d358489fcd545aea90b",
       "version_major": 2,
       "version_minor": 0
      },
      "text/plain": [
       "HBox(children=(FloatProgress(value=0.0, max=19.0), HTML(value='')))"
      ]
     },
     "metadata": {},
     "output_type": "display_data"
    },
    {
     "name": "stderr",
     "output_type": "stream",
     "text": [
      "INFO:fashion:val Loss: 1.8752 Acc: 0.8420\n",
      "INFO:fashion:val Task2 Acc: 0.9810 Task3 Acc: 0.9033\n",
      "INFO:fashion:Running epoch 26/29\n",
      "INFO:fashion:----------\n",
      "INFO:fashion:Iterating through data for phase: train\n"
     ]
    },
    {
     "name": "stdout",
     "output_type": "stream",
     "text": [
      "\n"
     ]
    },
    {
     "data": {
      "application/vnd.jupyter.widget-view+json": {
       "model_id": "5f4164257ba2450598f3587c20b63549",
       "version_major": 2,
       "version_minor": 0
      },
      "text/plain": [
       "HBox(children=(FloatProgress(value=0.0, max=73.0), HTML(value='')))"
      ]
     },
     "metadata": {},
     "output_type": "display_data"
    },
    {
     "name": "stderr",
     "output_type": "stream",
     "text": [
      "INFO:fashion:train Loss: 0.7927 Acc: 0.8827\n",
      "INFO:fashion:train Task2 Acc: 0.9831 Task3 Acc: 0.9149\n",
      "INFO:fashion:Iterating through data for phase: val\n"
     ]
    },
    {
     "name": "stdout",
     "output_type": "stream",
     "text": [
      "\n"
     ]
    },
    {
     "data": {
      "application/vnd.jupyter.widget-view+json": {
       "model_id": "618f7229f7774cee9f1b46711a6af620",
       "version_major": 2,
       "version_minor": 0
      },
      "text/plain": [
       "HBox(children=(FloatProgress(value=0.0, max=19.0), HTML(value='')))"
      ]
     },
     "metadata": {},
     "output_type": "display_data"
    },
    {
     "name": "stderr",
     "output_type": "stream",
     "text": [
      "INFO:fashion:val Loss: 1.8327 Acc: 0.8420\n",
      "INFO:fashion:val Task2 Acc: 0.9819 Task3 Acc: 0.9050\n",
      "INFO:fashion:Running epoch 27/29\n",
      "INFO:fashion:----------\n",
      "INFO:fashion:Iterating through data for phase: train\n"
     ]
    },
    {
     "name": "stdout",
     "output_type": "stream",
     "text": [
      "\n"
     ]
    },
    {
     "data": {
      "application/vnd.jupyter.widget-view+json": {
       "model_id": "55ea20596ef24b50b90637a8673e0a2d",
       "version_major": 2,
       "version_minor": 0
      },
      "text/plain": [
       "HBox(children=(FloatProgress(value=0.0, max=73.0), HTML(value='')))"
      ]
     },
     "metadata": {},
     "output_type": "display_data"
    },
    {
     "name": "stderr",
     "output_type": "stream",
     "text": [
      "INFO:fashion:train Loss: 0.7691 Acc: 0.8853\n",
      "INFO:fashion:train Task2 Acc: 0.9810 Task3 Acc: 0.9192\n",
      "INFO:fashion:Iterating through data for phase: val\n"
     ]
    },
    {
     "name": "stdout",
     "output_type": "stream",
     "text": [
      "\n"
     ]
    },
    {
     "data": {
      "application/vnd.jupyter.widget-view+json": {
       "model_id": "7cc85646c5f14adbafce05ff2f48423d",
       "version_major": 2,
       "version_minor": 0
      },
      "text/plain": [
       "HBox(children=(FloatProgress(value=0.0, max=19.0), HTML(value='')))"
      ]
     },
     "metadata": {},
     "output_type": "display_data"
    },
    {
     "name": "stderr",
     "output_type": "stream",
     "text": [
      "INFO:fashion:val Loss: 1.8534 Acc: 0.8385\n",
      "INFO:fashion:val Task2 Acc: 0.9819 Task3 Acc: 0.9067\n",
      "INFO:fashion:Running epoch 28/29\n",
      "INFO:fashion:----------\n",
      "INFO:fashion:Iterating through data for phase: train\n"
     ]
    },
    {
     "name": "stdout",
     "output_type": "stream",
     "text": [
      "\n"
     ]
    },
    {
     "data": {
      "application/vnd.jupyter.widget-view+json": {
       "model_id": "9ac864a753484e768f0753e3d51ad9b1",
       "version_major": 2,
       "version_minor": 0
      },
      "text/plain": [
       "HBox(children=(FloatProgress(value=0.0, max=73.0), HTML(value='')))"
      ]
     },
     "metadata": {},
     "output_type": "display_data"
    },
    {
     "name": "stderr",
     "output_type": "stream",
     "text": [
      "INFO:fashion:train Loss: 0.8033 Acc: 0.8829\n",
      "INFO:fashion:train Task2 Acc: 0.9834 Task3 Acc: 0.9166\n",
      "INFO:fashion:Iterating through data for phase: val\n"
     ]
    },
    {
     "name": "stdout",
     "output_type": "stream",
     "text": [
      "\n"
     ]
    },
    {
     "data": {
      "application/vnd.jupyter.widget-view+json": {
       "model_id": "35f84c48c9c64a6280c4f7a4f571b760",
       "version_major": 2,
       "version_minor": 0
      },
      "text/plain": [
       "HBox(children=(FloatProgress(value=0.0, max=19.0), HTML(value='')))"
      ]
     },
     "metadata": {},
     "output_type": "display_data"
    },
    {
     "name": "stderr",
     "output_type": "stream",
     "text": [
      "INFO:fashion:val Loss: 1.8333 Acc: 0.8368\n",
      "INFO:fashion:val Task2 Acc: 0.9819 Task3 Acc: 0.9050\n",
      "INFO:fashion:Running epoch 29/29\n",
      "INFO:fashion:----------\n",
      "INFO:fashion:Iterating through data for phase: train\n"
     ]
    },
    {
     "name": "stdout",
     "output_type": "stream",
     "text": [
      "\n"
     ]
    },
    {
     "data": {
      "application/vnd.jupyter.widget-view+json": {
       "model_id": "bc41659fb2f64d92860ba7649f9dd0ae",
       "version_major": 2,
       "version_minor": 0
      },
      "text/plain": [
       "HBox(children=(FloatProgress(value=0.0, max=73.0), HTML(value='')))"
      ]
     },
     "metadata": {},
     "output_type": "display_data"
    },
    {
     "name": "stderr",
     "output_type": "stream",
     "text": [
      "INFO:fashion:train Loss: 0.7709 Acc: 0.8823\n",
      "INFO:fashion:train Task2 Acc: 0.9831 Task3 Acc: 0.9145\n",
      "INFO:fashion:Iterating through data for phase: val\n"
     ]
    },
    {
     "name": "stdout",
     "output_type": "stream",
     "text": [
      "\n"
     ]
    },
    {
     "data": {
      "application/vnd.jupyter.widget-view+json": {
       "model_id": "ea08b564bc6c447f83efb732c8f52470",
       "version_major": 2,
       "version_minor": 0
      },
      "text/plain": [
       "HBox(children=(FloatProgress(value=0.0, max=19.0), HTML(value='')))"
      ]
     },
     "metadata": {},
     "output_type": "display_data"
    },
    {
     "name": "stderr",
     "output_type": "stream",
     "text": [
      "INFO:fashion:val Loss: 1.7087 Acc: 0.8307\n",
      "INFO:fashion:val Task2 Acc: 0.9819 Task3 Acc: 0.9093\n",
      "INFO:fashion:Training complete in 54m 17s\n",
      "INFO:fashion:Best val Acc: 0.844560\n",
      "INFO:fashion:Setting model to the best one found during training\n"
     ]
    },
    {
     "name": "stdout",
     "output_type": "stream",
     "text": [
      "\n"
     ]
    }
   ],
   "source": [
    "trainer_ft.train(30)"
   ]
  },
  {
   "cell_type": "code",
   "execution_count": 27,
   "metadata": {},
   "outputs": [
    {
     "data": {
      "image/png": "[encoded data removed]",
      "text/plain": [
       "<Figure size 576x432 with 1 Axes>"
      ]
     },
     "metadata": {
      "needs_background": "light"
     },
     "output_type": "display_data"
    }
   ],
   "source": [
    "trainer_ft.plot_perf()"
   ]
  },
  {
   "cell_type": "code",
   "execution_count": 28,
   "metadata": {},
   "outputs": [
    {
     "data": {
      "application/vnd.jupyter.widget-view+json": {
       "model_id": "bc312618739a4d5cb85199073fd463c7",
       "version_major": 2,
       "version_minor": 0
      },
      "text/plain": [
       "HBox(children=(FloatProgress(value=0.0, max=87.0), HTML(value='')))"
      ]
     },
     "metadata": {},
     "output_type": "display_data"
    },
    {
     "name": "stdout",
     "output_type": "stream",
     "text": [
      "\n"
     ]
    }
   ],
   "source": [
    "acc_df_ft = trainer_ft.get_test_accuracy()"
   ]
  },
  {
   "cell_type": "code",
   "execution_count": 29,
   "metadata": {},
   "outputs": [],
   "source": [
    "acc_df_ft[acc_df_ft==-0] = 0"
   ]
  },
  {
   "cell_type": "code",
   "execution_count": 31,
   "metadata": {},
   "outputs": [
    {
     "data": {
      "text/html": [
       "<div>\n",
       "<style scoped>\n",
       "    .dataframe tbody tr th:only-of-type {\n",
       "        vertical-align: middle;\n",
       "    }\n",
       "\n",
       "    .dataframe tbody tr th {\n",
       "        vertical-align: top;\n",
       "    }\n",
       "\n",
       "    .dataframe thead th {\n",
       "        text-align: right;\n",
       "    }\n",
       "</style>\n",
       "<table border=\"1\" class=\"dataframe\">\n",
       "  <thead>\n",
       "    <tr style=\"text-align: right;\">\n",
       "      <th></th>\n",
       "      <th>Top-1</th>\n",
       "      <th>Top-5</th>\n",
       "    </tr>\n",
       "  </thead>\n",
       "  <tbody>\n",
       "    <tr>\n",
       "      <th>Average (Micro)</th>\n",
       "      <td>48.97</td>\n",
       "      <td>63.94</td>\n",
       "    </tr>\n",
       "    <tr>\n",
       "      <th>Accessory Gift Set</th>\n",
       "      <td>100.00</td>\n",
       "      <td>100.00</td>\n",
       "    </tr>\n",
       "    <tr>\n",
       "      <th>Baby Dolls</th>\n",
       "      <td>0.00</td>\n",
       "      <td>0.00</td>\n",
       "    </tr>\n",
       "    <tr>\n",
       "      <th>Bangle</th>\n",
       "      <td>4.35</td>\n",
       "      <td>78.26</td>\n",
       "    </tr>\n",
       "    <tr>\n",
       "      <th>Basketballs</th>\n",
       "      <td>90.91</td>\n",
       "      <td>100.00</td>\n",
       "    </tr>\n",
       "    <tr>\n",
       "      <th>...</th>\n",
       "      <td>...</td>\n",
       "      <td>...</td>\n",
       "    </tr>\n",
       "    <tr>\n",
       "      <th>Umbrellas</th>\n",
       "      <td>100.00</td>\n",
       "      <td>100.00</td>\n",
       "    </tr>\n",
       "    <tr>\n",
       "      <th>Waist Pouch</th>\n",
       "      <td>0.00</td>\n",
       "      <td>61.54</td>\n",
       "    </tr>\n",
       "    <tr>\n",
       "      <th>Waistcoat</th>\n",
       "      <td>33.33</td>\n",
       "      <td>100.00</td>\n",
       "    </tr>\n",
       "    <tr>\n",
       "      <th>Water Bottle</th>\n",
       "      <td>100.00</td>\n",
       "      <td>100.00</td>\n",
       "    </tr>\n",
       "    <tr>\n",
       "      <th>Wristbands</th>\n",
       "      <td>100.00</td>\n",
       "      <td>100.00</td>\n",
       "    </tr>\n",
       "  </tbody>\n",
       "</table>\n",
       "<p>123 rows × 2 columns</p>\n",
       "</div>"
      ],
      "text/plain": [
       "                     Top-1   Top-5\n",
       "Average (Micro)      48.97   63.94\n",
       "Accessory Gift Set  100.00  100.00\n",
       "Baby Dolls            0.00    0.00\n",
       "Bangle                4.35   78.26\n",
       "Basketballs          90.91  100.00\n",
       "...                    ...     ...\n",
       "Umbrellas           100.00  100.00\n",
       "Waist Pouch           0.00   61.54\n",
       "Waistcoat            33.33  100.00\n",
       "Water Bottle        100.00  100.00\n",
       "Wristbands          100.00  100.00\n",
       "\n",
       "[123 rows x 2 columns]"
      ]
     },
     "execution_count": 31,
     "metadata": {},
     "output_type": "execute_result"
    }
   ],
   "source": [
    "acc_df_ft"
   ]
  },
  {
   "cell_type": "code",
   "execution_count": 32,
   "metadata": {},
   "outputs": [
    {
     "name": "stdout",
     "output_type": "stream",
     "text": [
      "<table border=\"1\" class=\"dataframe\">\n",
      "  <thead>\n",
      "    <tr style=\"text-align: right;\">\n",
      "      <th></th>\n",
      "      <th>Top-1</th>\n",
      "      <th>Top-5</th>\n",
      "    </tr>\n",
      "  </thead>\n",
      "  <tbody>\n",
      "    <tr>\n",
      "      <th>Average (Micro)</th>\n",
      "      <td>48.97</td>\n",
      "      <td>63.94</td>\n",
      "    </tr>\n",
      "    <tr>\n",
      "      <th>Accessory Gift Set</th>\n",
      "      <td>100.00</td>\n",
      "      <td>100.00</td>\n",
      "    </tr>\n",
      "    <tr>\n",
      "      <th>Baby Dolls</th>\n",
      "      <td>0.00</td>\n",
      "      <td>0.00</td>\n",
      "    </tr>\n",
      "    <tr>\n",
      "      <th>Bangle</th>\n",
      "      <td>4.35</td>\n",
      "      <td>78.26</td>\n",
      "    </tr>\n",
      "    <tr>\n",
      "      <th>Basketballs</th>\n",
      "      <td>90.91</td>\n",
      "      <td>100.00</td>\n",
      "    </tr>\n",
      "    <tr>\n",
      "      <th>Bath Robe</th>\n",
      "      <td>0.00</td>\n",
      "      <td>0.00</td>\n",
      "    </tr>\n",
      "    <tr>\n",
      "      <th>Beauty Accessory</th>\n",
      "      <td>0.00</td>\n",
      "      <td>0.00</td>\n",
      "    </tr>\n",
      "    <tr>\n",
      "      <th>Blazers</th>\n",
      "      <td>0.00</td>\n",
      "      <td>0.00</td>\n",
      "    </tr>\n",
      "    <tr>\n",
      "      <th>Body Lotion</th>\n",
      "      <td>0.00</td>\n",
      "      <td>0.00</td>\n",
      "    </tr>\n",
      "    <tr>\n",
      "      <th>Body Wash and Scrub</th>\n",
      "      <td>0.00</td>\n",
      "      <td>0.00</td>\n",
      "    </tr>\n",
      "    <tr>\n",
      "      <th>Booties</th>\n",
      "      <td>0.00</td>\n",
      "      <td>0.00</td>\n",
      "    </tr>\n",
      "    <tr>\n",
      "      <th>Boxers</th>\n",
      "      <td>0.00</td>\n",
      "      <td>0.00</td>\n",
      "    </tr>\n",
      "    <tr>\n",
      "      <th>Bra</th>\n",
      "      <td>98.78</td>\n",
      "      <td>99.70</td>\n",
      "    </tr>\n",
      "    <tr>\n",
      "      <th>Bracelet</th>\n",
      "      <td>85.71</td>\n",
      "      <td>100.00</td>\n",
      "    </tr>\n",
      "    <tr>\n",
      "      <th>Camisoles</th>\n",
      "      <td>47.06</td>\n",
      "      <td>85.29</td>\n",
      "    </tr>\n",
      "    <tr>\n",
      "      <th>Capris</th>\n",
      "      <td>59.62</td>\n",
      "      <td>100.00</td>\n",
      "    </tr>\n",
      "    <tr>\n",
      "      <th>Caps</th>\n",
      "      <td>94.66</td>\n",
      "      <td>98.47</td>\n",
      "    </tr>\n",
      "    <tr>\n",
      "      <th>Churidar</th>\n",
      "      <td>0.00</td>\n",
      "      <td>75.00</td>\n",
      "    </tr>\n",
      "    <tr>\n",
      "      <th>Clothing Set</th>\n",
      "      <td>0.00</td>\n",
      "      <td>0.00</td>\n",
      "    </tr>\n",
      "    <tr>\n",
      "      <th>Clutches</th>\n",
      "      <td>95.83</td>\n",
      "      <td>100.00</td>\n",
      "    </tr>\n",
      "    <tr>\n",
      "      <th>Compact</th>\n",
      "      <td>0.00</td>\n",
      "      <td>0.00</td>\n",
      "    </tr>\n",
      "    <tr>\n",
      "      <th>Concealer</th>\n",
      "      <td>0.00</td>\n",
      "      <td>0.00</td>\n",
      "    </tr>\n",
      "    <tr>\n",
      "      <th>Cufflinks</th>\n",
      "      <td>96.67</td>\n",
      "      <td>100.00</td>\n",
      "    </tr>\n",
      "    <tr>\n",
      "      <th>Cushion Covers</th>\n",
      "      <td>0.00</td>\n",
      "      <td>0.00</td>\n",
      "    </tr>\n",
      "    <tr>\n",
      "      <th>Deodorant</th>\n",
      "      <td>0.00</td>\n",
      "      <td>0.00</td>\n",
      "    </tr>\n",
      "    <tr>\n",
      "      <th>Dresses</th>\n",
      "      <td>69.89</td>\n",
      "      <td>98.92</td>\n",
      "    </tr>\n",
      "    <tr>\n",
      "      <th>Duffel Bag</th>\n",
      "      <td>86.96</td>\n",
      "      <td>100.00</td>\n",
      "    </tr>\n",
      "    <tr>\n",
      "      <th>Dupatta</th>\n",
      "      <td>37.50</td>\n",
      "      <td>100.00</td>\n",
      "    </tr>\n",
      "    <tr>\n",
      "      <th>Earrings</th>\n",
      "      <td>100.00</td>\n",
      "      <td>100.00</td>\n",
      "    </tr>\n",
      "    <tr>\n",
      "      <th>Eye Cream</th>\n",
      "      <td>0.00</td>\n",
      "      <td>0.00</td>\n",
      "    </tr>\n",
      "    <tr>\n",
      "      <th>Eyeshadow</th>\n",
      "      <td>0.00</td>\n",
      "      <td>0.00</td>\n",
      "    </tr>\n",
      "    <tr>\n",
      "      <th>Face Moisturisers</th>\n",
      "      <td>0.00</td>\n",
      "      <td>0.00</td>\n",
      "    </tr>\n",
      "    <tr>\n",
      "      <th>Face Scrub and Exfoliator</th>\n",
      "      <td>0.00</td>\n",
      "      <td>0.00</td>\n",
      "    </tr>\n",
      "    <tr>\n",
      "      <th>Face Serum and Gel</th>\n",
      "      <td>0.00</td>\n",
      "      <td>0.00</td>\n",
      "    </tr>\n",
      "    <tr>\n",
      "      <th>Face Wash and Cleanser</th>\n",
      "      <td>0.00</td>\n",
      "      <td>0.00</td>\n",
      "    </tr>\n",
      "    <tr>\n",
      "      <th>Flats</th>\n",
      "      <td>91.14</td>\n",
      "      <td>100.00</td>\n",
      "    </tr>\n",
      "    <tr>\n",
      "      <th>Footballs</th>\n",
      "      <td>100.00</td>\n",
      "      <td>100.00</td>\n",
      "    </tr>\n",
      "    <tr>\n",
      "      <th>Foundation and Primer</th>\n",
      "      <td>0.00</td>\n",
      "      <td>0.00</td>\n",
      "    </tr>\n",
      "    <tr>\n",
      "      <th>Fragrance Gift Set</th>\n",
      "      <td>0.00</td>\n",
      "      <td>0.00</td>\n",
      "    </tr>\n",
      "    <tr>\n",
      "      <th>Free Gifts</th>\n",
      "      <td>8.33</td>\n",
      "      <td>50.00</td>\n",
      "    </tr>\n",
      "    <tr>\n",
      "      <th>Gloves</th>\n",
      "      <td>100.00</td>\n",
      "      <td>100.00</td>\n",
      "    </tr>\n",
      "    <tr>\n",
      "      <th>Hair Accessory</th>\n",
      "      <td>0.00</td>\n",
      "      <td>0.00</td>\n",
      "    </tr>\n",
      "    <tr>\n",
      "      <th>Hair Colour</th>\n",
      "      <td>0.00</td>\n",
      "      <td>0.00</td>\n",
      "    </tr>\n",
      "    <tr>\n",
      "      <th>Hat</th>\n",
      "      <td>0.00</td>\n",
      "      <td>0.00</td>\n",
      "    </tr>\n",
      "    <tr>\n",
      "      <th>Headband</th>\n",
      "      <td>100.00</td>\n",
      "      <td>100.00</td>\n",
      "    </tr>\n",
      "    <tr>\n",
      "      <th>Highlighter and Blush</th>\n",
      "      <td>0.00</td>\n",
      "      <td>0.00</td>\n",
      "    </tr>\n",
      "    <tr>\n",
      "      <th>Innerwear Vests</th>\n",
      "      <td>100.00</td>\n",
      "      <td>100.00</td>\n",
      "    </tr>\n",
      "    <tr>\n",
      "      <th>Ipad</th>\n",
      "      <td>0.00</td>\n",
      "      <td>0.00</td>\n",
      "    </tr>\n",
      "    <tr>\n",
      "      <th>Jackets</th>\n",
      "      <td>61.70</td>\n",
      "      <td>97.87</td>\n",
      "    </tr>\n",
      "    <tr>\n",
      "      <th>Jeggings</th>\n",
      "      <td>0.00</td>\n",
      "      <td>0.00</td>\n",
      "    </tr>\n",
      "    <tr>\n",
      "      <th>Jewellery Set</th>\n",
      "      <td>38.46</td>\n",
      "      <td>100.00</td>\n",
      "    </tr>\n",
      "    <tr>\n",
      "      <th>Jumpsuit</th>\n",
      "      <td>0.00</td>\n",
      "      <td>100.00</td>\n",
      "    </tr>\n",
      "    <tr>\n",
      "      <th>Kajal and Eyeliner</th>\n",
      "      <td>0.00</td>\n",
      "      <td>0.00</td>\n",
      "    </tr>\n",
      "    <tr>\n",
      "      <th>Key chain</th>\n",
      "      <td>0.00</td>\n",
      "      <td>0.00</td>\n",
      "    </tr>\n",
      "    <tr>\n",
      "      <th>Kurta Sets</th>\n",
      "      <td>100.00</td>\n",
      "      <td>100.00</td>\n",
      "    </tr>\n",
      "    <tr>\n",
      "      <th>Kurtis</th>\n",
      "      <td>78.41</td>\n",
      "      <td>100.00</td>\n",
      "    </tr>\n",
      "    <tr>\n",
      "      <th>Laptop Bag</th>\n",
      "      <td>62.86</td>\n",
      "      <td>100.00</td>\n",
      "    </tr>\n",
      "    <tr>\n",
      "      <th>Leggings</th>\n",
      "      <td>52.08</td>\n",
      "      <td>91.67</td>\n",
      "    </tr>\n",
      "    <tr>\n",
      "      <th>Lehenga Choli</th>\n",
      "      <td>0.00</td>\n",
      "      <td>0.00</td>\n",
      "    </tr>\n",
      "    <tr>\n",
      "      <th>Lip Care</th>\n",
      "      <td>0.00</td>\n",
      "      <td>0.00</td>\n",
      "    </tr>\n",
      "    <tr>\n",
      "      <th>Lip Gloss</th>\n",
      "      <td>0.00</td>\n",
      "      <td>0.00</td>\n",
      "    </tr>\n",
      "    <tr>\n",
      "      <th>Lip Liner</th>\n",
      "      <td>0.00</td>\n",
      "      <td>0.00</td>\n",
      "    </tr>\n",
      "    <tr>\n",
      "      <th>Lip Plumper</th>\n",
      "      <td>0.00</td>\n",
      "      <td>0.00</td>\n",
      "    </tr>\n",
      "    <tr>\n",
      "      <th>Lipstick</th>\n",
      "      <td>0.00</td>\n",
      "      <td>0.00</td>\n",
      "    </tr>\n",
      "    <tr>\n",
      "      <th>Lounge Pants</th>\n",
      "      <td>47.37</td>\n",
      "      <td>78.95</td>\n",
      "    </tr>\n",
      "    <tr>\n",
      "      <th>Lounge Shorts</th>\n",
      "      <td>0.00</td>\n",
      "      <td>77.78</td>\n",
      "    </tr>\n",
      "    <tr>\n",
      "      <th>Lounge Tshirts</th>\n",
      "      <td>0.00</td>\n",
      "      <td>0.00</td>\n",
      "    </tr>\n",
      "    <tr>\n",
      "      <th>Makeup Remover</th>\n",
      "      <td>0.00</td>\n",
      "      <td>100.00</td>\n",
      "    </tr>\n",
      "    <tr>\n",
      "      <th>Mascara</th>\n",
      "      <td>0.00</td>\n",
      "      <td>0.00</td>\n",
      "    </tr>\n",
      "    <tr>\n",
      "      <th>Mask and Peel</th>\n",
      "      <td>0.00</td>\n",
      "      <td>0.00</td>\n",
      "    </tr>\n",
      "    <tr>\n",
      "      <th>Mens Grooming Kit</th>\n",
      "      <td>0.00</td>\n",
      "      <td>0.00</td>\n",
      "    </tr>\n",
      "    <tr>\n",
      "      <th>Messenger Bag</th>\n",
      "      <td>66.67</td>\n",
      "      <td>100.00</td>\n",
      "    </tr>\n",
      "    <tr>\n",
      "      <th>Mobile Pouch</th>\n",
      "      <td>33.33</td>\n",
      "      <td>100.00</td>\n",
      "    </tr>\n",
      "    <tr>\n",
      "      <th>Mufflers</th>\n",
      "      <td>34.48</td>\n",
      "      <td>100.00</td>\n",
      "    </tr>\n",
      "    <tr>\n",
      "      <th>Nail Essentials</th>\n",
      "      <td>0.00</td>\n",
      "      <td>0.00</td>\n",
      "    </tr>\n",
      "    <tr>\n",
      "      <th>Nail Polish</th>\n",
      "      <td>0.00</td>\n",
      "      <td>0.00</td>\n",
      "    </tr>\n",
      "    <tr>\n",
      "      <th>Necklace and Chains</th>\n",
      "      <td>95.00</td>\n",
      "      <td>100.00</td>\n",
      "    </tr>\n",
      "    <tr>\n",
      "      <th>Nehru Jackets</th>\n",
      "      <td>0.00</td>\n",
      "      <td>0.00</td>\n",
      "    </tr>\n",
      "    <tr>\n",
      "      <th>Night suits</th>\n",
      "      <td>51.43</td>\n",
      "      <td>91.43</td>\n",
      "    </tr>\n",
      "    <tr>\n",
      "      <th>Nightdress</th>\n",
      "      <td>26.88</td>\n",
      "      <td>73.12</td>\n",
      "    </tr>\n",
      "    <tr>\n",
      "      <th>Patiala</th>\n",
      "      <td>0.00</td>\n",
      "      <td>0.00</td>\n",
      "    </tr>\n",
      "    <tr>\n",
      "      <th>Pendant</th>\n",
      "      <td>64.20</td>\n",
      "      <td>98.77</td>\n",
      "    </tr>\n",
      "    <tr>\n",
      "      <th>Rain Jacket</th>\n",
      "      <td>100.00</td>\n",
      "      <td>100.00</td>\n",
      "    </tr>\n",
      "    <tr>\n",
      "      <th>Rain Trousers</th>\n",
      "      <td>100.00</td>\n",
      "      <td>100.00</td>\n",
      "    </tr>\n",
      "    <tr>\n",
      "      <th>Ring</th>\n",
      "      <td>79.31</td>\n",
      "      <td>100.00</td>\n",
      "    </tr>\n",
      "    <tr>\n",
      "      <th>Robe</th>\n",
      "      <td>33.33</td>\n",
      "      <td>33.33</td>\n",
      "    </tr>\n",
      "    <tr>\n",
      "      <th>Rompers</th>\n",
      "      <td>0.00</td>\n",
      "      <td>0.00</td>\n",
      "    </tr>\n",
      "    <tr>\n",
      "      <th>Rucksacks</th>\n",
      "      <td>100.00</td>\n",
      "      <td>100.00</td>\n",
      "    </tr>\n",
      "    <tr>\n",
      "      <th>Salwar</th>\n",
      "      <td>0.00</td>\n",
      "      <td>0.00</td>\n",
      "    </tr>\n",
      "    <tr>\n",
      "      <th>Salwar and Dupatta</th>\n",
      "      <td>0.00</td>\n",
      "      <td>0.00</td>\n",
      "    </tr>\n",
      "    <tr>\n",
      "      <th>Sarees</th>\n",
      "      <td>0.00</td>\n",
      "      <td>0.00</td>\n",
      "    </tr>\n",
      "    <tr>\n",
      "      <th>Scarves</th>\n",
      "      <td>45.65</td>\n",
      "      <td>91.30</td>\n",
      "    </tr>\n",
      "    <tr>\n",
      "      <th>Shapewear</th>\n",
      "      <td>100.00</td>\n",
      "      <td>100.00</td>\n",
      "    </tr>\n",
      "    <tr>\n",
      "      <th>Shoe Accessories</th>\n",
      "      <td>5.26</td>\n",
      "      <td>31.58</td>\n",
      "    </tr>\n",
      "    <tr>\n",
      "      <th>Shoe Laces</th>\n",
      "      <td>0.00</td>\n",
      "      <td>0.00</td>\n",
      "    </tr>\n",
      "    <tr>\n",
      "      <th>Shorts</th>\n",
      "      <td>73.46</td>\n",
      "      <td>98.10</td>\n",
      "    </tr>\n",
      "    <tr>\n",
      "      <th>Shrug</th>\n",
      "      <td>0.00</td>\n",
      "      <td>0.00</td>\n",
      "    </tr>\n",
      "    <tr>\n",
      "      <th>Skirts</th>\n",
      "      <td>67.92</td>\n",
      "      <td>77.36</td>\n",
      "    </tr>\n",
      "    <tr>\n",
      "      <th>Sports Sandals</th>\n",
      "      <td>86.67</td>\n",
      "      <td>100.00</td>\n",
      "    </tr>\n",
      "    <tr>\n",
      "      <th>Stockings</th>\n",
      "      <td>29.41</td>\n",
      "      <td>82.35</td>\n",
      "    </tr>\n",
      "    <tr>\n",
      "      <th>Stoles</th>\n",
      "      <td>20.00</td>\n",
      "      <td>90.00</td>\n",
      "    </tr>\n",
      "    <tr>\n",
      "      <th>Sunscreen</th>\n",
      "      <td>0.00</td>\n",
      "      <td>0.00</td>\n",
      "    </tr>\n",
      "    <tr>\n",
      "      <th>Suspenders</th>\n",
      "      <td>0.00</td>\n",
      "      <td>0.00</td>\n",
      "    </tr>\n",
      "    <tr>\n",
      "      <th>Sweaters</th>\n",
      "      <td>62.75</td>\n",
      "      <td>97.25</td>\n",
      "    </tr>\n",
      "    <tr>\n",
      "      <th>Sweatshirts</th>\n",
      "      <td>73.54</td>\n",
      "      <td>96.11</td>\n",
      "    </tr>\n",
      "    <tr>\n",
      "      <th>Swimwear</th>\n",
      "      <td>37.50</td>\n",
      "      <td>87.50</td>\n",
      "    </tr>\n",
      "    <tr>\n",
      "      <th>Tablet Sleeve</th>\n",
      "      <td>0.00</td>\n",
      "      <td>0.00</td>\n",
      "    </tr>\n",
      "    <tr>\n",
      "      <th>Ties</th>\n",
      "      <td>98.80</td>\n",
      "      <td>98.80</td>\n",
      "    </tr>\n",
      "    <tr>\n",
      "      <th>Ties and Cufflinks</th>\n",
      "      <td>0.00</td>\n",
      "      <td>0.00</td>\n",
      "    </tr>\n",
      "    <tr>\n",
      "      <th>Tights</th>\n",
      "      <td>0.00</td>\n",
      "      <td>100.00</td>\n",
      "    </tr>\n",
      "    <tr>\n",
      "      <th>Toner</th>\n",
      "      <td>0.00</td>\n",
      "      <td>0.00</td>\n",
      "    </tr>\n",
      "    <tr>\n",
      "      <th>Track Pants</th>\n",
      "      <td>72.25</td>\n",
      "      <td>98.27</td>\n",
      "    </tr>\n",
      "    <tr>\n",
      "      <th>Tracksuits</th>\n",
      "      <td>100.00</td>\n",
      "      <td>100.00</td>\n",
      "    </tr>\n",
      "    <tr>\n",
      "      <th>Travel Accessory</th>\n",
      "      <td>60.00</td>\n",
      "      <td>100.00</td>\n",
      "    </tr>\n",
      "    <tr>\n",
      "      <th>Trolley Bag</th>\n",
      "      <td>0.00</td>\n",
      "      <td>0.00</td>\n",
      "    </tr>\n",
      "    <tr>\n",
      "      <th>Trousers</th>\n",
      "      <td>87.74</td>\n",
      "      <td>98.85</td>\n",
      "    </tr>\n",
      "    <tr>\n",
      "      <th>Trunk</th>\n",
      "      <td>0.00</td>\n",
      "      <td>0.00</td>\n",
      "    </tr>\n",
      "    <tr>\n",
      "      <th>Tunics</th>\n",
      "      <td>44.44</td>\n",
      "      <td>100.00</td>\n",
      "    </tr>\n",
      "    <tr>\n",
      "      <th>Umbrellas</th>\n",
      "      <td>100.00</td>\n",
      "      <td>100.00</td>\n",
      "    </tr>\n",
      "    <tr>\n",
      "      <th>Waist Pouch</th>\n",
      "      <td>0.00</td>\n",
      "      <td>61.54</td>\n",
      "    </tr>\n",
      "    <tr>\n",
      "      <th>Waistcoat</th>\n",
      "      <td>33.33</td>\n",
      "      <td>100.00</td>\n",
      "    </tr>\n",
      "    <tr>\n",
      "      <th>Water Bottle</th>\n",
      "      <td>100.00</td>\n",
      "      <td>100.00</td>\n",
      "    </tr>\n",
      "    <tr>\n",
      "      <th>Wristbands</th>\n",
      "      <td>100.00</td>\n",
      "      <td>100.00</td>\n",
      "    </tr>\n",
      "  </tbody>\n",
      "</table>\n"
     ]
    }
   ],
   "source": [
    "print(acc_df_ft.to_html())"
   ]
  },
  {
   "cell_type": "markdown",
   "metadata": {},
   "source": [
    "#### Reset optimizer and train again"
   ]
  },
  {
   "cell_type": "code",
   "execution_count": 33,
   "metadata": {},
   "outputs": [
    {
     "name": "stdout",
     "output_type": "stream",
     "text": [
      "SGD (\n",
      "Parameter Group 0\n",
      "    dampening: 0\n",
      "    initial_lr: 0.001\n",
      "    lr: 6.103515625e-08\n",
      "    momentum: 0.9\n",
      "    nesterov: False\n",
      "    weight_decay: 0\n",
      ")\n",
      "6.103515625e-08\n"
     ]
    }
   ],
   "source": [
    "import torch.optim as optim\n",
    "\n",
    "print(trainer_ft.optimizer)\n",
    "\n",
    "for param_group in trainer_ft.optimizer.param_groups:\n",
    "    print(param_group['lr'])"
   ]
  },
  {
   "cell_type": "code",
   "execution_count": 34,
   "metadata": {},
   "outputs": [],
   "source": [
    "optimizer = optim.SGD(trainer_ft.model.parameters(), lr=1e-4, momentum=0.9)\n",
    "# Decay LR by a factor of 0.5 every 3 epochs\n",
    "scheduler = optim.lr_scheduler.StepLR(optimizer, step_size=3, gamma=0.5)\n",
    "\n",
    "trainer_ft.optimizer = optimizer\n",
    "trainer_ft.scheduler = scheduler"
   ]
  },
  {
   "cell_type": "code",
   "execution_count": 35,
   "metadata": {
    "scrolled": false
   },
   "outputs": [
    {
     "name": "stderr",
     "output_type": "stream",
     "text": [
      "INFO:fashion:Running epoch 0/19\n",
      "INFO:fashion:----------\n",
      "INFO:fashion:Iterating through data for phase: train\n"
     ]
    },
    {
     "data": {
      "application/vnd.jupyter.widget-view+json": {
       "model_id": "601b4dfc55b6478dbe526d22fc527417",
       "version_major": 2,
       "version_minor": 0
      },
      "text/plain": [
       "HBox(children=(FloatProgress(value=0.0, max=73.0), HTML(value='')))"
      ]
     },
     "metadata": {},
     "output_type": "display_data"
    },
    {
     "name": "stderr",
     "output_type": "stream",
     "text": [
      "INFO:fashion:train Loss: 0.8220 Acc: 0.8810\n",
      "INFO:fashion:train Task2 Acc: 0.9819 Task3 Acc: 0.9164\n",
      "INFO:fashion:Iterating through data for phase: val\n"
     ]
    },
    {
     "name": "stdout",
     "output_type": "stream",
     "text": [
      "\n"
     ]
    },
    {
     "data": {
      "application/vnd.jupyter.widget-view+json": {
       "model_id": "1a3ba60029824e788c50eb0c619e05e3",
       "version_major": 2,
       "version_minor": 0
      },
      "text/plain": [
       "HBox(children=(FloatProgress(value=0.0, max=19.0), HTML(value='')))"
      ]
     },
     "metadata": {},
     "output_type": "display_data"
    },
    {
     "name": "stderr",
     "output_type": "stream",
     "text": [
      "INFO:fashion:val Loss: 1.7919 Acc: 0.8359\n",
      "INFO:fashion:val Task2 Acc: 0.9819 Task3 Acc: 0.9050\n",
      "INFO:fashion:Running epoch 1/19\n",
      "INFO:fashion:----------\n",
      "INFO:fashion:Iterating through data for phase: train\n"
     ]
    },
    {
     "name": "stdout",
     "output_type": "stream",
     "text": [
      "\n"
     ]
    },
    {
     "data": {
      "application/vnd.jupyter.widget-view+json": {
       "model_id": "8c4ef0a7d9c046b48bf8925e7d877974",
       "version_major": 2,
       "version_minor": 0
      },
      "text/plain": [
       "HBox(children=(FloatProgress(value=0.0, max=73.0), HTML(value='')))"
      ]
     },
     "metadata": {},
     "output_type": "display_data"
    },
    {
     "name": "stderr",
     "output_type": "stream",
     "text": [
      "INFO:fashion:train Loss: 0.7996 Acc: 0.8816\n",
      "INFO:fashion:train Task2 Acc: 0.9827 Task3 Acc: 0.9127\n",
      "INFO:fashion:Iterating through data for phase: val\n"
     ]
    },
    {
     "name": "stdout",
     "output_type": "stream",
     "text": [
      "\n"
     ]
    },
    {
     "data": {
      "application/vnd.jupyter.widget-view+json": {
       "model_id": "ed06b474cf3848c7b48868716af2d395",
       "version_major": 2,
       "version_minor": 0
      },
      "text/plain": [
       "HBox(children=(FloatProgress(value=0.0, max=19.0), HTML(value='')))"
      ]
     },
     "metadata": {},
     "output_type": "display_data"
    },
    {
     "name": "stderr",
     "output_type": "stream",
     "text": [
      "INFO:fashion:val Loss: 1.7880 Acc: 0.8342\n",
      "INFO:fashion:val Task2 Acc: 0.9819 Task3 Acc: 0.9067\n",
      "INFO:fashion:Running epoch 2/19\n",
      "INFO:fashion:----------\n",
      "INFO:fashion:Iterating through data for phase: train\n"
     ]
    },
    {
     "name": "stdout",
     "output_type": "stream",
     "text": [
      "\n"
     ]
    },
    {
     "data": {
      "application/vnd.jupyter.widget-view+json": {
       "model_id": "1e7e18cd898e43e983a28c8b9c96a87c",
       "version_major": 2,
       "version_minor": 0
      },
      "text/plain": [
       "HBox(children=(FloatProgress(value=0.0, max=73.0), HTML(value='')))"
      ]
     },
     "metadata": {},
     "output_type": "display_data"
    },
    {
     "name": "stderr",
     "output_type": "stream",
     "text": [
      "INFO:fashion:train Loss: 0.7985 Acc: 0.8816\n",
      "INFO:fashion:train Task2 Acc: 0.9810 Task3 Acc: 0.9183\n",
      "INFO:fashion:Iterating through data for phase: val\n"
     ]
    },
    {
     "name": "stdout",
     "output_type": "stream",
     "text": [
      "\n"
     ]
    },
    {
     "data": {
      "application/vnd.jupyter.widget-view+json": {
       "model_id": "9ab336f1d7d24700ae49c791f576830f",
       "version_major": 2,
       "version_minor": 0
      },
      "text/plain": [
       "HBox(children=(FloatProgress(value=0.0, max=19.0), HTML(value='')))"
      ]
     },
     "metadata": {},
     "output_type": "display_data"
    },
    {
     "name": "stderr",
     "output_type": "stream",
     "text": [
      "INFO:fashion:val Loss: 1.8158 Acc: 0.8394\n",
      "INFO:fashion:val Task2 Acc: 0.9819 Task3 Acc: 0.9085\n",
      "INFO:fashion:Running epoch 3/19\n",
      "INFO:fashion:----------\n",
      "INFO:fashion:Iterating through data for phase: train\n"
     ]
    },
    {
     "name": "stdout",
     "output_type": "stream",
     "text": [
      "\n"
     ]
    },
    {
     "data": {
      "application/vnd.jupyter.widget-view+json": {
       "model_id": "2e8440667a264a61b96c4e2e5d5c5b63",
       "version_major": 2,
       "version_minor": 0
      },
      "text/plain": [
       "HBox(children=(FloatProgress(value=0.0, max=73.0), HTML(value='')))"
      ]
     },
     "metadata": {},
     "output_type": "display_data"
    },
    {
     "name": "stderr",
     "output_type": "stream",
     "text": [
      "INFO:fashion:train Loss: 0.7744 Acc: 0.8833\n",
      "INFO:fashion:train Task2 Acc: 0.9831 Task3 Acc: 0.9140\n",
      "INFO:fashion:Iterating through data for phase: val\n"
     ]
    },
    {
     "name": "stdout",
     "output_type": "stream",
     "text": [
      "\n"
     ]
    },
    {
     "data": {
      "application/vnd.jupyter.widget-view+json": {
       "model_id": "2c0ed68625a9441ab0f005abb8ef5e68",
       "version_major": 2,
       "version_minor": 0
      },
      "text/plain": [
       "HBox(children=(FloatProgress(value=0.0, max=19.0), HTML(value='')))"
      ]
     },
     "metadata": {},
     "output_type": "display_data"
    },
    {
     "name": "stderr",
     "output_type": "stream",
     "text": [
      "INFO:fashion:val Loss: 1.8766 Acc: 0.8377\n",
      "INFO:fashion:val Task2 Acc: 0.9827 Task3 Acc: 0.9076\n",
      "INFO:fashion:Running epoch 4/19\n",
      "INFO:fashion:----------\n",
      "INFO:fashion:Iterating through data for phase: train\n"
     ]
    },
    {
     "name": "stdout",
     "output_type": "stream",
     "text": [
      "\n"
     ]
    },
    {
     "data": {
      "application/vnd.jupyter.widget-view+json": {
       "model_id": "d9733b179f7d4f19a90d35c438168307",
       "version_major": 2,
       "version_minor": 0
      },
      "text/plain": [
       "HBox(children=(FloatProgress(value=0.0, max=73.0), HTML(value='')))"
      ]
     },
     "metadata": {},
     "output_type": "display_data"
    },
    {
     "name": "stderr",
     "output_type": "stream",
     "text": [
      "INFO:fashion:train Loss: 0.7422 Acc: 0.8864\n",
      "INFO:fashion:train Task2 Acc: 0.9844 Task3 Acc: 0.9205\n",
      "INFO:fashion:Iterating through data for phase: val\n"
     ]
    },
    {
     "name": "stdout",
     "output_type": "stream",
     "text": [
      "\n"
     ]
    },
    {
     "data": {
      "application/vnd.jupyter.widget-view+json": {
       "model_id": "c9db9affc02e45d8b34539d99fd0d0c2",
       "version_major": 2,
       "version_minor": 0
      },
      "text/plain": [
       "HBox(children=(FloatProgress(value=0.0, max=19.0), HTML(value='')))"
      ]
     },
     "metadata": {},
     "output_type": "display_data"
    },
    {
     "name": "stderr",
     "output_type": "stream",
     "text": [
      "INFO:fashion:val Loss: 1.7494 Acc: 0.8290\n",
      "INFO:fashion:val Task2 Acc: 0.9819 Task3 Acc: 0.9128\n",
      "INFO:fashion:Running epoch 5/19\n",
      "INFO:fashion:----------\n",
      "INFO:fashion:Iterating through data for phase: train\n"
     ]
    },
    {
     "name": "stdout",
     "output_type": "stream",
     "text": [
      "\n"
     ]
    },
    {
     "data": {
      "application/vnd.jupyter.widget-view+json": {
       "model_id": "a908a30fe413447698f096ae9ffaf246",
       "version_major": 2,
       "version_minor": 0
      },
      "text/plain": [
       "HBox(children=(FloatProgress(value=0.0, max=73.0), HTML(value='')))"
      ]
     },
     "metadata": {},
     "output_type": "display_data"
    },
    {
     "name": "stderr",
     "output_type": "stream",
     "text": [
      "INFO:fashion:train Loss: 0.7241 Acc: 0.8903\n",
      "INFO:fashion:train Task2 Acc: 0.9838 Task3 Acc: 0.9209\n",
      "INFO:fashion:Iterating through data for phase: val\n"
     ]
    },
    {
     "name": "stdout",
     "output_type": "stream",
     "text": [
      "\n"
     ]
    },
    {
     "data": {
      "application/vnd.jupyter.widget-view+json": {
       "model_id": "7f19246ced9244eeba158fec48e3ae29",
       "version_major": 2,
       "version_minor": 0
      },
      "text/plain": [
       "HBox(children=(FloatProgress(value=0.0, max=19.0), HTML(value='')))"
      ]
     },
     "metadata": {},
     "output_type": "display_data"
    },
    {
     "name": "stderr",
     "output_type": "stream",
     "text": [
      "INFO:fashion:val Loss: 1.8881 Acc: 0.8368\n",
      "INFO:fashion:val Task2 Acc: 0.9819 Task3 Acc: 0.9111\n",
      "INFO:fashion:Running epoch 6/19\n",
      "INFO:fashion:----------\n",
      "INFO:fashion:Iterating through data for phase: train\n"
     ]
    },
    {
     "name": "stdout",
     "output_type": "stream",
     "text": [
      "\n"
     ]
    },
    {
     "data": {
      "application/vnd.jupyter.widget-view+json": {
       "model_id": "d01929899f40423888e3feb3e2740e0e",
       "version_major": 2,
       "version_minor": 0
      },
      "text/plain": [
       "HBox(children=(FloatProgress(value=0.0, max=73.0), HTML(value='')))"
      ]
     },
     "metadata": {},
     "output_type": "display_data"
    },
    {
     "name": "stderr",
     "output_type": "stream",
     "text": [
      "INFO:fashion:train Loss: 0.7511 Acc: 0.8859\n",
      "INFO:fashion:train Task2 Acc: 0.9838 Task3 Acc: 0.9220\n",
      "INFO:fashion:Iterating through data for phase: val\n"
     ]
    },
    {
     "name": "stdout",
     "output_type": "stream",
     "text": [
      "\n"
     ]
    },
    {
     "data": {
      "application/vnd.jupyter.widget-view+json": {
       "model_id": "81ca2c8f19b540769b06e737c953ef96",
       "version_major": 2,
       "version_minor": 0
      },
      "text/plain": [
       "HBox(children=(FloatProgress(value=0.0, max=19.0), HTML(value='')))"
      ]
     },
     "metadata": {},
     "output_type": "display_data"
    },
    {
     "name": "stderr",
     "output_type": "stream",
     "text": [
      "INFO:fashion:val Loss: 1.7927 Acc: 0.8342\n",
      "INFO:fashion:val Task2 Acc: 0.9819 Task3 Acc: 0.9111\n",
      "INFO:fashion:Running epoch 7/19\n",
      "INFO:fashion:----------\n",
      "INFO:fashion:Iterating through data for phase: train\n"
     ]
    },
    {
     "name": "stdout",
     "output_type": "stream",
     "text": [
      "\n"
     ]
    },
    {
     "data": {
      "application/vnd.jupyter.widget-view+json": {
       "model_id": "3fd25cc1912e4a638a1534b6bbf57523",
       "version_major": 2,
       "version_minor": 0
      },
      "text/plain": [
       "HBox(children=(FloatProgress(value=0.0, max=73.0), HTML(value='')))"
      ]
     },
     "metadata": {},
     "output_type": "display_data"
    },
    {
     "name": "stderr",
     "output_type": "stream",
     "text": [
      "INFO:fashion:train Loss: 0.7528 Acc: 0.8911\n",
      "INFO:fashion:train Task2 Acc: 0.9838 Task3 Acc: 0.9218\n",
      "INFO:fashion:Iterating through data for phase: val\n"
     ]
    },
    {
     "name": "stdout",
     "output_type": "stream",
     "text": [
      "\n"
     ]
    },
    {
     "data": {
      "application/vnd.jupyter.widget-view+json": {
       "model_id": "cd2cbaea41d74beea963b5bdf1a03097",
       "version_major": 2,
       "version_minor": 0
      },
      "text/plain": [
       "HBox(children=(FloatProgress(value=0.0, max=19.0), HTML(value='')))"
      ]
     },
     "metadata": {},
     "output_type": "display_data"
    },
    {
     "name": "stderr",
     "output_type": "stream",
     "text": [
      "INFO:fashion:val Loss: 1.8081 Acc: 0.8428\n",
      "INFO:fashion:val Task2 Acc: 0.9819 Task3 Acc: 0.9085\n",
      "INFO:fashion:Running epoch 8/19\n",
      "INFO:fashion:----------\n",
      "INFO:fashion:Iterating through data for phase: train\n"
     ]
    },
    {
     "name": "stdout",
     "output_type": "stream",
     "text": [
      "\n"
     ]
    },
    {
     "data": {
      "application/vnd.jupyter.widget-view+json": {
       "model_id": "71222ed23ca04fb59b8381f158afe023",
       "version_major": 2,
       "version_minor": 0
      },
      "text/plain": [
       "HBox(children=(FloatProgress(value=0.0, max=73.0), HTML(value='')))"
      ]
     },
     "metadata": {},
     "output_type": "display_data"
    },
    {
     "name": "stderr",
     "output_type": "stream",
     "text": [
      "INFO:fashion:train Loss: 0.7486 Acc: 0.8877\n",
      "INFO:fashion:train Task2 Acc: 0.9851 Task3 Acc: 0.9194\n",
      "INFO:fashion:Iterating through data for phase: val\n"
     ]
    },
    {
     "name": "stdout",
     "output_type": "stream",
     "text": [
      "\n"
     ]
    },
    {
     "data": {
      "application/vnd.jupyter.widget-view+json": {
       "model_id": "01d8b763f9914567a994f68af69d5d24",
       "version_major": 2,
       "version_minor": 0
      },
      "text/plain": [
       "HBox(children=(FloatProgress(value=0.0, max=19.0), HTML(value='')))"
      ]
     },
     "metadata": {},
     "output_type": "display_data"
    },
    {
     "name": "stderr",
     "output_type": "stream",
     "text": [
      "INFO:fashion:val Loss: 1.7295 Acc: 0.8480\n",
      "INFO:fashion:val Task2 Acc: 0.9819 Task3 Acc: 0.9067\n",
      "INFO:fashion:--Saving checkpoint--\n"
     ]
    },
    {
     "name": "stdout",
     "output_type": "stream",
     "text": [
      "\n"
     ]
    },
    {
     "name": "stderr",
     "output_type": "stream",
     "text": [
      "INFO:fashion:Running epoch 9/19\n",
      "INFO:fashion:----------\n",
      "INFO:fashion:Iterating through data for phase: train\n"
     ]
    },
    {
     "data": {
      "application/vnd.jupyter.widget-view+json": {
       "model_id": "d6d1ad0106c04759a1fa6d43224265d9",
       "version_major": 2,
       "version_minor": 0
      },
      "text/plain": [
       "HBox(children=(FloatProgress(value=0.0, max=73.0), HTML(value='')))"
      ]
     },
     "metadata": {},
     "output_type": "display_data"
    },
    {
     "name": "stderr",
     "output_type": "stream",
     "text": [
      "INFO:fashion:train Loss: 0.7119 Acc: 0.8903\n",
      "INFO:fashion:train Task2 Acc: 0.9825 Task3 Acc: 0.9207\n",
      "INFO:fashion:Iterating through data for phase: val\n"
     ]
    },
    {
     "name": "stdout",
     "output_type": "stream",
     "text": [
      "\n"
     ]
    },
    {
     "data": {
      "application/vnd.jupyter.widget-view+json": {
       "model_id": "bdca3d0693d749e7a12f359894d4cbd0",
       "version_major": 2,
       "version_minor": 0
      },
      "text/plain": [
       "HBox(children=(FloatProgress(value=0.0, max=19.0), HTML(value='')))"
      ]
     },
     "metadata": {},
     "output_type": "display_data"
    },
    {
     "name": "stderr",
     "output_type": "stream",
     "text": [
      "INFO:fashion:val Loss: 1.7221 Acc: 0.8437\n",
      "INFO:fashion:val Task2 Acc: 0.9827 Task3 Acc: 0.9085\n",
      "INFO:fashion:Running epoch 10/19\n",
      "INFO:fashion:----------\n",
      "INFO:fashion:Iterating through data for phase: train\n"
     ]
    },
    {
     "name": "stdout",
     "output_type": "stream",
     "text": [
      "\n"
     ]
    },
    {
     "data": {
      "application/vnd.jupyter.widget-view+json": {
       "model_id": "cda5d3a82fe648039e207edffa01c4b4",
       "version_major": 2,
       "version_minor": 0
      },
      "text/plain": [
       "HBox(children=(FloatProgress(value=0.0, max=73.0), HTML(value='')))"
      ]
     },
     "metadata": {},
     "output_type": "display_data"
    },
    {
     "name": "stderr",
     "output_type": "stream",
     "text": [
      "INFO:fashion:train Loss: 0.7014 Acc: 0.8920\n",
      "INFO:fashion:train Task2 Acc: 0.9853 Task3 Acc: 0.9209\n",
      "INFO:fashion:Iterating through data for phase: val\n"
     ]
    },
    {
     "name": "stdout",
     "output_type": "stream",
     "text": [
      "\n"
     ]
    },
    {
     "data": {
      "application/vnd.jupyter.widget-view+json": {
       "model_id": "2106eab1c34b4fa0a042bd1d6ff91b77",
       "version_major": 2,
       "version_minor": 0
      },
      "text/plain": [
       "HBox(children=(FloatProgress(value=0.0, max=19.0), HTML(value='')))"
      ]
     },
     "metadata": {},
     "output_type": "display_data"
    },
    {
     "name": "stderr",
     "output_type": "stream",
     "text": [
      "INFO:fashion:val Loss: 1.7463 Acc: 0.8402\n",
      "INFO:fashion:val Task2 Acc: 0.9827 Task3 Acc: 0.9076\n",
      "INFO:fashion:Running epoch 11/19\n",
      "INFO:fashion:----------\n",
      "INFO:fashion:Iterating through data for phase: train\n"
     ]
    },
    {
     "name": "stdout",
     "output_type": "stream",
     "text": [
      "\n"
     ]
    },
    {
     "data": {
      "application/vnd.jupyter.widget-view+json": {
       "model_id": "a7214f0a076b4a8394aee2f0433ae476",
       "version_major": 2,
       "version_minor": 0
      },
      "text/plain": [
       "HBox(children=(FloatProgress(value=0.0, max=73.0), HTML(value='')))"
      ]
     },
     "metadata": {},
     "output_type": "display_data"
    },
    {
     "name": "stderr",
     "output_type": "stream",
     "text": [
      "INFO:fashion:train Loss: 0.7164 Acc: 0.8931\n",
      "INFO:fashion:train Task2 Acc: 0.9825 Task3 Acc: 0.9186\n",
      "INFO:fashion:Iterating through data for phase: val\n"
     ]
    },
    {
     "name": "stdout",
     "output_type": "stream",
     "text": [
      "\n"
     ]
    },
    {
     "data": {
      "application/vnd.jupyter.widget-view+json": {
       "model_id": "73d8b624f7c4495f837db8fba22f52a0",
       "version_major": 2,
       "version_minor": 0
      },
      "text/plain": [
       "HBox(children=(FloatProgress(value=0.0, max=19.0), HTML(value='')))"
      ]
     },
     "metadata": {},
     "output_type": "display_data"
    },
    {
     "name": "stderr",
     "output_type": "stream",
     "text": [
      "INFO:fashion:val Loss: 1.8701 Acc: 0.8385\n",
      "INFO:fashion:val Task2 Acc: 0.9827 Task3 Acc: 0.9111\n",
      "INFO:fashion:Running epoch 12/19\n",
      "INFO:fashion:----------\n",
      "INFO:fashion:Iterating through data for phase: train\n"
     ]
    },
    {
     "name": "stdout",
     "output_type": "stream",
     "text": [
      "\n"
     ]
    },
    {
     "data": {
      "application/vnd.jupyter.widget-view+json": {
       "model_id": "51b1ff47abde4f2082dd43afcd259e13",
       "version_major": 2,
       "version_minor": 0
      },
      "text/plain": [
       "HBox(children=(FloatProgress(value=0.0, max=73.0), HTML(value='')))"
      ]
     },
     "metadata": {},
     "output_type": "display_data"
    },
    {
     "name": "stderr",
     "output_type": "stream",
     "text": [
      "INFO:fashion:train Loss: 0.7057 Acc: 0.8935\n",
      "INFO:fashion:train Task2 Acc: 0.9834 Task3 Acc: 0.9201\n",
      "INFO:fashion:Iterating through data for phase: val\n"
     ]
    },
    {
     "name": "stdout",
     "output_type": "stream",
     "text": [
      "\n"
     ]
    },
    {
     "data": {
      "application/vnd.jupyter.widget-view+json": {
       "model_id": "4890b30965084abd9efd3d725ed74b9e",
       "version_major": 2,
       "version_minor": 0
      },
      "text/plain": [
       "HBox(children=(FloatProgress(value=0.0, max=19.0), HTML(value='')))"
      ]
     },
     "metadata": {},
     "output_type": "display_data"
    },
    {
     "name": "stderr",
     "output_type": "stream",
     "text": [
      "INFO:fashion:val Loss: 1.8003 Acc: 0.8368\n",
      "INFO:fashion:val Task2 Acc: 0.9819 Task3 Acc: 0.9145\n",
      "INFO:fashion:Running epoch 13/19\n",
      "INFO:fashion:----------\n",
      "INFO:fashion:Iterating through data for phase: train\n"
     ]
    },
    {
     "name": "stdout",
     "output_type": "stream",
     "text": [
      "\n"
     ]
    },
    {
     "data": {
      "application/vnd.jupyter.widget-view+json": {
       "model_id": "47442c2a88614ae4a79e8275ce09067b",
       "version_major": 2,
       "version_minor": 0
      },
      "text/plain": [
       "HBox(children=(FloatProgress(value=0.0, max=73.0), HTML(value='')))"
      ]
     },
     "metadata": {},
     "output_type": "display_data"
    },
    {
     "name": "stderr",
     "output_type": "stream",
     "text": [
      "INFO:fashion:train Loss: 0.6972 Acc: 0.8967\n",
      "INFO:fashion:train Task2 Acc: 0.9849 Task3 Acc: 0.9235\n",
      "INFO:fashion:Iterating through data for phase: val\n"
     ]
    },
    {
     "name": "stdout",
     "output_type": "stream",
     "text": [
      "\n"
     ]
    },
    {
     "data": {
      "application/vnd.jupyter.widget-view+json": {
       "model_id": "e7e2c04694924442abfc4de5ff519ee4",
       "version_major": 2,
       "version_minor": 0
      },
      "text/plain": [
       "HBox(children=(FloatProgress(value=0.0, max=19.0), HTML(value='')))"
      ]
     },
     "metadata": {},
     "output_type": "display_data"
    },
    {
     "name": "stderr",
     "output_type": "stream",
     "text": [
      "INFO:fashion:val Loss: 1.8431 Acc: 0.8342\n",
      "INFO:fashion:val Task2 Acc: 0.9819 Task3 Acc: 0.9102\n",
      "INFO:fashion:Running epoch 14/19\n",
      "INFO:fashion:----------\n",
      "INFO:fashion:Iterating through data for phase: train\n"
     ]
    },
    {
     "name": "stdout",
     "output_type": "stream",
     "text": [
      "\n"
     ]
    },
    {
     "data": {
      "application/vnd.jupyter.widget-view+json": {
       "model_id": "39b4f2016c4a4410aa262a590210af2f",
       "version_major": 2,
       "version_minor": 0
      },
      "text/plain": [
       "HBox(children=(FloatProgress(value=0.0, max=73.0), HTML(value='')))"
      ]
     },
     "metadata": {},
     "output_type": "display_data"
    },
    {
     "name": "stderr",
     "output_type": "stream",
     "text": [
      "INFO:fashion:train Loss: 0.7106 Acc: 0.8967\n",
      "INFO:fashion:train Task2 Acc: 0.9842 Task3 Acc: 0.9205\n",
      "INFO:fashion:Iterating through data for phase: val\n"
     ]
    },
    {
     "name": "stdout",
     "output_type": "stream",
     "text": [
      "\n"
     ]
    },
    {
     "data": {
      "application/vnd.jupyter.widget-view+json": {
       "model_id": "86c7a8fc2b4045b68e61170ed87017e8",
       "version_major": 2,
       "version_minor": 0
      },
      "text/plain": [
       "HBox(children=(FloatProgress(value=0.0, max=19.0), HTML(value='')))"
      ]
     },
     "metadata": {},
     "output_type": "display_data"
    },
    {
     "name": "stderr",
     "output_type": "stream",
     "text": [
      "INFO:fashion:val Loss: 1.7767 Acc: 0.8359\n",
      "INFO:fashion:val Task2 Acc: 0.9819 Task3 Acc: 0.9093\n",
      "INFO:fashion:Running epoch 15/19\n",
      "INFO:fashion:----------\n",
      "INFO:fashion:Iterating through data for phase: train\n"
     ]
    },
    {
     "name": "stdout",
     "output_type": "stream",
     "text": [
      "\n"
     ]
    },
    {
     "data": {
      "application/vnd.jupyter.widget-view+json": {
       "model_id": "9bf0d4e3155f411dbdc5261222c037aa",
       "version_major": 2,
       "version_minor": 0
      },
      "text/plain": [
       "HBox(children=(FloatProgress(value=0.0, max=73.0), HTML(value='')))"
      ]
     },
     "metadata": {},
     "output_type": "display_data"
    },
    {
     "name": "stderr",
     "output_type": "stream",
     "text": [
      "INFO:fashion:train Loss: 0.6919 Acc: 0.8935\n",
      "INFO:fashion:train Task2 Acc: 0.9838 Task3 Acc: 0.9222\n",
      "INFO:fashion:Iterating through data for phase: val\n"
     ]
    },
    {
     "name": "stdout",
     "output_type": "stream",
     "text": [
      "\n"
     ]
    },
    {
     "data": {
      "application/vnd.jupyter.widget-view+json": {
       "model_id": "1c0853460f6c453b9807c8eeebb5d7ea",
       "version_major": 2,
       "version_minor": 0
      },
      "text/plain": [
       "HBox(children=(FloatProgress(value=0.0, max=19.0), HTML(value='')))"
      ]
     },
     "metadata": {},
     "output_type": "display_data"
    },
    {
     "name": "stderr",
     "output_type": "stream",
     "text": [
      "INFO:fashion:val Loss: 1.8146 Acc: 0.8368\n",
      "INFO:fashion:val Task2 Acc: 0.9801 Task3 Acc: 0.9076\n",
      "INFO:fashion:Running epoch 16/19\n",
      "INFO:fashion:----------\n",
      "INFO:fashion:Iterating through data for phase: train\n"
     ]
    },
    {
     "name": "stdout",
     "output_type": "stream",
     "text": [
      "\n"
     ]
    },
    {
     "data": {
      "application/vnd.jupyter.widget-view+json": {
       "model_id": "d7719a87eb55419187cef0ad1eb7fdf0",
       "version_major": 2,
       "version_minor": 0
      },
      "text/plain": [
       "HBox(children=(FloatProgress(value=0.0, max=73.0), HTML(value='')))"
      ]
     },
     "metadata": {},
     "output_type": "display_data"
    },
    {
     "name": "stderr",
     "output_type": "stream",
     "text": [
      "INFO:fashion:train Loss: 0.7291 Acc: 0.8885\n",
      "INFO:fashion:train Task2 Acc: 0.9829 Task3 Acc: 0.9246\n",
      "INFO:fashion:Iterating through data for phase: val\n"
     ]
    },
    {
     "name": "stdout",
     "output_type": "stream",
     "text": [
      "\n"
     ]
    },
    {
     "data": {
      "application/vnd.jupyter.widget-view+json": {
       "model_id": "78d3756e657d4326b533af0154f53dea",
       "version_major": 2,
       "version_minor": 0
      },
      "text/plain": [
       "HBox(children=(FloatProgress(value=0.0, max=19.0), HTML(value='')))"
      ]
     },
     "metadata": {},
     "output_type": "display_data"
    },
    {
     "name": "stderr",
     "output_type": "stream",
     "text": [
      "INFO:fashion:val Loss: 1.7849 Acc: 0.8463\n",
      "INFO:fashion:val Task2 Acc: 0.9827 Task3 Acc: 0.9093\n",
      "INFO:fashion:Running epoch 17/19\n",
      "INFO:fashion:----------\n",
      "INFO:fashion:Iterating through data for phase: train\n"
     ]
    },
    {
     "name": "stdout",
     "output_type": "stream",
     "text": [
      "\n"
     ]
    },
    {
     "data": {
      "application/vnd.jupyter.widget-view+json": {
       "model_id": "6000668ca78740338f6bda476cfcd5be",
       "version_major": 2,
       "version_minor": 0
      },
      "text/plain": [
       "HBox(children=(FloatProgress(value=0.0, max=73.0), HTML(value='')))"
      ]
     },
     "metadata": {},
     "output_type": "display_data"
    },
    {
     "name": "stderr",
     "output_type": "stream",
     "text": [
      "INFO:fashion:train Loss: 0.6925 Acc: 0.8928\n",
      "INFO:fashion:train Task2 Acc: 0.9831 Task3 Acc: 0.9203\n",
      "INFO:fashion:Iterating through data for phase: val\n"
     ]
    },
    {
     "name": "stdout",
     "output_type": "stream",
     "text": [
      "\n"
     ]
    },
    {
     "data": {
      "application/vnd.jupyter.widget-view+json": {
       "model_id": "321b0012525946a6ab271ea3c573cdeb",
       "version_major": 2,
       "version_minor": 0
      },
      "text/plain": [
       "HBox(children=(FloatProgress(value=0.0, max=19.0), HTML(value='')))"
      ]
     },
     "metadata": {},
     "output_type": "display_data"
    },
    {
     "name": "stderr",
     "output_type": "stream",
     "text": [
      "INFO:fashion:val Loss: 1.9242 Acc: 0.8402\n",
      "INFO:fashion:val Task2 Acc: 0.9827 Task3 Acc: 0.9102\n",
      "INFO:fashion:Running epoch 18/19\n",
      "INFO:fashion:----------\n",
      "INFO:fashion:Iterating through data for phase: train\n"
     ]
    },
    {
     "name": "stdout",
     "output_type": "stream",
     "text": [
      "\n"
     ]
    },
    {
     "data": {
      "application/vnd.jupyter.widget-view+json": {
       "model_id": "f2fff6cf2b994f959b620d38048fa5fc",
       "version_major": 2,
       "version_minor": 0
      },
      "text/plain": [
       "HBox(children=(FloatProgress(value=0.0, max=73.0), HTML(value='')))"
      ]
     },
     "metadata": {},
     "output_type": "display_data"
    },
    {
     "name": "stderr",
     "output_type": "stream",
     "text": [
      "INFO:fashion:train Loss: 0.7040 Acc: 0.8933\n",
      "INFO:fashion:train Task2 Acc: 0.9853 Task3 Acc: 0.9224\n",
      "INFO:fashion:Iterating through data for phase: val\n"
     ]
    },
    {
     "name": "stdout",
     "output_type": "stream",
     "text": [
      "\n"
     ]
    },
    {
     "data": {
      "application/vnd.jupyter.widget-view+json": {
       "model_id": "fe72182fbcd6408ba2b55df15fe5370f",
       "version_major": 2,
       "version_minor": 0
      },
      "text/plain": [
       "HBox(children=(FloatProgress(value=0.0, max=19.0), HTML(value='')))"
      ]
     },
     "metadata": {},
     "output_type": "display_data"
    },
    {
     "name": "stderr",
     "output_type": "stream",
     "text": [
      "INFO:fashion:val Loss: 1.8460 Acc: 0.8428\n",
      "INFO:fashion:val Task2 Acc: 0.9827 Task3 Acc: 0.9119\n",
      "INFO:fashion:Running epoch 19/19\n",
      "INFO:fashion:----------\n",
      "INFO:fashion:Iterating through data for phase: train\n"
     ]
    },
    {
     "name": "stdout",
     "output_type": "stream",
     "text": [
      "\n"
     ]
    },
    {
     "data": {
      "application/vnd.jupyter.widget-view+json": {
       "model_id": "198161b9cb5c4694a3d7457999e6a9bf",
       "version_major": 2,
       "version_minor": 0
      },
      "text/plain": [
       "HBox(children=(FloatProgress(value=0.0, max=73.0), HTML(value='')))"
      ]
     },
     "metadata": {},
     "output_type": "display_data"
    },
    {
     "name": "stderr",
     "output_type": "stream",
     "text": [
      "INFO:fashion:train Loss: 0.6866 Acc: 0.9015\n",
      "INFO:fashion:train Task2 Acc: 0.9853 Task3 Acc: 0.9250\n",
      "INFO:fashion:Iterating through data for phase: val\n"
     ]
    },
    {
     "name": "stdout",
     "output_type": "stream",
     "text": [
      "\n"
     ]
    },
    {
     "data": {
      "application/vnd.jupyter.widget-view+json": {
       "model_id": "58696729b2544d87b2b78186c677e93f",
       "version_major": 2,
       "version_minor": 0
      },
      "text/plain": [
       "HBox(children=(FloatProgress(value=0.0, max=19.0), HTML(value='')))"
      ]
     },
     "metadata": {},
     "output_type": "display_data"
    },
    {
     "name": "stderr",
     "output_type": "stream",
     "text": [
      "INFO:fashion:val Loss: 1.8130 Acc: 0.8402\n",
      "INFO:fashion:val Task2 Acc: 0.9819 Task3 Acc: 0.9093\n",
      "INFO:fashion:Training complete in 36m 6s\n",
      "INFO:fashion:Best val Acc: 0.848014\n",
      "INFO:fashion:Setting model to the best one found during training\n"
     ]
    },
    {
     "name": "stdout",
     "output_type": "stream",
     "text": [
      "\n"
     ]
    }
   ],
   "source": [
    "trainer_ft.train(20)"
   ]
  },
  {
   "cell_type": "code",
   "execution_count": 36,
   "metadata": {},
   "outputs": [
    {
     "data": {
      "image/png": "[encoded data removed]",
      "text/plain": [
       "<Figure size 576x432 with 1 Axes>"
      ]
     },
     "metadata": {
      "needs_background": "light"
     },
     "output_type": "display_data"
    }
   ],
   "source": [
    "trainer_ft.plot_perf()"
   ]
  },
  {
   "cell_type": "code",
   "execution_count": 37,
   "metadata": {},
   "outputs": [
    {
     "data": {
      "application/vnd.jupyter.widget-view+json": {
       "model_id": "9a2b528962b74c6c82c59f91a3cba029",
       "version_major": 2,
       "version_minor": 0
      },
      "text/plain": [
       "HBox(children=(FloatProgress(value=0.0, max=87.0), HTML(value='')))"
      ]
     },
     "metadata": {},
     "output_type": "display_data"
    },
    {
     "name": "stdout",
     "output_type": "stream",
     "text": [
      "\n"
     ]
    }
   ],
   "source": [
    "acc_df_ft2 = trainer_ft.get_test_accuracy()"
   ]
  },
  {
   "cell_type": "code",
   "execution_count": 38,
   "metadata": {},
   "outputs": [],
   "source": [
    "acc_df_ft2[acc_df_ft2==-0] = 0"
   ]
  },
  {
   "cell_type": "code",
   "execution_count": 39,
   "metadata": {},
   "outputs": [
    {
     "data": {
      "text/html": [
       "<div>\n",
       "<style scoped>\n",
       "    .dataframe tbody tr th:only-of-type {\n",
       "        vertical-align: middle;\n",
       "    }\n",
       "\n",
       "    .dataframe tbody tr th {\n",
       "        vertical-align: top;\n",
       "    }\n",
       "\n",
       "    .dataframe thead th {\n",
       "        text-align: right;\n",
       "    }\n",
       "</style>\n",
       "<table border=\"1\" class=\"dataframe\">\n",
       "  <thead>\n",
       "    <tr style=\"text-align: right;\">\n",
       "      <th></th>\n",
       "      <th>Top-1</th>\n",
       "      <th>Top-5</th>\n",
       "    </tr>\n",
       "  </thead>\n",
       "  <tbody>\n",
       "    <tr>\n",
       "      <th>Average (Micro)</th>\n",
       "      <td>48.72</td>\n",
       "      <td>63.81</td>\n",
       "    </tr>\n",
       "    <tr>\n",
       "      <th>Accessory Gift Set</th>\n",
       "      <td>100.00</td>\n",
       "      <td>100.00</td>\n",
       "    </tr>\n",
       "    <tr>\n",
       "      <th>Baby Dolls</th>\n",
       "      <td>0.00</td>\n",
       "      <td>0.00</td>\n",
       "    </tr>\n",
       "    <tr>\n",
       "      <th>Bangle</th>\n",
       "      <td>4.35</td>\n",
       "      <td>73.91</td>\n",
       "    </tr>\n",
       "    <tr>\n",
       "      <th>Basketballs</th>\n",
       "      <td>90.91</td>\n",
       "      <td>100.00</td>\n",
       "    </tr>\n",
       "    <tr>\n",
       "      <th>...</th>\n",
       "      <td>...</td>\n",
       "      <td>...</td>\n",
       "    </tr>\n",
       "    <tr>\n",
       "      <th>Umbrellas</th>\n",
       "      <td>100.00</td>\n",
       "      <td>100.00</td>\n",
       "    </tr>\n",
       "    <tr>\n",
       "      <th>Waist Pouch</th>\n",
       "      <td>0.00</td>\n",
       "      <td>46.15</td>\n",
       "    </tr>\n",
       "    <tr>\n",
       "      <th>Waistcoat</th>\n",
       "      <td>33.33</td>\n",
       "      <td>100.00</td>\n",
       "    </tr>\n",
       "    <tr>\n",
       "      <th>Water Bottle</th>\n",
       "      <td>100.00</td>\n",
       "      <td>100.00</td>\n",
       "    </tr>\n",
       "    <tr>\n",
       "      <th>Wristbands</th>\n",
       "      <td>100.00</td>\n",
       "      <td>100.00</td>\n",
       "    </tr>\n",
       "  </tbody>\n",
       "</table>\n",
       "<p>123 rows × 2 columns</p>\n",
       "</div>"
      ],
      "text/plain": [
       "                     Top-1   Top-5\n",
       "Average (Micro)      48.72   63.81\n",
       "Accessory Gift Set  100.00  100.00\n",
       "Baby Dolls            0.00    0.00\n",
       "Bangle                4.35   73.91\n",
       "Basketballs          90.91  100.00\n",
       "...                    ...     ...\n",
       "Umbrellas           100.00  100.00\n",
       "Waist Pouch           0.00   46.15\n",
       "Waistcoat            33.33  100.00\n",
       "Water Bottle        100.00  100.00\n",
       "Wristbands          100.00  100.00\n",
       "\n",
       "[123 rows x 2 columns]"
      ]
     },
     "execution_count": 39,
     "metadata": {},
     "output_type": "execute_result"
    }
   ],
   "source": [
    "acc_df_ft2"
   ]
  },
  {
   "cell_type": "code",
   "execution_count": 40,
   "metadata": {},
   "outputs": [
    {
     "name": "stdout",
     "output_type": "stream",
     "text": [
      "<table border=\"1\" class=\"dataframe\">\n",
      "  <thead>\n",
      "    <tr style=\"text-align: right;\">\n",
      "      <th></th>\n",
      "      <th>Top-1</th>\n",
      "      <th>Top-5</th>\n",
      "    </tr>\n",
      "  </thead>\n",
      "  <tbody>\n",
      "    <tr>\n",
      "      <th>Average (Micro)</th>\n",
      "      <td>48.72</td>\n",
      "      <td>63.81</td>\n",
      "    </tr>\n",
      "    <tr>\n",
      "      <th>Accessory Gift Set</th>\n",
      "      <td>100.00</td>\n",
      "      <td>100.00</td>\n",
      "    </tr>\n",
      "    <tr>\n",
      "      <th>Baby Dolls</th>\n",
      "      <td>0.00</td>\n",
      "      <td>0.00</td>\n",
      "    </tr>\n",
      "    <tr>\n",
      "      <th>Bangle</th>\n",
      "      <td>4.35</td>\n",
      "      <td>73.91</td>\n",
      "    </tr>\n",
      "    <tr>\n",
      "      <th>Basketballs</th>\n",
      "      <td>90.91</td>\n",
      "      <td>100.00</td>\n",
      "    </tr>\n",
      "    <tr>\n",
      "      <th>Bath Robe</th>\n",
      "      <td>0.00</td>\n",
      "      <td>0.00</td>\n",
      "    </tr>\n",
      "    <tr>\n",
      "      <th>Beauty Accessory</th>\n",
      "      <td>0.00</td>\n",
      "      <td>0.00</td>\n",
      "    </tr>\n",
      "    <tr>\n",
      "      <th>Blazers</th>\n",
      "      <td>0.00</td>\n",
      "      <td>0.00</td>\n",
      "    </tr>\n",
      "    <tr>\n",
      "      <th>Body Lotion</th>\n",
      "      <td>0.00</td>\n",
      "      <td>0.00</td>\n",
      "    </tr>\n",
      "    <tr>\n",
      "      <th>Body Wash and Scrub</th>\n",
      "      <td>0.00</td>\n",
      "      <td>0.00</td>\n",
      "    </tr>\n",
      "    <tr>\n",
      "      <th>Booties</th>\n",
      "      <td>0.00</td>\n",
      "      <td>0.00</td>\n",
      "    </tr>\n",
      "    <tr>\n",
      "      <th>Boxers</th>\n",
      "      <td>0.00</td>\n",
      "      <td>0.00</td>\n",
      "    </tr>\n",
      "    <tr>\n",
      "      <th>Bra</th>\n",
      "      <td>98.48</td>\n",
      "      <td>99.70</td>\n",
      "    </tr>\n",
      "    <tr>\n",
      "      <th>Bracelet</th>\n",
      "      <td>85.71</td>\n",
      "      <td>100.00</td>\n",
      "    </tr>\n",
      "    <tr>\n",
      "      <th>Camisoles</th>\n",
      "      <td>44.12</td>\n",
      "      <td>85.29</td>\n",
      "    </tr>\n",
      "    <tr>\n",
      "      <th>Capris</th>\n",
      "      <td>55.77</td>\n",
      "      <td>100.00</td>\n",
      "    </tr>\n",
      "    <tr>\n",
      "      <th>Caps</th>\n",
      "      <td>93.89</td>\n",
      "      <td>97.71</td>\n",
      "    </tr>\n",
      "    <tr>\n",
      "      <th>Churidar</th>\n",
      "      <td>0.00</td>\n",
      "      <td>100.00</td>\n",
      "    </tr>\n",
      "    <tr>\n",
      "      <th>Clothing Set</th>\n",
      "      <td>0.00</td>\n",
      "      <td>0.00</td>\n",
      "    </tr>\n",
      "    <tr>\n",
      "      <th>Clutches</th>\n",
      "      <td>95.83</td>\n",
      "      <td>100.00</td>\n",
      "    </tr>\n",
      "    <tr>\n",
      "      <th>Compact</th>\n",
      "      <td>0.00</td>\n",
      "      <td>0.00</td>\n",
      "    </tr>\n",
      "    <tr>\n",
      "      <th>Concealer</th>\n",
      "      <td>0.00</td>\n",
      "      <td>0.00</td>\n",
      "    </tr>\n",
      "    <tr>\n",
      "      <th>Cufflinks</th>\n",
      "      <td>96.67</td>\n",
      "      <td>100.00</td>\n",
      "    </tr>\n",
      "    <tr>\n",
      "      <th>Cushion Covers</th>\n",
      "      <td>0.00</td>\n",
      "      <td>0.00</td>\n",
      "    </tr>\n",
      "    <tr>\n",
      "      <th>Deodorant</th>\n",
      "      <td>0.00</td>\n",
      "      <td>0.00</td>\n",
      "    </tr>\n",
      "    <tr>\n",
      "      <th>Dresses</th>\n",
      "      <td>72.04</td>\n",
      "      <td>98.92</td>\n",
      "    </tr>\n",
      "    <tr>\n",
      "      <th>Duffel Bag</th>\n",
      "      <td>84.78</td>\n",
      "      <td>100.00</td>\n",
      "    </tr>\n",
      "    <tr>\n",
      "      <th>Dupatta</th>\n",
      "      <td>37.50</td>\n",
      "      <td>100.00</td>\n",
      "    </tr>\n",
      "    <tr>\n",
      "      <th>Earrings</th>\n",
      "      <td>100.00</td>\n",
      "      <td>100.00</td>\n",
      "    </tr>\n",
      "    <tr>\n",
      "      <th>Eye Cream</th>\n",
      "      <td>0.00</td>\n",
      "      <td>0.00</td>\n",
      "    </tr>\n",
      "    <tr>\n",
      "      <th>Eyeshadow</th>\n",
      "      <td>0.00</td>\n",
      "      <td>0.00</td>\n",
      "    </tr>\n",
      "    <tr>\n",
      "      <th>Face Moisturisers</th>\n",
      "      <td>0.00</td>\n",
      "      <td>0.00</td>\n",
      "    </tr>\n",
      "    <tr>\n",
      "      <th>Face Scrub and Exfoliator</th>\n",
      "      <td>0.00</td>\n",
      "      <td>0.00</td>\n",
      "    </tr>\n",
      "    <tr>\n",
      "      <th>Face Serum and Gel</th>\n",
      "      <td>0.00</td>\n",
      "      <td>0.00</td>\n",
      "    </tr>\n",
      "    <tr>\n",
      "      <th>Face Wash and Cleanser</th>\n",
      "      <td>0.00</td>\n",
      "      <td>0.00</td>\n",
      "    </tr>\n",
      "    <tr>\n",
      "      <th>Flats</th>\n",
      "      <td>90.51</td>\n",
      "      <td>100.00</td>\n",
      "    </tr>\n",
      "    <tr>\n",
      "      <th>Footballs</th>\n",
      "      <td>100.00</td>\n",
      "      <td>100.00</td>\n",
      "    </tr>\n",
      "    <tr>\n",
      "      <th>Foundation and Primer</th>\n",
      "      <td>0.00</td>\n",
      "      <td>0.00</td>\n",
      "    </tr>\n",
      "    <tr>\n",
      "      <th>Fragrance Gift Set</th>\n",
      "      <td>0.00</td>\n",
      "      <td>0.00</td>\n",
      "    </tr>\n",
      "    <tr>\n",
      "      <th>Free Gifts</th>\n",
      "      <td>8.33</td>\n",
      "      <td>33.33</td>\n",
      "    </tr>\n",
      "    <tr>\n",
      "      <th>Gloves</th>\n",
      "      <td>100.00</td>\n",
      "      <td>100.00</td>\n",
      "    </tr>\n",
      "    <tr>\n",
      "      <th>Hair Accessory</th>\n",
      "      <td>0.00</td>\n",
      "      <td>0.00</td>\n",
      "    </tr>\n",
      "    <tr>\n",
      "      <th>Hair Colour</th>\n",
      "      <td>0.00</td>\n",
      "      <td>0.00</td>\n",
      "    </tr>\n",
      "    <tr>\n",
      "      <th>Hat</th>\n",
      "      <td>0.00</td>\n",
      "      <td>0.00</td>\n",
      "    </tr>\n",
      "    <tr>\n",
      "      <th>Headband</th>\n",
      "      <td>100.00</td>\n",
      "      <td>100.00</td>\n",
      "    </tr>\n",
      "    <tr>\n",
      "      <th>Highlighter and Blush</th>\n",
      "      <td>0.00</td>\n",
      "      <td>0.00</td>\n",
      "    </tr>\n",
      "    <tr>\n",
      "      <th>Innerwear Vests</th>\n",
      "      <td>100.00</td>\n",
      "      <td>100.00</td>\n",
      "    </tr>\n",
      "    <tr>\n",
      "      <th>Ipad</th>\n",
      "      <td>0.00</td>\n",
      "      <td>0.00</td>\n",
      "    </tr>\n",
      "    <tr>\n",
      "      <th>Jackets</th>\n",
      "      <td>62.23</td>\n",
      "      <td>97.87</td>\n",
      "    </tr>\n",
      "    <tr>\n",
      "      <th>Jeggings</th>\n",
      "      <td>0.00</td>\n",
      "      <td>0.00</td>\n",
      "    </tr>\n",
      "    <tr>\n",
      "      <th>Jewellery Set</th>\n",
      "      <td>46.15</td>\n",
      "      <td>100.00</td>\n",
      "    </tr>\n",
      "    <tr>\n",
      "      <th>Jumpsuit</th>\n",
      "      <td>0.00</td>\n",
      "      <td>100.00</td>\n",
      "    </tr>\n",
      "    <tr>\n",
      "      <th>Kajal and Eyeliner</th>\n",
      "      <td>0.00</td>\n",
      "      <td>0.00</td>\n",
      "    </tr>\n",
      "    <tr>\n",
      "      <th>Key chain</th>\n",
      "      <td>0.00</td>\n",
      "      <td>0.00</td>\n",
      "    </tr>\n",
      "    <tr>\n",
      "      <th>Kurta Sets</th>\n",
      "      <td>100.00</td>\n",
      "      <td>100.00</td>\n",
      "    </tr>\n",
      "    <tr>\n",
      "      <th>Kurtis</th>\n",
      "      <td>76.14</td>\n",
      "      <td>100.00</td>\n",
      "    </tr>\n",
      "    <tr>\n",
      "      <th>Laptop Bag</th>\n",
      "      <td>65.71</td>\n",
      "      <td>100.00</td>\n",
      "    </tr>\n",
      "    <tr>\n",
      "      <th>Leggings</th>\n",
      "      <td>54.17</td>\n",
      "      <td>91.67</td>\n",
      "    </tr>\n",
      "    <tr>\n",
      "      <th>Lehenga Choli</th>\n",
      "      <td>0.00</td>\n",
      "      <td>0.00</td>\n",
      "    </tr>\n",
      "    <tr>\n",
      "      <th>Lip Care</th>\n",
      "      <td>0.00</td>\n",
      "      <td>0.00</td>\n",
      "    </tr>\n",
      "    <tr>\n",
      "      <th>Lip Gloss</th>\n",
      "      <td>0.00</td>\n",
      "      <td>0.00</td>\n",
      "    </tr>\n",
      "    <tr>\n",
      "      <th>Lip Liner</th>\n",
      "      <td>0.00</td>\n",
      "      <td>0.00</td>\n",
      "    </tr>\n",
      "    <tr>\n",
      "      <th>Lip Plumper</th>\n",
      "      <td>0.00</td>\n",
      "      <td>0.00</td>\n",
      "    </tr>\n",
      "    <tr>\n",
      "      <th>Lipstick</th>\n",
      "      <td>0.00</td>\n",
      "      <td>0.00</td>\n",
      "    </tr>\n",
      "    <tr>\n",
      "      <th>Lounge Pants</th>\n",
      "      <td>42.11</td>\n",
      "      <td>78.95</td>\n",
      "    </tr>\n",
      "    <tr>\n",
      "      <th>Lounge Shorts</th>\n",
      "      <td>11.11</td>\n",
      "      <td>100.00</td>\n",
      "    </tr>\n",
      "    <tr>\n",
      "      <th>Lounge Tshirts</th>\n",
      "      <td>0.00</td>\n",
      "      <td>0.00</td>\n",
      "    </tr>\n",
      "    <tr>\n",
      "      <th>Makeup Remover</th>\n",
      "      <td>0.00</td>\n",
      "      <td>100.00</td>\n",
      "    </tr>\n",
      "    <tr>\n",
      "      <th>Mascara</th>\n",
      "      <td>0.00</td>\n",
      "      <td>0.00</td>\n",
      "    </tr>\n",
      "    <tr>\n",
      "      <th>Mask and Peel</th>\n",
      "      <td>0.00</td>\n",
      "      <td>0.00</td>\n",
      "    </tr>\n",
      "    <tr>\n",
      "      <th>Mens Grooming Kit</th>\n",
      "      <td>0.00</td>\n",
      "      <td>0.00</td>\n",
      "    </tr>\n",
      "    <tr>\n",
      "      <th>Messenger Bag</th>\n",
      "      <td>66.67</td>\n",
      "      <td>100.00</td>\n",
      "    </tr>\n",
      "    <tr>\n",
      "      <th>Mobile Pouch</th>\n",
      "      <td>33.33</td>\n",
      "      <td>100.00</td>\n",
      "    </tr>\n",
      "    <tr>\n",
      "      <th>Mufflers</th>\n",
      "      <td>27.59</td>\n",
      "      <td>100.00</td>\n",
      "    </tr>\n",
      "    <tr>\n",
      "      <th>Nail Essentials</th>\n",
      "      <td>0.00</td>\n",
      "      <td>0.00</td>\n",
      "    </tr>\n",
      "    <tr>\n",
      "      <th>Nail Polish</th>\n",
      "      <td>0.00</td>\n",
      "      <td>0.00</td>\n",
      "    </tr>\n",
      "    <tr>\n",
      "      <th>Necklace and Chains</th>\n",
      "      <td>92.50</td>\n",
      "      <td>100.00</td>\n",
      "    </tr>\n",
      "    <tr>\n",
      "      <th>Nehru Jackets</th>\n",
      "      <td>0.00</td>\n",
      "      <td>0.00</td>\n",
      "    </tr>\n",
      "    <tr>\n",
      "      <th>Night suits</th>\n",
      "      <td>52.86</td>\n",
      "      <td>91.43</td>\n",
      "    </tr>\n",
      "    <tr>\n",
      "      <th>Nightdress</th>\n",
      "      <td>26.88</td>\n",
      "      <td>70.00</td>\n",
      "    </tr>\n",
      "    <tr>\n",
      "      <th>Patiala</th>\n",
      "      <td>0.00</td>\n",
      "      <td>0.00</td>\n",
      "    </tr>\n",
      "    <tr>\n",
      "      <th>Pendant</th>\n",
      "      <td>67.90</td>\n",
      "      <td>98.77</td>\n",
      "    </tr>\n",
      "    <tr>\n",
      "      <th>Rain Jacket</th>\n",
      "      <td>100.00</td>\n",
      "      <td>100.00</td>\n",
      "    </tr>\n",
      "    <tr>\n",
      "      <th>Rain Trousers</th>\n",
      "      <td>100.00</td>\n",
      "      <td>100.00</td>\n",
      "    </tr>\n",
      "    <tr>\n",
      "      <th>Ring</th>\n",
      "      <td>79.31</td>\n",
      "      <td>100.00</td>\n",
      "    </tr>\n",
      "    <tr>\n",
      "      <th>Robe</th>\n",
      "      <td>33.33</td>\n",
      "      <td>33.33</td>\n",
      "    </tr>\n",
      "    <tr>\n",
      "      <th>Rompers</th>\n",
      "      <td>0.00</td>\n",
      "      <td>0.00</td>\n",
      "    </tr>\n",
      "    <tr>\n",
      "      <th>Rucksacks</th>\n",
      "      <td>100.00</td>\n",
      "      <td>100.00</td>\n",
      "    </tr>\n",
      "    <tr>\n",
      "      <th>Salwar</th>\n",
      "      <td>0.00</td>\n",
      "      <td>0.00</td>\n",
      "    </tr>\n",
      "    <tr>\n",
      "      <th>Salwar and Dupatta</th>\n",
      "      <td>0.00</td>\n",
      "      <td>0.00</td>\n",
      "    </tr>\n",
      "    <tr>\n",
      "      <th>Sarees</th>\n",
      "      <td>0.00</td>\n",
      "      <td>0.00</td>\n",
      "    </tr>\n",
      "    <tr>\n",
      "      <th>Scarves</th>\n",
      "      <td>56.52</td>\n",
      "      <td>91.30</td>\n",
      "    </tr>\n",
      "    <tr>\n",
      "      <th>Shapewear</th>\n",
      "      <td>100.00</td>\n",
      "      <td>100.00</td>\n",
      "    </tr>\n",
      "    <tr>\n",
      "      <th>Shoe Accessories</th>\n",
      "      <td>5.26</td>\n",
      "      <td>31.58</td>\n",
      "    </tr>\n",
      "    <tr>\n",
      "      <th>Shoe Laces</th>\n",
      "      <td>0.00</td>\n",
      "      <td>0.00</td>\n",
      "    </tr>\n",
      "    <tr>\n",
      "      <th>Shorts</th>\n",
      "      <td>69.19</td>\n",
      "      <td>98.10</td>\n",
      "    </tr>\n",
      "    <tr>\n",
      "      <th>Shrug</th>\n",
      "      <td>0.00</td>\n",
      "      <td>0.00</td>\n",
      "    </tr>\n",
      "    <tr>\n",
      "      <th>Skirts</th>\n",
      "      <td>64.15</td>\n",
      "      <td>79.25</td>\n",
      "    </tr>\n",
      "    <tr>\n",
      "      <th>Sports Sandals</th>\n",
      "      <td>90.00</td>\n",
      "      <td>100.00</td>\n",
      "    </tr>\n",
      "    <tr>\n",
      "      <th>Stockings</th>\n",
      "      <td>17.65</td>\n",
      "      <td>76.47</td>\n",
      "    </tr>\n",
      "    <tr>\n",
      "      <th>Stoles</th>\n",
      "      <td>20.00</td>\n",
      "      <td>90.00</td>\n",
      "    </tr>\n",
      "    <tr>\n",
      "      <th>Sunscreen</th>\n",
      "      <td>0.00</td>\n",
      "      <td>0.00</td>\n",
      "    </tr>\n",
      "    <tr>\n",
      "      <th>Suspenders</th>\n",
      "      <td>0.00</td>\n",
      "      <td>0.00</td>\n",
      "    </tr>\n",
      "    <tr>\n",
      "      <th>Sweaters</th>\n",
      "      <td>58.04</td>\n",
      "      <td>97.25</td>\n",
      "    </tr>\n",
      "    <tr>\n",
      "      <th>Sweatshirts</th>\n",
      "      <td>75.49</td>\n",
      "      <td>96.11</td>\n",
      "    </tr>\n",
      "    <tr>\n",
      "      <th>Swimwear</th>\n",
      "      <td>37.50</td>\n",
      "      <td>87.50</td>\n",
      "    </tr>\n",
      "    <tr>\n",
      "      <th>Tablet Sleeve</th>\n",
      "      <td>0.00</td>\n",
      "      <td>0.00</td>\n",
      "    </tr>\n",
      "    <tr>\n",
      "      <th>Ties</th>\n",
      "      <td>98.80</td>\n",
      "      <td>98.80</td>\n",
      "    </tr>\n",
      "    <tr>\n",
      "      <th>Ties and Cufflinks</th>\n",
      "      <td>0.00</td>\n",
      "      <td>0.00</td>\n",
      "    </tr>\n",
      "    <tr>\n",
      "      <th>Tights</th>\n",
      "      <td>0.00</td>\n",
      "      <td>100.00</td>\n",
      "    </tr>\n",
      "    <tr>\n",
      "      <th>Toner</th>\n",
      "      <td>0.00</td>\n",
      "      <td>0.00</td>\n",
      "    </tr>\n",
      "    <tr>\n",
      "      <th>Track Pants</th>\n",
      "      <td>75.72</td>\n",
      "      <td>98.84</td>\n",
      "    </tr>\n",
      "    <tr>\n",
      "      <th>Tracksuits</th>\n",
      "      <td>100.00</td>\n",
      "      <td>100.00</td>\n",
      "    </tr>\n",
      "    <tr>\n",
      "      <th>Travel Accessory</th>\n",
      "      <td>40.00</td>\n",
      "      <td>100.00</td>\n",
      "    </tr>\n",
      "    <tr>\n",
      "      <th>Trolley Bag</th>\n",
      "      <td>0.00</td>\n",
      "      <td>0.00</td>\n",
      "    </tr>\n",
      "    <tr>\n",
      "      <th>Trousers</th>\n",
      "      <td>86.21</td>\n",
      "      <td>98.85</td>\n",
      "    </tr>\n",
      "    <tr>\n",
      "      <th>Trunk</th>\n",
      "      <td>0.00</td>\n",
      "      <td>0.00</td>\n",
      "    </tr>\n",
      "    <tr>\n",
      "      <th>Tunics</th>\n",
      "      <td>48.89</td>\n",
      "      <td>100.00</td>\n",
      "    </tr>\n",
      "    <tr>\n",
      "      <th>Umbrellas</th>\n",
      "      <td>100.00</td>\n",
      "      <td>100.00</td>\n",
      "    </tr>\n",
      "    <tr>\n",
      "      <th>Waist Pouch</th>\n",
      "      <td>0.00</td>\n",
      "      <td>46.15</td>\n",
      "    </tr>\n",
      "    <tr>\n",
      "      <th>Waistcoat</th>\n",
      "      <td>33.33</td>\n",
      "      <td>100.00</td>\n",
      "    </tr>\n",
      "    <tr>\n",
      "      <th>Water Bottle</th>\n",
      "      <td>100.00</td>\n",
      "      <td>100.00</td>\n",
      "    </tr>\n",
      "    <tr>\n",
      "      <th>Wristbands</th>\n",
      "      <td>100.00</td>\n",
      "      <td>100.00</td>\n",
      "    </tr>\n",
      "  </tbody>\n",
      "</table>\n"
     ]
    }
   ],
   "source": [
    "print(acc_df_ft2.to_html())"
   ]
  },
  {
   "cell_type": "code",
   "execution_count": null,
   "metadata": {},
   "outputs": [],
   "source": []
  }
 ],
 "metadata": {
  "kernelspec": {
   "display_name": "py37_pytorch",
   "language": "python",
   "name": "conda-env-py37_pytorch-py"
  },
  "language_info": {
   "codemirror_mode": {
    "name": "ipython",
    "version": 3
   },
   "file_extension": ".py",
   "mimetype": "text/x-python",
   "name": "python",
   "nbconvert_exporter": "python",
   "pygments_lexer": "ipython3",
   "version": "3.7.6"
  }
 },
 "nbformat": 4,
 "nbformat_minor": 4
}
