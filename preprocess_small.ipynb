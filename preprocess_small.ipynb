{
 "cells": [
  {
   "cell_type": "code",
   "execution_count": 1,
   "metadata": {
    "colab": {},
    "colab_type": "code",
    "id": "4BP0aM6VDoTT"
   },
   "outputs": [],
   "source": [
    "import pandas as pd\n",
    "import os\n",
    "\n",
    "base_path = \"../data/fashion-product-images-small/myntradataset/\"\n",
    "old_csv_path = os.path.join(base_path, \"styles.csv\")\n",
    "csv_path = os.path.join(base_path, \"styles_fixed.csv\")\n",
    "img_path = os.path.join(base_path, \"images\")"
   ]
  },
  {
   "cell_type": "code",
   "execution_count": 2,
   "metadata": {},
   "outputs": [],
   "source": [
    "# Fixing bad lines in csv file (due to commas in product names)\n",
    "\n",
    "import csv\n",
    "\n",
    "with open(old_csv_path) as rf, open(csv_path, 'w') as wf:\n",
    "    csv_reader = csv.reader(rf, delimiter=',')\n",
    "    csv_writer = csv.writer(wf, delimiter=',', quotechar='\"', quoting=csv.QUOTE_MINIMAL)\n",
    "    for row in csv_reader:\n",
    "        if len(row) > 10:\n",
    "            save_row = row[:8]\n",
    "            save_row.append(''.join(row[9:]))\n",
    "        else:\n",
    "            save_row = row\n",
    "        csv_writer.writerow(save_row)"
   ]
  },
  {
   "cell_type": "code",
   "execution_count": 3,
   "metadata": {},
   "outputs": [],
   "source": [
    "styles = pd.read_csv(csv_path, error_bad_lines=False)"
   ]
  },
  {
   "cell_type": "code",
   "execution_count": 4,
   "metadata": {
    "colab": {
     "base_uri": "https://localhost:8080/",
     "height": 221
    },
    "colab_type": "code",
    "id": "PqXWiGYuFAt4",
    "outputId": "e5e7687c-bb20-4e00-ff02-04e55e5791cb"
   },
   "outputs": [
    {
     "name": "stdout",
     "output_type": "stream",
     "text": [
      "0        15970.jpg\n",
      "1        39386.jpg\n",
      "2        59263.jpg\n",
      "3        21379.jpg\n",
      "4        53759.jpg\n",
      "           ...    \n",
      "44441    17036.jpg\n",
      "44442     6461.jpg\n",
      "44443    18842.jpg\n",
      "44444    46694.jpg\n",
      "44445    51623.jpg\n",
      "Name: image, Length: 44446, dtype: object\n"
     ]
    }
   ],
   "source": [
    "styles['image'] = styles.apply(lambda row: str(row['id']) + \".jpg\", axis=1)\n",
    "print(styles['image'])"
   ]
  },
  {
   "cell_type": "code",
   "execution_count": 5,
   "metadata": {},
   "outputs": [
    {
     "name": "stdout",
     "output_type": "stream",
     "text": [
      "Image 39403.jpg doesn't exist!\n",
      "Image 39410.jpg doesn't exist!\n",
      "Image 39401.jpg doesn't exist!\n",
      "Image 39425.jpg doesn't exist!\n",
      "Image 12347.jpg doesn't exist!\n"
     ]
    }
   ],
   "source": [
    "for image in styles['image']:\n",
    "    if not os.path.exists(os.path.join(img_path, image)):\n",
    "        print(\"Image {} doesn't exist!\".format(image))"
   ]
  },
  {
   "cell_type": "code",
   "execution_count": 6,
   "metadata": {},
   "outputs": [
    {
     "name": "stdout",
     "output_type": "stream",
     "text": [
      "          id gender masterCategory subCategory            articleType  \\\n",
      "0      15970    Men        Apparel     Topwear                 Shirts   \n",
      "1      39386    Men        Apparel  Bottomwear                  Jeans   \n",
      "2      59263  Women    Accessories     Watches                Watches   \n",
      "3      21379    Men        Apparel  Bottomwear            Track Pants   \n",
      "4      53759    Men        Apparel     Topwear                Tshirts   \n",
      "...      ...    ...            ...         ...                    ...   \n",
      "44441  17036    Men       Footwear       Shoes           Casual Shoes   \n",
      "44442   6461    Men       Footwear  Flip Flops             Flip Flops   \n",
      "44443  18842    Men        Apparel     Topwear                Tshirts   \n",
      "44444  46694  Women  Personal Care   Fragrance  Perfume and Body Mist   \n",
      "44445  51623  Women    Accessories     Watches                Watches   \n",
      "\n",
      "      baseColour  season    year   usage  \\\n",
      "0      Navy Blue    Fall  2011.0  Casual   \n",
      "1           Blue  Summer  2012.0  Casual   \n",
      "2         Silver  Winter  2016.0  Casual   \n",
      "3          Black    Fall  2011.0  Casual   \n",
      "4           Grey  Summer  2012.0  Casual   \n",
      "...          ...     ...     ...     ...   \n",
      "44441      White  Summer  2013.0  Casual   \n",
      "44442        Red  Summer  2011.0  Casual   \n",
      "44443       Blue    Fall  2011.0  Casual   \n",
      "44444       Blue  Spring  2017.0  Casual   \n",
      "44445       Pink  Winter  2016.0  Casual   \n",
      "\n",
      "                                    productDisplayName      image  \n",
      "0                     Turtle Check Men Navy Blue Shirt  15970.jpg  \n",
      "1                   Peter England Men Party Blue Jeans  39386.jpg  \n",
      "2                             Titan Women Silver Watch  59263.jpg  \n",
      "3        Manchester United Men Solid Black Track Pants  21379.jpg  \n",
      "4                                Puma Men Grey T-shirt  53759.jpg  \n",
      "...                                                ...        ...  \n",
      "44441                        Gas Men Caddy Casual Shoe  17036.jpg  \n",
      "44442               Lotto Men's Soccer Track Flip Flop   6461.jpg  \n",
      "44443             Puma Men Graphic Stellar Blue Tshirt  18842.jpg  \n",
      "44444                   Rasasi Women Blue Lady Perfume  46694.jpg  \n",
      "44445  Fossil Women Pink Dial Chronograph Watch ES3050  51623.jpg  \n",
      "\n",
      "[44441 rows x 11 columns]\n"
     ]
    }
   ],
   "source": [
    "# Filer out rows for which images don't exist\n",
    "\n",
    "img_exists = styles.apply(lambda row: os.path.exists(os.path.join(img_path, row['image'])), axis=1)\n",
    "\n",
    "styles = styles[img_exists]\n",
    "print(styles)"
   ]
  },
  {
   "cell_type": "code",
   "execution_count": 0,
   "metadata": {
    "colab": {},
    "colab_type": "code",
    "id": "c9wuTz1bShLp"
   },
   "outputs": [],
   "source": []
  }
 ],
 "metadata": {
  "colab": {
   "name": "PreProcessing_TransferLearning.ipynb",
   "provenance": []
  },
  "kernelspec": {
   "display_name": "Python 3",
   "language": "python",
   "name": "python3"
  },
  "language_info": {
   "codemirror_mode": {
    "name": "ipython",
    "version": 3
   },
   "file_extension": ".py",
   "mimetype": "text/x-python",
   "name": "python",
   "nbconvert_exporter": "python",
   "pygments_lexer": "ipython3",
   "version": "3.7.4"
  }
 },
 "nbformat": 4,
 "nbformat_minor": 1
}
