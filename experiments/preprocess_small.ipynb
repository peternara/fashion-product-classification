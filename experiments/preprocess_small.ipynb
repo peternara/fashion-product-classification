{
 "cells": [
  {
   "cell_type": "markdown",
   "metadata": {},
   "source": [
    "### Clean and filter metadata"
   ]
  },
  {
   "cell_type": "code",
   "execution_count": 1,
   "metadata": {
    "colab": {},
    "colab_type": "code",
    "id": "4BP0aM6VDoTT"
   },
   "outputs": [],
   "source": [
    "import pandas as pd\n",
    "import os\n",
    "\n",
    "base_path = \"../data/fashion-product-images-small/myntradataset/\"\n",
    "old_csv_path = os.path.join(base_path, \"styles.csv\")\n",
    "csv_path = os.path.join(base_path, \"styles_fixed.csv\")\n",
    "img_path = os.path.join(base_path, \"images\")"
   ]
  },
  {
   "cell_type": "code",
   "execution_count": 2,
   "metadata": {},
   "outputs": [],
   "source": [
    "# Fixing bad lines in csv file (due to commas in product names)\n",
    "\n",
    "import csv\n",
    "\n",
    "with open(old_csv_path) as rf, open(csv_path, 'w') as wf:\n",
    "    csv_reader = csv.reader(rf, delimiter=',')\n",
    "    csv_writer = csv.writer(wf, delimiter=',', quotechar='\"', quoting=csv.QUOTE_MINIMAL)\n",
    "    for row in csv_reader:\n",
    "        if len(row) > 10:\n",
    "            save_row = row[:8]\n",
    "            save_row.append(','.join(row[9:]))\n",
    "        else:\n",
    "            save_row = row\n",
    "        csv_writer.writerow(save_row)"
   ]
  },
  {
   "cell_type": "code",
   "execution_count": 41,
   "metadata": {},
   "outputs": [],
   "source": [
    "styles = pd.read_csv(csv_path)"
   ]
  },
  {
   "cell_type": "code",
   "execution_count": 76,
   "metadata": {},
   "outputs": [],
   "source": [
    "styles['articleType'] = styles['articleType'].astype('category').cat.as_ordered()"
   ]
  },
  {
   "cell_type": "code",
   "execution_count": 43,
   "metadata": {
    "colab": {
     "base_uri": "https://localhost:8080/",
     "height": 221
    },
    "colab_type": "code",
    "id": "PqXWiGYuFAt4",
    "outputId": "e5e7687c-bb20-4e00-ff02-04e55e5791cb"
   },
   "outputs": [
    {
     "name": "stdout",
     "output_type": "stream",
     "text": [
      "0        15970.jpg\n",
      "1        39386.jpg\n",
      "2        59263.jpg\n",
      "3        21379.jpg\n",
      "4        53759.jpg\n",
      "           ...    \n",
      "44441    17036.jpg\n",
      "44442     6461.jpg\n",
      "44443    18842.jpg\n",
      "44444    46694.jpg\n",
      "44445    51623.jpg\n",
      "Name: image, Length: 44446, dtype: object\n"
     ]
    }
   ],
   "source": [
    "styles['image'] = styles.apply(lambda row: str(row['id']) + \".jpg\", axis=1)\n",
    "print(styles['image'])"
   ]
  },
  {
   "cell_type": "code",
   "execution_count": 44,
   "metadata": {},
   "outputs": [
    {
     "name": "stdout",
     "output_type": "stream",
     "text": [
      "Image 39403.jpg doesn't exist!\n",
      "Image 39410.jpg doesn't exist!\n",
      "Image 39401.jpg doesn't exist!\n",
      "Image 39425.jpg doesn't exist!\n",
      "Image 12347.jpg doesn't exist!\n"
     ]
    }
   ],
   "source": [
    "for image in styles['image']:\n",
    "    if not os.path.exists(os.path.join(img_path, image)):\n",
    "        print(\"Image {} doesn't exist!\".format(image))"
   ]
  },
  {
   "cell_type": "code",
   "execution_count": 45,
   "metadata": {},
   "outputs": [
    {
     "name": "stdout",
     "output_type": "stream",
     "text": [
      "          id gender masterCategory subCategory            articleType  \\\n",
      "0      15970    Men        Apparel     Topwear                 Shirts   \n",
      "1      39386    Men        Apparel  Bottomwear                  Jeans   \n",
      "2      59263  Women    Accessories     Watches                Watches   \n",
      "3      21379    Men        Apparel  Bottomwear            Track Pants   \n",
      "4      53759    Men        Apparel     Topwear                Tshirts   \n",
      "...      ...    ...            ...         ...                    ...   \n",
      "44441  17036    Men       Footwear       Shoes           Casual Shoes   \n",
      "44442   6461    Men       Footwear  Flip Flops             Flip Flops   \n",
      "44443  18842    Men        Apparel     Topwear                Tshirts   \n",
      "44444  46694  Women  Personal Care   Fragrance  Perfume and Body Mist   \n",
      "44445  51623  Women    Accessories     Watches                Watches   \n",
      "\n",
      "      baseColour  season    year   usage  \\\n",
      "0      Navy Blue    Fall  2011.0  Casual   \n",
      "1           Blue  Summer  2012.0  Casual   \n",
      "2         Silver  Winter  2016.0  Casual   \n",
      "3          Black    Fall  2011.0  Casual   \n",
      "4           Grey  Summer  2012.0  Casual   \n",
      "...          ...     ...     ...     ...   \n",
      "44441      White  Summer  2013.0  Casual   \n",
      "44442        Red  Summer  2011.0  Casual   \n",
      "44443       Blue    Fall  2011.0  Casual   \n",
      "44444       Blue  Spring  2017.0  Casual   \n",
      "44445       Pink  Winter  2016.0  Casual   \n",
      "\n",
      "                                    productDisplayName      image  \n",
      "0                     Turtle Check Men Navy Blue Shirt  15970.jpg  \n",
      "1                   Peter England Men Party Blue Jeans  39386.jpg  \n",
      "2                             Titan Women Silver Watch  59263.jpg  \n",
      "3        Manchester United Men Solid Black Track Pants  21379.jpg  \n",
      "4                                Puma Men Grey T-shirt  53759.jpg  \n",
      "...                                                ...        ...  \n",
      "44441                        Gas Men Caddy Casual Shoe  17036.jpg  \n",
      "44442               Lotto Men's Soccer Track Flip Flop   6461.jpg  \n",
      "44443             Puma Men Graphic Stellar Blue Tshirt  18842.jpg  \n",
      "44444                   Rasasi Women Blue Lady Perfume  46694.jpg  \n",
      "44445  Fossil Women Pink Dial Chronograph Watch ES3050  51623.jpg  \n",
      "\n",
      "[44441 rows x 11 columns]\n"
     ]
    }
   ],
   "source": [
    "# Filer out rows for which images don't exist\n",
    "\n",
    "img_exists = styles.apply(lambda row: os.path.exists(os.path.join(img_path, row['image'])), axis=1)\n",
    "\n",
    "styles = styles[img_exists]\n",
    "print(styles)"
   ]
  },
  {
   "cell_type": "markdown",
   "metadata": {},
   "source": [
    "### Create train-test splits"
   ]
  },
  {
   "cell_type": "code",
   "execution_count": 46,
   "metadata": {},
   "outputs": [
    {
     "name": "stdout",
     "output_type": "stream",
     "text": [
      "          id gender masterCategory subCategory articleType baseColour season  \\\n",
      "21285  53781    Men        Apparel     Topwear     Tshirts       Blue    NaN   \n",
      "\n",
      "       year   usage                      productDisplayName      image  \n",
      "21285   NaN  Sports  Puma Men Blue Sless Round Neck T-shirt  53781.jpg  \n"
     ]
    }
   ],
   "source": [
    "print(styles[styles['year'].isnull()])"
   ]
  },
  {
   "cell_type": "markdown",
   "metadata": {},
   "source": [
    "The year column has some NaN values which are added to the test set"
   ]
  },
  {
   "cell_type": "code",
   "execution_count": 47,
   "metadata": {
    "colab": {},
    "colab_type": "code",
    "id": "c9wuTz1bShLp"
   },
   "outputs": [
    {
     "name": "stdout",
     "output_type": "stream",
     "text": [
      "(23787, 11)\n",
      "(20654, 11)\n"
     ]
    }
   ],
   "source": [
    "is_train = styles['year']%2==0\n",
    "is_test = styles['year']%2!=0\n",
    "\n",
    "full_train = styles[is_train]\n",
    "print(full_train.shape)\n",
    "\n",
    "full_test = styles[is_test]\n",
    "print(full_test.shape)"
   ]
  },
  {
   "cell_type": "markdown",
   "metadata": {},
   "source": [
    "### Sub-split training data for pre-training and fine-tuning"
   ]
  },
  {
   "cell_type": "code",
   "execution_count": 48,
   "metadata": {},
   "outputs": [
    {
     "name": "stdout",
     "output_type": "stream",
     "text": [
      "Top 20 classes:\n",
      "     articleType     0\n",
      "0        Tshirts  2749\n",
      "1        Watches  2482\n",
      "2   Casual Shoes  1551\n",
      "3         Kurtas  1140\n",
      "4         Shirts  1128\n",
      "5           Tops  1059\n",
      "6     Sunglasses  1042\n",
      "7       Handbags  1006\n",
      "8   Sports Shoes   881\n",
      "9          Heels   775\n",
      "10        Briefs   662\n",
      "11       Wallets   600\n",
      "12    Flip Flops   508\n",
      "13         Socks   505\n",
      "14         Belts   492\n",
      "15       Sandals   477\n",
      "16        Sarees   427\n",
      "17       Dresses   371\n",
      "18  Formal Shoes   359\n",
      "19         Flats   342\n"
     ]
    }
   ],
   "source": [
    "top_articleType = full_train.groupby('articleType').size().sort_values(ascending=False).head(20).reset_index()\n",
    "\n",
    "print(\"Top 20 classes:\")\n",
    "print(top_articleType)"
   ]
  },
  {
   "cell_type": "code",
   "execution_count": 49,
   "metadata": {},
   "outputs": [
    {
     "name": "stdout",
     "output_type": "stream",
     "text": [
      "(18556, 11)\n"
     ]
    }
   ],
   "source": [
    "filter_topArticles = full_train['articleType'].isin(top_articleType['articleType'])\n",
    "train_data = full_train[filter_topArticles]\n",
    "print(train_data.shape)"
   ]
  },
  {
   "cell_type": "code",
   "execution_count": 50,
   "metadata": {},
   "outputs": [
    {
     "name": "stdout",
     "output_type": "stream",
     "text": [
      "(5231, 11)\n"
     ]
    }
   ],
   "source": [
    "fine_tune_data = full_train[~filter_topArticles]\n",
    "print(fine_tune_data.shape)"
   ]
  },
  {
   "cell_type": "code",
   "execution_count": 63,
   "metadata": {},
   "outputs": [
    {
     "data": {
      "text/plain": [
       "array([140, 134, 104, 110,   7,  48,  39, 127,  19,  38,  63, 112,  15,\n",
       "        41, 101,  51, 116,  28, 139, 100], dtype=int16)"
      ]
     },
     "execution_count": 63,
     "metadata": {},
     "output_type": "execute_result"
    }
   ],
   "source": [
    "test = pd.DataFrame(train_data['articleType'])\n",
    "test['code'] = test['articleType'].cat.codes\n",
    "\n",
    "train_codes = test['code'].unique()\n",
    "train_codes"
   ]
  },
  {
   "cell_type": "code",
   "execution_count": 64,
   "metadata": {},
   "outputs": [
    {
     "data": {
      "text/plain": [
       "array([ 56,  13,  14, 107,  53,  90,  65, 102,  92, 109,   8,  94,  62,\n",
       "       108,  31, 132,  12,   2,  58,  17,  18, 135,  22, 133,  85, 111,\n",
       "        44, 128, 131, 121, 120,   3,  64,  81, 123,  73,  87,  80, 130,\n",
       "        59, 141, 118,  55,  30,  99,  66,  89, 129,   0,  16,  20,  75,\n",
       "       138,  29, 119,  88,  74, 122, 114, 103,  86,  98,  25,  57,  40,\n",
       "        96,  82,  45,  11,  46,   4,  67, 105,  21, 137, 113,  26, 125,\n",
       "        50,  61, 142, 136,  97,  93,  76,  95,  54], dtype=int16)"
      ]
     },
     "execution_count": 64,
     "metadata": {},
     "output_type": "execute_result"
    }
   ],
   "source": [
    "test = pd.DataFrame(fine_tune_data['articleType'])\n",
    "test['code'] = test['articleType'].cat.codes\n",
    "\n",
    "fine_tune_codes = test['code'].unique()\n",
    "fine_tune_codes"
   ]
  },
  {
   "cell_type": "code",
   "execution_count": 71,
   "metadata": {},
   "outputs": [
    {
     "data": {
      "text/plain": [
       "array([104,  56, 140, ..., 134,  91, 140], dtype=int16)"
      ]
     },
     "execution_count": 71,
     "metadata": {},
     "output_type": "execute_result"
    }
   ],
   "source": [
    "styles['articleType'].cat.codes.values"
   ]
  },
  {
   "cell_type": "code",
   "execution_count": 74,
   "metadata": {},
   "outputs": [
    {
     "data": {
      "text/plain": [
       "{0: 'Accessory Gift Set',\n",
       " 1: 'Baby Dolls',\n",
       " 2: 'Backpacks',\n",
       " 3: 'Bangle',\n",
       " 4: 'Basketballs',\n",
       " 5: 'Bath Robe',\n",
       " 6: 'Beauty Accessory',\n",
       " 7: 'Belts',\n",
       " 8: 'Blazers',\n",
       " 9: 'Body Lotion',\n",
       " 10: 'Body Wash and Scrub',\n",
       " 11: 'Booties',\n",
       " 12: 'Boxers',\n",
       " 13: 'Bra',\n",
       " 14: 'Bracelet',\n",
       " 15: 'Briefs',\n",
       " 16: 'Camisoles',\n",
       " 17: 'Capris',\n",
       " 18: 'Caps',\n",
       " 19: 'Casual Shoes',\n",
       " 20: 'Churidar',\n",
       " 21: 'Clothing Set',\n",
       " 22: 'Clutches',\n",
       " 23: 'Compact',\n",
       " 24: 'Concealer',\n",
       " 25: 'Cufflinks',\n",
       " 26: 'Cushion Covers',\n",
       " 27: 'Deodorant',\n",
       " 28: 'Dresses',\n",
       " 29: 'Duffel Bag',\n",
       " 30: 'Dupatta',\n",
       " 31: 'Earrings',\n",
       " 32: 'Eye Cream',\n",
       " 33: 'Eyeshadow',\n",
       " 34: 'Face Moisturisers',\n",
       " 35: 'Face Scrub and Exfoliator',\n",
       " 36: 'Face Serum and Gel',\n",
       " 37: 'Face Wash and Cleanser',\n",
       " 38: 'Flats',\n",
       " 39: 'Flip Flops',\n",
       " 40: 'Footballs',\n",
       " 41: 'Formal Shoes',\n",
       " 42: 'Foundation and Primer',\n",
       " 43: 'Fragrance Gift Set',\n",
       " 44: 'Free Gifts',\n",
       " 45: 'Gloves',\n",
       " 46: 'Hair Accessory',\n",
       " 47: 'Hair Colour',\n",
       " 48: 'Handbags',\n",
       " 49: 'Hat',\n",
       " 50: 'Headband',\n",
       " 51: 'Heels',\n",
       " 52: 'Highlighter and Blush',\n",
       " 53: 'Innerwear Vests',\n",
       " 54: 'Ipad',\n",
       " 55: 'Jackets',\n",
       " 56: 'Jeans',\n",
       " 57: 'Jeggings',\n",
       " 58: 'Jewellery Set',\n",
       " 59: 'Jumpsuit',\n",
       " 60: 'Kajal and Eyeliner',\n",
       " 61: 'Key chain',\n",
       " 62: 'Kurta Sets',\n",
       " 63: 'Kurtas',\n",
       " 64: 'Kurtis',\n",
       " 65: 'Laptop Bag',\n",
       " 66: 'Leggings',\n",
       " 67: 'Lehenga Choli',\n",
       " 68: 'Lip Care',\n",
       " 69: 'Lip Gloss',\n",
       " 70: 'Lip Liner',\n",
       " 71: 'Lip Plumper',\n",
       " 72: 'Lipstick',\n",
       " 73: 'Lounge Pants',\n",
       " 74: 'Lounge Shorts',\n",
       " 75: 'Lounge Tshirts',\n",
       " 76: 'Makeup Remover',\n",
       " 77: 'Mascara',\n",
       " 78: 'Mask and Peel',\n",
       " 79: 'Mens Grooming Kit',\n",
       " 80: 'Messenger Bag',\n",
       " 81: 'Mobile Pouch',\n",
       " 82: 'Mufflers',\n",
       " 83: 'Nail Essentials',\n",
       " 84: 'Nail Polish',\n",
       " 85: 'Necklace and Chains',\n",
       " 86: 'Nehru Jackets',\n",
       " 87: 'Night suits',\n",
       " 88: 'Nightdress',\n",
       " 89: 'Patiala',\n",
       " 90: 'Pendant',\n",
       " 91: 'Perfume and Body Mist',\n",
       " 92: 'Rain Jacket',\n",
       " 93: 'Rain Trousers',\n",
       " 94: 'Ring',\n",
       " 95: 'Robe',\n",
       " 96: 'Rompers',\n",
       " 97: 'Rucksacks',\n",
       " 98: 'Salwar',\n",
       " 99: 'Salwar and Dupatta',\n",
       " 100: 'Sandals',\n",
       " 101: 'Sarees',\n",
       " 102: 'Scarves',\n",
       " 103: 'Shapewear',\n",
       " 104: 'Shirts',\n",
       " 105: 'Shoe Accessories',\n",
       " 106: 'Shoe Laces',\n",
       " 107: 'Shorts',\n",
       " 108: 'Shrug',\n",
       " 109: 'Skirts',\n",
       " 110: 'Socks',\n",
       " 111: 'Sports Sandals',\n",
       " 112: 'Sports Shoes',\n",
       " 113: 'Stockings',\n",
       " 114: 'Stoles',\n",
       " 115: 'Suits',\n",
       " 116: 'Sunglasses',\n",
       " 117: 'Sunscreen',\n",
       " 118: 'Suspenders',\n",
       " 119: 'Sweaters',\n",
       " 120: 'Sweatshirts',\n",
       " 121: 'Swimwear',\n",
       " 122: 'Tablet Sleeve',\n",
       " 123: 'Ties',\n",
       " 124: 'Ties and Cufflinks',\n",
       " 125: 'Tights',\n",
       " 126: 'Toner',\n",
       " 127: 'Tops',\n",
       " 128: 'Track Pants',\n",
       " 129: 'Tracksuits',\n",
       " 130: 'Travel Accessory',\n",
       " 131: 'Trolley Bag',\n",
       " 132: 'Trousers',\n",
       " 133: 'Trunk',\n",
       " 134: 'Tshirts',\n",
       " 135: 'Tunics',\n",
       " 136: 'Umbrellas',\n",
       " 137: 'Waist Pouch',\n",
       " 138: 'Waistcoat',\n",
       " 139: 'Wallets',\n",
       " 140: 'Watches',\n",
       " 141: 'Water Bottle',\n",
       " 142: 'Wristbands'}"
      ]
     },
     "execution_count": 74,
     "metadata": {},
     "output_type": "execute_result"
    }
   ],
   "source": [
    "dict(enumerate(styles['articleType'].cat.categories))"
   ]
  },
  {
   "cell_type": "code",
   "execution_count": 77,
   "metadata": {},
   "outputs": [
    {
     "data": {
      "text/plain": [
       "{104: 'Shirts',\n",
       " 56: 'Jeans',\n",
       " 140: 'Watches',\n",
       " 128: 'Track Pants',\n",
       " 134: 'Tshirts',\n",
       " 110: 'Socks',\n",
       " 19: 'Casual Shoes',\n",
       " 7: 'Belts',\n",
       " 39: 'Flip Flops',\n",
       " 48: 'Handbags',\n",
       " 127: 'Tops',\n",
       " 13: 'Bra',\n",
       " 100: 'Sandals',\n",
       " 105: 'Shoe Accessories',\n",
       " 120: 'Sweatshirts',\n",
       " 27: 'Deodorant',\n",
       " 41: 'Formal Shoes',\n",
       " 14: 'Bracelet',\n",
       " 72: 'Lipstick',\n",
       " 38: 'Flats',\n",
       " 63: 'Kurtas',\n",
       " 138: 'Waistcoat',\n",
       " 112: 'Sports Shoes',\n",
       " 107: 'Shorts',\n",
       " 15: 'Briefs',\n",
       " 101: 'Sarees',\n",
       " 91: 'Perfume and Body Mist',\n",
       " 51: 'Heels',\n",
       " 116: 'Sunglasses',\n",
       " 53: 'Innerwear Vests',\n",
       " 90: 'Pendant',\n",
       " 84: 'Nail Polish',\n",
       " 65: 'Laptop Bag',\n",
       " 102: 'Scarves',\n",
       " 92: 'Rain Jacket',\n",
       " 28: 'Dresses',\n",
       " 87: 'Night suits',\n",
       " 109: 'Skirts',\n",
       " 139: 'Wallets',\n",
       " 8: 'Blazers',\n",
       " 94: 'Ring',\n",
       " 62: 'Kurta Sets',\n",
       " 22: 'Clutches',\n",
       " 108: 'Shrug',\n",
       " 2: 'Backpacks',\n",
       " 18: 'Caps',\n",
       " 132: 'Trousers',\n",
       " 31: 'Earrings',\n",
       " 16: 'Camisoles',\n",
       " 12: 'Boxers',\n",
       " 58: 'Jewellery Set',\n",
       " 30: 'Dupatta',\n",
       " 17: 'Capris',\n",
       " 69: 'Lip Gloss',\n",
       " 5: 'Bath Robe',\n",
       " 82: 'Mufflers',\n",
       " 135: 'Tunics',\n",
       " 55: 'Jackets',\n",
       " 133: 'Trunk',\n",
       " 73: 'Lounge Pants',\n",
       " 37: 'Face Wash and Cleanser',\n",
       " 85: 'Necklace and Chains',\n",
       " 29: 'Duffel Bag',\n",
       " 111: 'Sports Sandals',\n",
       " 42: 'Foundation and Primer',\n",
       " 119: 'Sweaters',\n",
       " 44: 'Free Gifts',\n",
       " 131: 'Trolley Bag',\n",
       " 129: 'Tracksuits',\n",
       " 121: 'Swimwear',\n",
       " 106: 'Shoe Laces',\n",
       " 43: 'Fragrance Gift Set',\n",
       " 3: 'Bangle',\n",
       " 88: 'Nightdress',\n",
       " 123: 'Ties',\n",
       " 1: 'Baby Dolls',\n",
       " 66: 'Leggings',\n",
       " 52: 'Highlighter and Blush',\n",
       " 130: 'Travel Accessory',\n",
       " 64: 'Kurtis',\n",
       " 81: 'Mobile Pouch',\n",
       " 80: 'Messenger Bag',\n",
       " 68: 'Lip Care',\n",
       " 34: 'Face Moisturisers',\n",
       " 23: 'Compact',\n",
       " 32: 'Eye Cream',\n",
       " 0: 'Accessory Gift Set',\n",
       " 6: 'Beauty Accessory',\n",
       " 59: 'Jumpsuit',\n",
       " 60: 'Kajal and Eyeliner',\n",
       " 141: 'Water Bottle',\n",
       " 118: 'Suspenders',\n",
       " 70: 'Lip Liner',\n",
       " 95: 'Robe',\n",
       " 99: 'Salwar and Dupatta',\n",
       " 89: 'Patiala',\n",
       " 113: 'Stockings',\n",
       " 33: 'Eyeshadow',\n",
       " 50: 'Headband',\n",
       " 125: 'Tights',\n",
       " 83: 'Nail Essentials',\n",
       " 20: 'Churidar',\n",
       " 75: 'Lounge Tshirts',\n",
       " 35: 'Face Scrub and Exfoliator',\n",
       " 74: 'Lounge Shorts',\n",
       " 45: 'Gloves',\n",
       " 78: 'Mask and Peel',\n",
       " 142: 'Wristbands',\n",
       " 122: 'Tablet Sleeve',\n",
       " 124: 'Ties and Cufflinks',\n",
       " 40: 'Footballs',\n",
       " 114: 'Stoles',\n",
       " 103: 'Shapewear',\n",
       " 86: 'Nehru Jackets',\n",
       " 98: 'Salwar',\n",
       " 25: 'Cufflinks',\n",
       " 57: 'Jeggings',\n",
       " 47: 'Hair Colour',\n",
       " 24: 'Concealer',\n",
       " 96: 'Rompers',\n",
       " 9: 'Body Lotion',\n",
       " 117: 'Sunscreen',\n",
       " 11: 'Booties',\n",
       " 137: 'Waist Pouch',\n",
       " 46: 'Hair Accessory',\n",
       " 97: 'Rucksacks',\n",
       " 4: 'Basketballs',\n",
       " 67: 'Lehenga Choli',\n",
       " 21: 'Clothing Set',\n",
       " 77: 'Mascara',\n",
       " 126: 'Toner',\n",
       " 26: 'Cushion Covers',\n",
       " 61: 'Key chain',\n",
       " 76: 'Makeup Remover',\n",
       " 71: 'Lip Plumper',\n",
       " 136: 'Umbrellas',\n",
       " 36: 'Face Serum and Gel',\n",
       " 49: 'Hat',\n",
       " 79: 'Mens Grooming Kit',\n",
       " 93: 'Rain Trousers',\n",
       " 10: 'Body Wash and Scrub',\n",
       " 54: 'Ipad'}"
      ]
     },
     "execution_count": 77,
     "metadata": {},
     "output_type": "execute_result"
    }
   ],
   "source": [
    "dict(zip(styles['articleType'].cat.codes, styles['articleType']))"
   ]
  },
  {
   "cell_type": "code",
   "execution_count": null,
   "metadata": {},
   "outputs": [],
   "source": []
  }
 ],
 "metadata": {
  "colab": {
   "name": "PreProcessing_TransferLearning.ipynb",
   "provenance": []
  },
  "kernelspec": {
   "display_name": "Python 3",
   "language": "python",
   "name": "python3"
  },
  "language_info": {
   "codemirror_mode": {
    "name": "ipython",
    "version": 3
   },
   "file_extension": ".py",
   "mimetype": "text/x-python",
   "name": "python",
   "nbconvert_exporter": "python",
   "pygments_lexer": "ipython3",
   "version": "3.7.4"
  }
 },
 "nbformat": 4,
 "nbformat_minor": 1
}
