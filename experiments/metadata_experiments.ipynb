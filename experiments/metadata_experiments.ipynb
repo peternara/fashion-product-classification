{
 "cells": [
  {
   "cell_type": "code",
   "execution_count": 1,
   "metadata": {},
   "outputs": [],
   "source": [
    "import sys\n",
    "sys.path.append('../')\n",
    "\n",
    "from src.datasets.preprocess import Preprocessor\n",
    "from src.tests.util import PATH\n",
    "import logging\n",
    "\n",
    "logging.basicConfig(level=logging.INFO)"
   ]
  },
  {
   "cell_type": "code",
   "execution_count": 2,
   "metadata": {},
   "outputs": [
    {
     "name": "stderr",
     "output_type": "stream",
     "text": [
      "INFO:fashion:Cleaning csv\n",
      "INFO:fashion:Reading clean csv into df\n",
      "INFO:fashion:Splitting into test-train\n",
      "INFO:fashion:Sub-splitting based on top-20 classes\n",
      "INFO:fashion:Create maps for categoires\n"
     ]
    }
   ],
   "source": [
    "processor = Preprocessor(PATH)"
   ]
  },
  {
   "cell_type": "code",
   "execution_count": 3,
   "metadata": {},
   "outputs": [
    {
     "data": {
      "text/plain": [
       "{'Apparel': 0,\n",
       " 'Accessories': 1,\n",
       " 'Footwear': 2,\n",
       " 'Personal Care': 3,\n",
       " 'Free Items': 4,\n",
       " 'Sporting Goods': 5,\n",
       " 'Home': 6}"
      ]
     },
     "execution_count": 3,
     "metadata": {},
     "output_type": "execute_result"
    }
   ],
   "source": [
    "processor.mastercat_map"
   ]
  },
  {
   "cell_type": "code",
   "execution_count": 4,
   "metadata": {},
   "outputs": [
    {
     "data": {
      "text/plain": [
       "{'Topwear': 0,\n",
       " 'Bottomwear': 1,\n",
       " 'Watches': 2,\n",
       " 'Socks': 3,\n",
       " 'Shoes': 4,\n",
       " 'Belts': 5,\n",
       " 'Flip Flops': 6,\n",
       " 'Bags': 7,\n",
       " 'Innerwear': 8,\n",
       " 'Sandal': 9,\n",
       " 'Shoe Accessories': 10,\n",
       " 'Fragrance': 11,\n",
       " 'Jewellery': 12,\n",
       " 'Lips': 13,\n",
       " 'Saree': 14,\n",
       " 'Eyewear': 15,\n",
       " 'Nails': 16,\n",
       " 'Scarves': 17,\n",
       " 'Dress': 18,\n",
       " 'Loungewear and Nightwear': 19,\n",
       " 'Wallets': 20,\n",
       " 'Apparel Set': 21,\n",
       " 'Headwear': 22,\n",
       " 'Mufflers': 23,\n",
       " 'Skin Care': 24,\n",
       " 'Makeup': 25,\n",
       " 'Free Gifts': 26,\n",
       " 'Ties': 27,\n",
       " 'Accessories': 28,\n",
       " 'Skin': 29,\n",
       " 'Beauty Accessories': 30,\n",
       " 'Water Bottle': 31,\n",
       " 'Eyes': 32,\n",
       " 'Bath and Body': 33,\n",
       " 'Gloves': 34,\n",
       " 'Sports Accessories': 35,\n",
       " 'Cufflinks': 36,\n",
       " 'Sports Equipment': 37,\n",
       " 'Stoles': 38,\n",
       " 'Hair': 39,\n",
       " 'Perfumes': 40,\n",
       " 'Home Furnishing': 41,\n",
       " 'Umbrellas': 42,\n",
       " 'Wristbands': 43,\n",
       " 'Vouchers': 44}"
      ]
     },
     "execution_count": 4,
     "metadata": {},
     "output_type": "execute_result"
    }
   ],
   "source": [
    "processor.subcat_map"
   ]
  },
  {
   "cell_type": "markdown",
   "metadata": {},
   "source": [
    "### Train simple NB models"
   ]
  },
  {
   "cell_type": "code",
   "execution_count": 10,
   "metadata": {},
   "outputs": [],
   "source": [
    "import numpy as np\n",
    "from sklearn.model_selection import train_test_split\n",
    "from sklearn.feature_extraction.text import CountVectorizer\n",
    "from sklearn.feature_extraction.text import TfidfTransformer\n",
    "from sklearn.naive_bayes import MultinomialNB\n",
    "\n",
    "def evaluate(styles, get_clf=False, split=True):\n",
    "    styles = styles.dropna()\n",
    "    if split:\n",
    "        styles_train, styles_val = train_test_split(styles, test_size=0.2)\n",
    "    else:\n",
    "        styles_train = styles\n",
    "        styles_val = styles\n",
    "    \n",
    "    count_vect = CountVectorizer()\n",
    "    X_train = count_vect.fit_transform(styles_train.productDisplayName)\n",
    "    if split:\n",
    "        X_val = count_vect.transform(styles_val.productDisplayName)\n",
    "    else:\n",
    "        X_val = X_train\n",
    "    \n",
    "    print(X_train.shape)\n",
    "    \n",
    "    y_train = styles_train.articleType.values\n",
    "    y_val = styles_val.articleType.values\n",
    "    \n",
    "    clf = MultinomialNB()\n",
    "    clf.fit(X_train, y_train)\n",
    "    pred = clf.predict(X_val)\n",
    "    \n",
    "    if get_clf:\n",
    "        return clf, count_vect, np.mean(pred == y_val)\n",
    "    else:\n",
    "        return np.mean(pred == y_val)"
   ]
  },
  {
   "cell_type": "code",
   "execution_count": 11,
   "metadata": {},
   "outputs": [
    {
     "name": "stdout",
     "output_type": "stream",
     "text": [
      "(35257, 7718)\n"
     ]
    },
    {
     "data": {
      "text/plain": [
       "0.8545660805445264"
      ]
     },
     "execution_count": 11,
     "metadata": {},
     "output_type": "execute_result"
    }
   ],
   "source": [
    "# Complete data\n",
    "\n",
    "evaluate(processor.styles)"
   ]
  },
  {
   "cell_type": "code",
   "execution_count": 53,
   "metadata": {},
   "outputs": [
    {
     "data": {
      "text/plain": [
       "0.8625552515259945"
      ]
     },
     "execution_count": 53,
     "metadata": {},
     "output_type": "execute_result"
    }
   ],
   "source": [
    "# Train split\n",
    "\n",
    "evaluate(processor.full_train)"
   ]
  },
  {
   "cell_type": "code",
   "execution_count": 54,
   "metadata": {},
   "outputs": [
    {
     "name": "stdout",
     "output_type": "stream",
     "text": [
      "Train split acc: 0.9659735349716446\n",
      "Test acc: 0.852290783898305\n"
     ]
    }
   ],
   "source": [
    "import pandas as pd\n",
    "\n",
    "# Top-20 train split\n",
    "\n",
    "df = pd.concat((processor.data_top20_map['train'], processor.data_top20_map['val']))\n",
    "clf, vect, acc = evaluate(df, True, False)\n",
    "print(\"Train split acc: {}\".format(acc))\n",
    "\n",
    "df = processor.data_top20_map['test'].dropna()\n",
    "X_test = vect.transform(df.productDisplayName)\n",
    "y_test = df.articleType.values\n",
    "\n",
    "pred = clf.predict(X_test)\n",
    "print(\"Test acc: {}\".format(np.mean(pred == y_test)))"
   ]
  },
  {
   "cell_type": "code",
   "execution_count": 55,
   "metadata": {},
   "outputs": [
    {
     "name": "stdout",
     "output_type": "stream",
     "text": [
      "Train split acc: 0.9225169006760271\n",
      "Test acc: 0.42547477460195665\n"
     ]
    }
   ],
   "source": [
    "# Fine-tune train split\n",
    "\n",
    "df = pd.concat((processor.data_ft_map['train'], processor.data_ft_map['val']))\n",
    "clf, vect, acc = evaluate(df, True, False)\n",
    "print(\"Train split acc: {}\".format(acc))\n",
    "\n",
    "df = processor.data_ft_map['test'].dropna()\n",
    "X_test = vect.transform(df.productDisplayName)\n",
    "y_test = df.articleType.values\n",
    "\n",
    "pred = clf.predict(X_test)\n",
    "print(\"Test acc: {}\".format(np.mean(pred == y_test)))"
   ]
  },
  {
   "cell_type": "code",
   "execution_count": null,
   "metadata": {},
   "outputs": [],
   "source": []
  }
 ],
 "metadata": {
  "kernelspec": {
   "display_name": "Python 3.7.4 64-bit ('ml': conda)",
   "language": "python",
   "name": "python37464bitmlcondaa8f3f69cf251458aa86fbbc582b758f6"
  },
  "language_info": {
   "codemirror_mode": {
    "name": "ipython",
    "version": 3
   },
   "file_extension": ".py",
   "mimetype": "text/x-python",
   "name": "python",
   "nbconvert_exporter": "python",
   "pygments_lexer": "ipython3",
   "version": "3.7.4"
  }
 },
 "nbformat": 4,
 "nbformat_minor": 4
}
